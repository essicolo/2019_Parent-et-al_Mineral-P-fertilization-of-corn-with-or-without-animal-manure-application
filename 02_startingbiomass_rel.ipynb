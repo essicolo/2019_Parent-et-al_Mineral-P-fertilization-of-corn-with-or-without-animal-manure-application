{
 "cells": [
  {
   "cell_type": "markdown",
   "metadata": {},
   "source": [
    "# Question 1. Is early plant growth related to crop performance?\n",
    "\n",
    "Phosphorus dosage is known to increase starting biomass. This notebook explores if the starting biomass affecting performance. The statistical tool used is a linear mixed model."
   ]
  },
  {
   "cell_type": "markdown",
   "metadata": {},
   "source": [
    "Load data exported from the preprossing session."
   ]
  },
  {
   "cell_type": "code",
   "execution_count": 1,
   "metadata": {},
   "outputs": [],
   "source": [
    "load(\"output/preprocessed.RData\")"
   ]
  },
  {
   "cell_type": "markdown",
   "metadata": {},
   "source": [
    "... and load the pacakges."
   ]
  },
  {
   "cell_type": "code",
   "execution_count": 2,
   "metadata": {},
   "outputs": [
    {
     "name": "stderr",
     "output_type": "stream",
     "text": [
      "-- \u001b[1mAttaching packages\u001b[22m --------------------------------------- tidyverse 1.3.0 --\n",
      "\n",
      "\u001b[32mv\u001b[39m \u001b[34mggplot2\u001b[39m 3.3.0     \u001b[32mv\u001b[39m \u001b[34mpurrr  \u001b[39m 0.3.3\n",
      "\u001b[32mv\u001b[39m \u001b[34mtibble \u001b[39m 2.1.3     \u001b[32mv\u001b[39m \u001b[34mdplyr  \u001b[39m 0.8.5\n",
      "\u001b[32mv\u001b[39m \u001b[34mtidyr  \u001b[39m 1.0.2     \u001b[32mv\u001b[39m \u001b[34mstringr\u001b[39m 1.4.0\n",
      "\u001b[32mv\u001b[39m \u001b[34mreadr  \u001b[39m 1.3.1     \u001b[32mv\u001b[39m \u001b[34mforcats\u001b[39m 0.5.0\n",
      "\n",
      "-- \u001b[1mConflicts\u001b[22m ------------------------------------------ tidyverse_conflicts() --\n",
      "\u001b[31mx\u001b[39m \u001b[34mdplyr\u001b[39m::\u001b[32mfilter()\u001b[39m masks \u001b[34mstats\u001b[39m::filter()\n",
      "\u001b[31mx\u001b[39m \u001b[34mdplyr\u001b[39m::\u001b[32mlag()\u001b[39m    masks \u001b[34mstats\u001b[39m::lag()\n",
      "\n",
      "\n",
      "Attaching package: 'nlme'\n",
      "\n",
      "\n",
      "The following object is masked from 'package:dplyr':\n",
      "\n",
      "    collapse\n",
      "\n",
      "\n",
      "\n",
      "********************************************************\n",
      "\n",
      "Note: As of version 1.0.0, cowplot does not change the\n",
      "\n",
      "  default ggplot2 theme anymore. To recover the previous\n",
      "\n",
      "  behavior, execute:\n",
      "  theme_set(theme_cowplot())\n",
      "\n",
      "********************************************************\n",
      "\n",
      "\n"
     ]
    }
   ],
   "source": [
    "library(\"tidyverse\")\n",
    "library(\"nlme\")\n",
    "library(\"cowplot\")\n",
    "source(\"libs/functions.R\")"
   ]
  },
  {
   "cell_type": "markdown",
   "metadata": {},
   "source": [
    "We will later need performance values relative to the control (*témoin* in French)."
   ]
  },
  {
   "cell_type": "code",
   "execution_count": 3,
   "metadata": {},
   "outputs": [],
   "source": [
    "data_rs <- data_rs %>%\n",
    "  group_by(ID) %>%\n",
    "  mutate(yield_rel = yield_t.ha - yield_t.ha[P_treatment == \"control\"],\n",
    "         graindensity_rel = graindensity_g.L - graindensity_g.L[P_treatment == \"control\"],\n",
    "         grainmoisture_rel = grainmoisture_perc - grainmoisture_perc[P_treatment == \"control\"],\n",
    "         plantbiomass_rel = plantbiomass_g - plantbiomass_g[P_treatment == \"control\"]) %>%\n",
    "  filter(P_treatment != \"control\") %>%\n",
    "  ungroup()"
   ]
  },
  {
   "cell_type": "markdown",
   "metadata": {},
   "source": [
    "## Effect of starting biomass on **yield**\n",
    "\n",
    "Before running the mixed model, we clean our data set.\n",
    "\n",
    "- Year 2000 was characterized with extreme weather events affecting crop performance. Because the following analysis don't take into account weather variables, we removed year 2000 from the analyses of this section. \n",
    "- We remove outlier relative starting biomassees greater than 5 g.\n",
    "- We prepare our data by isolating the variables we need and removing lines containing `NA`s. "
   ]
  },
  {
   "cell_type": "code",
   "execution_count": 4,
   "metadata": {},
   "outputs": [],
   "source": [
    "data_yield <- data_rs %>%\n",
    "  filter(plantbiomass_rel < 5 & Year != 2000) %>%\n",
    "  select(ID, Year, yield_rel, plantbiomass_rel) %>%\n",
    "  mutate(Year = factor(Year)) %>%\n",
    "  drop_na() %>%\n",
    "  droplevels()"
   ]
  },
  {
   "cell_type": "markdown",
   "metadata": {},
   "source": [
    "The mixed model has a random effect where ID is nested in year."
   ]
  },
  {
   "cell_type": "code",
   "execution_count": 5,
   "metadata": {},
   "outputs": [],
   "source": [
    "mm_yield <- lme(yield_rel ~ plantbiomass_rel,\n",
    "                random = ~ 1|Year/ID,\n",
    "                data = data_yield)"
   ]
  },
  {
   "cell_type": "markdown",
   "metadata": {},
   "source": [
    "Model's statistics."
   ]
  },
  {
   "cell_type": "code",
   "execution_count": 6,
   "metadata": {},
   "outputs": [
    {
     "data": {
      "text/plain": [
       "Linear mixed-effects model fit by REML\n",
       " Data: data_yield \n",
       "      AIC      BIC   logLik\n",
       "  478.628 495.5734 -234.314\n",
       "\n",
       "Random effects:\n",
       " Formula: ~1 | Year\n",
       "        (Intercept)\n",
       "StdDev:   0.2604322\n",
       "\n",
       " Formula: ~1 | ID %in% Year\n",
       "        (Intercept)  Residual\n",
       "StdDev:   0.5378844 0.5061566\n",
       "\n",
       "Fixed effects: yield_rel ~ plantbiomass_rel \n",
       "                       Value  Std.Error  DF   t-value p-value\n",
       "(Intercept)      -0.06564493 0.13949572 117 -0.470587  0.6388\n",
       "plantbiomass_rel  0.19019743 0.05182102  97  3.670275  0.0004\n",
       " Correlation: \n",
       "                 (Intr)\n",
       "plantbiomass_rel -0.165\n",
       "\n",
       "Standardized Within-Group Residuals:\n",
       "        Min          Q1         Med          Q3         Max \n",
       "-2.54417641 -0.44071890  0.02673618  0.44778884  2.54089411 \n",
       "\n",
       "Number of Observations: 221\n",
       "Number of Groups: \n",
       "        Year ID %in% Year \n",
       "           6          123 "
      ]
     },
     "metadata": {},
     "output_type": "display_data"
    }
   ],
   "source": [
    "summary(mm_yield)"
   ]
  },
  {
   "cell_type": "markdown",
   "metadata": {},
   "source": [
    "Model residuals."
   ]
  },
  {
   "cell_type": "code",
   "execution_count": 7,
   "metadata": {},
   "outputs": [
    {
     "data": {
      "image/png": "[encoded data removed]",
      "text/plain": [
       "plot without title"
      ]
     },
     "metadata": {
      "image/png": {
       "height": 240,
       "width": 240
      },
      "text/plain": {
       "height": 240,
       "width": 240
      }
     },
     "output_type": "display_data"
    }
   ],
   "source": [
    "options(repr.plot.width = 4, repr.plot.height = 4)\n",
    "plot(mm_yield)"
   ]
  },
  {
   "cell_type": "code",
   "execution_count": 8,
   "metadata": {},
   "outputs": [
    {
     "data": {
      "text/html": [
       "0.482127193676989"
      ],
      "text/latex": [
       "0.482127193676989"
      ],
      "text/markdown": [
       "0.482127193676989"
      ],
      "text/plain": [
       "[1] 0.4821272"
      ]
     },
     "metadata": {},
     "output_type": "display_data"
    }
   ],
   "source": [
    "rsq(y = data_yield$yield_rel,\n",
    "    y_hat = predict(mm_yield))"
   ]
  },
  {
   "cell_type": "code",
   "execution_count": 9,
   "metadata": {},
   "outputs": [
    {
     "data": {
      "text/html": [
       "0.0672313552521377"
      ],
      "text/latex": [
       "0.0672313552521377"
      ],
      "text/markdown": [
       "0.0672313552521377"
      ],
      "text/plain": [
       "[1] 0.06723136"
      ]
     },
     "metadata": {},
     "output_type": "display_data"
    }
   ],
   "source": [
    "rsq(y = data_yield$yield_rel,\n",
    "    y_hat = predict(mm_yield, level = 0))"
   ]
  },
  {
   "cell_type": "markdown",
   "metadata": {},
   "source": [
    "The R² is very low without the random effect. "
   ]
  },
  {
   "cell_type": "code",
   "execution_count": 10,
   "metadata": {},
   "outputs": [
    {
     "data": {
      "text/plain": [
       "Approximate 95% confidence intervals\n",
       "\n",
       " Fixed effects:\n",
       "                       lower        est.     upper\n",
       "(Intercept)      -0.34190890 -0.06564493 0.2106190\n",
       "plantbiomass_rel  0.08734704  0.19019743 0.2930478\n",
       "attr(,\"label\")\n",
       "[1] \"Fixed effects:\""
      ]
     },
     "metadata": {},
     "output_type": "display_data"
    }
   ],
   "source": [
    "mm_yield_ci <- intervals(mm_yield, which = \"fixed\")\n",
    "mm_yield_ci"
   ]
  },
  {
   "cell_type": "markdown",
   "metadata": {},
   "source": [
    "The intercept is unlikely to differ from 0, which means that no difference from control in plant biomass was likely associated with no difference from control in yield. Also, data were likely sample from a distribution where the slope is not null, with 0.19 +/- 0.10 additional t/ha for each additional g, at the 95% level. However, the yield gain is marginal and uncertain. For example, a gain in 1 g was associated with a gain of 0.19 t/ha +/- 0.10 t/ha."
   ]
  },
  {
   "cell_type": "code",
   "execution_count": 11,
   "metadata": {},
   "outputs": [
    {
     "data": {
      "image/png": "[encoded data removed]",
      "text/plain": [
       "plot without title"
      ]
     },
     "metadata": {
      "image/png": {
       "height": 240,
       "width": 240
      },
      "text/plain": {
       "height": 240,
       "width": 240
      }
     },
     "output_type": "display_data"
    }
   ],
   "source": [
    "gg_yield <- ggplot(data = data_yield, \n",
    "       mapping = aes(x = plantbiomass_rel, y = yield_rel)) +\n",
    "  geom_point(alpha = 0.1) +\n",
    "  geom_abline(aes(slope = fixef(mm_yield)[2],\n",
    "                  intercept = fixef(mm_yield)[1]),\n",
    "              lwd = 1) +\n",
    "  labs(x = \"Plant biomass, stage 4-9 leaves (delta control, g)\",\n",
    "       y = expression(\"Grain yield (delta control, Mg ha\"^\"-1\"~\")\")) +\n",
    "  theme_bw()\n",
    "gg_yield"
   ]
  },
  {
   "cell_type": "markdown",
   "metadata": {},
   "source": [
    "## Effect of starting biomass on **grain density**\n",
    "\n",
    "Before running the mixed model, we clean our data set.\n",
    "\n",
    "- Year 2000 was characterized with extreme weather events affecting crop performance. Because the following analysis don't take into account weather variables, we removed year 2000 from the analyses of this section. \n",
    "- We remove outlier relative starting biomasses greater than 5 g.\n",
    "- We prepare our data by isolating the variables we need and removing lines containing `NA`s. "
   ]
  },
  {
   "cell_type": "code",
   "execution_count": 12,
   "metadata": {},
   "outputs": [],
   "source": [
    "data_dens <- data_rs %>%\n",
    "  filter(plantbiomass_rel < 5 & Year != 2000) %>%\n",
    "  select(ID, Year, graindensity_rel, plantbiomass_rel) %>%\n",
    "  mutate(Year = factor(Year)) %>%\n",
    "  drop_na() %>%\n",
    "  droplevels()"
   ]
  },
  {
   "cell_type": "markdown",
   "metadata": {},
   "source": [
    "The mixed model has a random effect where ID is nested in year."
   ]
  },
  {
   "cell_type": "code",
   "execution_count": 13,
   "metadata": {},
   "outputs": [],
   "source": [
    "mm_dens <- lme(graindensity_rel ~ plantbiomass_rel,\n",
    "               random = ~ 1|Year/ID,\n",
    "               data = data_dens)"
   ]
  },
  {
   "cell_type": "markdown",
   "metadata": {},
   "source": [
    "Model's statistics."
   ]
  },
  {
   "cell_type": "code",
   "execution_count": 14,
   "metadata": {},
   "outputs": [
    {
     "data": {
      "text/plain": [
       "Linear mixed-effects model fit by REML\n",
       " Data: data_dens \n",
       "       AIC      BIC    logLik\n",
       "  1477.429 1494.188 -733.7144\n",
       "\n",
       "Random effects:\n",
       " Formula: ~1 | Year\n",
       "        (Intercept)\n",
       "StdDev:   0.5909417\n",
       "\n",
       " Formula: ~1 | ID %in% Year\n",
       "        (Intercept) Residual\n",
       "StdDev:    7.672147 4.836554\n",
       "\n",
       "Fixed effects: graindensity_rel ~ plantbiomass_rel \n",
       "                     Value Std.Error  DF  t-value p-value\n",
       "(Intercept)      0.4863276 0.8937763 114 0.544127  0.5874\n",
       "plantbiomass_rel 2.0209229 0.6202635  93 3.258168  0.0016\n",
       " Correlation: \n",
       "                 (Intr)\n",
       "plantbiomass_rel -0.278\n",
       "\n",
       "Standardized Within-Group Residuals:\n",
       "        Min          Q1         Med          Q3         Max \n",
       "-2.46439787 -0.41518603 -0.01265123  0.45394057  2.10281109 \n",
       "\n",
       "Number of Observations: 213\n",
       "Number of Groups: \n",
       "        Year ID %in% Year \n",
       "           5          119 "
      ]
     },
     "metadata": {},
     "output_type": "display_data"
    }
   ],
   "source": [
    "summary(mm_dens)"
   ]
  },
  {
   "cell_type": "markdown",
   "metadata": {},
   "source": [
    "Model residuals."
   ]
  },
  {
   "cell_type": "code",
   "execution_count": 15,
   "metadata": {},
   "outputs": [
    {
     "data": {
      "image/png": "[encoded data removed]",
      "text/plain": [
       "plot without title"
      ]
     },
     "metadata": {
      "image/png": {
       "height": 240,
       "width": 240
      },
      "text/plain": {
       "height": 240,
       "width": 240
      }
     },
     "output_type": "display_data"
    }
   ],
   "source": [
    "plot(mm_dens)"
   ]
  },
  {
   "cell_type": "code",
   "execution_count": 16,
   "metadata": {},
   "outputs": [
    {
     "data": {
      "text/html": [
       "0.61106714403138"
      ],
      "text/latex": [
       "0.61106714403138"
      ],
      "text/markdown": [
       "0.61106714403138"
      ],
      "text/plain": [
       "[1] 0.6110671"
      ]
     },
     "metadata": {},
     "output_type": "display_data"
    }
   ],
   "source": [
    "rsq(y = data_dens$graindensity_rel,\n",
    "    y_hat = predict(mm_dens))"
   ]
  },
  {
   "cell_type": "code",
   "execution_count": 17,
   "metadata": {},
   "outputs": [
    {
     "data": {
      "text/html": [
       "0.0528588115790866"
      ],
      "text/latex": [
       "0.0528588115790866"
      ],
      "text/markdown": [
       "0.0528588115790866"
      ],
      "text/plain": [
       "[1] 0.05285881"
      ]
     },
     "metadata": {},
     "output_type": "display_data"
    }
   ],
   "source": [
    "rsq(y = data_dens$graindensity_rel,\n",
    "    y_hat = predict(mm_dens, level = 0))"
   ]
  },
  {
   "cell_type": "markdown",
   "metadata": {},
   "source": [
    "The R² is very low without the random effect. "
   ]
  },
  {
   "cell_type": "code",
   "execution_count": 18,
   "metadata": {},
   "outputs": [
    {
     "data": {
      "text/plain": [
       "Approximate 95% confidence intervals\n",
       "\n",
       " Fixed effects:\n",
       "                      lower      est.    upper\n",
       "(Intercept)      -1.2842364 0.4863276 2.256892\n",
       "plantbiomass_rel  0.7892025 2.0209229 3.252643\n",
       "attr(,\"label\")\n",
       "[1] \"Fixed effects:\""
      ]
     },
     "metadata": {},
     "output_type": "display_data"
    }
   ],
   "source": [
    "mm_dens_ci <- intervals(mm_dens, which = \"fixed\")\n",
    "mm_dens_ci"
   ]
  },
  {
   "cell_type": "markdown",
   "metadata": {},
   "source": [
    "The intercept is unlikely to differ from 0, which means that no difference from control in plant biomass was likely associated with no difference from control in density. Also, data were likely sample from a distribution where the slope is not null, although uncertain with 2.02 +/- 1.23 additional g/L for each additionnal g, at the 95% level. The density gain is marginal and uncertain."
   ]
  },
  {
   "cell_type": "code",
   "execution_count": 19,
   "metadata": {},
   "outputs": [
    {
     "data": {
      "image/png": "[encoded data removed]",
      "text/plain": [
       "plot without title"
      ]
     },
     "metadata": {
      "image/png": {
       "height": 240,
       "width": 240
      },
      "text/plain": {
       "height": 240,
       "width": 240
      }
     },
     "output_type": "display_data"
    }
   ],
   "source": [
    "gg_density <- ggplot(data = data_dens, \n",
    "                     mapping = aes(x = plantbiomass_rel, y = graindensity_rel)) +\n",
    "  geom_point(alpha = 0.1) +\n",
    "  geom_abline(aes(slope = fixef(mm_dens)[2],\n",
    "                  intercept = fixef(mm_dens)[1]),\n",
    "              lwd = 1) +\n",
    "  labs(x = \"Plant biomass, stage 4-9 leaves (delta control, g)\",\n",
    "       y = expression(\"Bulk density (delta control, g L\"^\"-1\"~\")\")) +\n",
    "  theme_bw()\n",
    "gg_density"
   ]
  },
  {
   "cell_type": "markdown",
   "metadata": {},
   "source": [
    "## Effect of starting biomass on **grain moisture**\n",
    "\n",
    "Before running the mixed model, we clean our data set.\n",
    "\n",
    "- Year 2000 was characterized with extreme weather events affecting crop performance. Because the following analysis don't take into account weather variables, we removed year 2000 from the analyses of this section. \n",
    "- We remove outlier relative starting bomasses greater than 5 g.\n",
    "- We prepare our data by isolating the variables we need and removing lines containing `NA`s. "
   ]
  },
  {
   "cell_type": "code",
   "execution_count": 20,
   "metadata": {},
   "outputs": [],
   "source": [
    "data_moist <- data_rs %>%\n",
    "  filter(plantbiomass_rel < 5 & Year != 2000) %>%\n",
    "  select(ID, Year, grainmoisture_rel, plantbiomass_rel) %>%\n",
    "  mutate(Year = factor(Year)) %>%\n",
    "  drop_na() %>%\n",
    "  droplevels()"
   ]
  },
  {
   "cell_type": "markdown",
   "metadata": {},
   "source": [
    "The mixed model has a random effect where ID is nested in year."
   ]
  },
  {
   "cell_type": "code",
   "execution_count": 21,
   "metadata": {},
   "outputs": [],
   "source": [
    "mm_moist <- lme(grainmoisture_rel ~ plantbiomass_rel,\n",
    "                random = ~ 1|Year/ID,\n",
    "                data = data_moist)"
   ]
  },
  {
   "cell_type": "markdown",
   "metadata": {},
   "source": [
    "Model's statistics."
   ]
  },
  {
   "cell_type": "code",
   "execution_count": 22,
   "metadata": {},
   "outputs": [
    {
     "data": {
      "text/plain": [
       "Linear mixed-effects model fit by REML\n",
       " Data: data_moist \n",
       "       AIC      BIC   logLik\n",
       "  808.7779 825.5372 -399.389\n",
       "\n",
       "Random effects:\n",
       " Formula: ~1 | Year\n",
       "        (Intercept)\n",
       "StdDev:    0.712543\n",
       "\n",
       " Formula: ~1 | ID %in% Year\n",
       "        (Intercept) Residual\n",
       "StdDev:     1.12936 1.196436\n",
       "\n",
       "Fixed effects: grainmoisture_rel ~ plantbiomass_rel \n",
       "                      Value Std.Error  DF    t-value p-value\n",
       "(Intercept)      -0.2436202 0.3726955 114 -0.6536708  0.5146\n",
       "plantbiomass_rel -0.3852601 0.1235629  93 -3.1179263  0.0024\n",
       " Correlation: \n",
       "                 (Intr)\n",
       "plantbiomass_rel -0.11 \n",
       "\n",
       "Standardized Within-Group Residuals:\n",
       "        Min          Q1         Med          Q3         Max \n",
       "-2.80716581 -0.44004843  0.02366551  0.40206610  4.05114799 \n",
       "\n",
       "Number of Observations: 213\n",
       "Number of Groups: \n",
       "        Year ID %in% Year \n",
       "           5          119 "
      ]
     },
     "metadata": {},
     "output_type": "display_data"
    }
   ],
   "source": [
    "summary(mm_moist)"
   ]
  },
  {
   "cell_type": "markdown",
   "metadata": {},
   "source": [
    "Model residuals."
   ]
  },
  {
   "cell_type": "code",
   "execution_count": 23,
   "metadata": {},
   "outputs": [
    {
     "data": {
      "image/png": "[encoded data removed]",
      "text/plain": [
       "plot without title"
      ]
     },
     "metadata": {
      "image/png": {
       "height": 240,
       "width": 240
      },
      "text/plain": {
       "height": 240,
       "width": 240
      }
     },
     "output_type": "display_data"
    }
   ],
   "source": [
    "plot(mm_moist)"
   ]
  },
  {
   "cell_type": "code",
   "execution_count": 24,
   "metadata": {},
   "outputs": [
    {
     "data": {
      "text/html": [
       "0.441119348276245"
      ],
      "text/latex": [
       "0.441119348276245"
      ],
      "text/markdown": [
       "0.441119348276245"
      ],
      "text/plain": [
       "[1] 0.4411193"
      ]
     },
     "metadata": {},
     "output_type": "display_data"
    }
   ],
   "source": [
    "rsq(y = data_moist$grainmoisture_rel,\n",
    "    y_hat = predict(mm_moist))"
   ]
  },
  {
   "cell_type": "code",
   "execution_count": 25,
   "metadata": {},
   "outputs": [
    {
     "data": {
      "text/html": [
       "0.0653243847056881"
      ],
      "text/latex": [
       "0.0653243847056881"
      ],
      "text/markdown": [
       "0.0653243847056881"
      ],
      "text/plain": [
       "[1] 0.06532438"
      ]
     },
     "metadata": {},
     "output_type": "display_data"
    }
   ],
   "source": [
    "rsq(y = data_moist$grainmoisture_rel,\n",
    "    y_hat = predict(mm_moist, level = 0))"
   ]
  },
  {
   "cell_type": "markdown",
   "metadata": {},
   "source": [
    "The R² is very low without the random effect. "
   ]
  },
  {
   "cell_type": "code",
   "execution_count": 26,
   "metadata": {},
   "outputs": [
    {
     "data": {
      "text/plain": [
       "Approximate 95% confidence intervals\n",
       "\n",
       " Fixed effects:\n",
       "                      lower       est.      upper\n",
       "(Intercept)      -0.9819271 -0.2436202  0.4946868\n",
       "plantbiomass_rel -0.6306317 -0.3852601 -0.1398886\n",
       "attr(,\"label\")\n",
       "[1] \"Fixed effects:\""
      ]
     },
     "metadata": {},
     "output_type": "display_data"
    }
   ],
   "source": [
    "mm_moist_ci <- intervals(mm_moist, which = \"fixed\")\n",
    "mm_moist_ci"
   ]
  },
  {
   "cell_type": "markdown",
   "metadata": {},
   "source": [
    "The intercept is unlikely to differ from 0, which means that no difference from control in plant biomass was likely associated with no difference from control in moisture. Also, data were likely sample from a distribution where the slope is not null, with -0.38 +/- 0.25 % for each additionnal g, at the 95% level. However, the moisture loss is marginal, with a 0.38% less water content if starting biomass is increased by 1 g."
   ]
  },
  {
   "cell_type": "code",
   "execution_count": 27,
   "metadata": {},
   "outputs": [
    {
     "data": {
      "image/png": "[encoded data removed]",
      "text/plain": [
       "plot without title"
      ]
     },
     "metadata": {
      "image/png": {
       "height": 240,
       "width": 240
      },
      "text/plain": {
       "height": 240,
       "width": 240
      }
     },
     "output_type": "display_data"
    }
   ],
   "source": [
    "gg_moisture <- ggplot(data = data_moist,\n",
    "                      mapping = aes(x = plantbiomass_rel, y = grainmoisture_rel)) +\n",
    "  geom_point(alpha = 0.1) +\n",
    "  geom_abline(aes(slope = fixef(mm_moist)[2],\n",
    "                  intercept = fixef(mm_moist)[1]),\n",
    "              lwd = 1) +\n",
    "  labs(x = \"Plant biomass, stage 4-9 leaves (delta control, g)\",\n",
    "       y= \"Grain moisture (delta control, %)\") +\n",
    "  theme_bw()\n",
    "gg_moisture"
   ]
  },
  {
   "cell_type": "code",
   "execution_count": 28,
   "metadata": {},
   "outputs": [
    {
     "data": {
      "image/png": "[encoded data removed]",
      "text/plain": [
       "plot without title"
      ]
     },
     "metadata": {
      "image/png": {
       "height": 240,
       "width": 720
      },
      "text/plain": {
       "height": 240,
       "width": 720
      }
     },
     "output_type": "display_data"
    }
   ],
   "source": [
    "options(repr.plot.width = 12, repr.plot.height = 4)\n",
    "plot_grid(gg_yield, gg_density, gg_moisture, ncol = 3, labels = c(\"A\", \"B\", \"C\"))\n",
    "ggsave(\"images/early-plant-growth.jpg\", height=4, width=12, dpi=600)"
   ]
  },
  {
   "cell_type": "code",
   "execution_count": null,
   "metadata": {},
   "outputs": [],
   "source": []
  }
 ],
 "metadata": {
  "kernelspec": {
   "display_name": "R 3.6.3 system",
   "language": "R",
   "name": "ir_363"
  },
  "language_info": {
   "codemirror_mode": "r",
   "file_extension": ".r",
   "mimetype": "text/x-r-source",
   "name": "R",
   "pygments_lexer": "r",
   "version": "3.6.3"
  }
 },
 "nbformat": 4,
 "nbformat_minor": 4
}
