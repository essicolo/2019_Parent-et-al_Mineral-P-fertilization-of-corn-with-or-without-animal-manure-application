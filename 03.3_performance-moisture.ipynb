{
 "cells": [
  {
   "cell_type": "markdown",
   "metadata": {},
   "source": [
    "# Question 3.3 Which agricultural variable is affecting corn **grain moisture**? What is the importance of P relatively to other variables?"
   ]
  },
  {
   "cell_type": "markdown",
   "metadata": {},
   "source": [
    "In this notebook, we aim at assessing the linear effect of agricultural conditions, including the P dosage, on **grain moisture**."
   ]
  },
  {
   "cell_type": "markdown",
   "metadata": {},
   "source": [
    "## Load data\n",
    "\n",
    "Load data exported from the preprocessing session."
   ]
  },
  {
   "cell_type": "code",
   "execution_count": 1,
   "metadata": {},
   "outputs": [],
   "source": [
    "load(\"output/preprocessed.RData\")"
   ]
  },
  {
   "cell_type": "markdown",
   "metadata": {},
   "source": [
    "## Load packages\n",
    "\n",
    "We obviously need the **`tidyverse`** package for data manipulation and plotting. **`ggthemes`** provides themes for plots. The **`nlme`** package is used for the linear mixted model. The **`broom`** package is used to create tidied **`nlme`** outputs."
   ]
  },
  {
   "cell_type": "code",
   "execution_count": 2,
   "metadata": {},
   "outputs": [
    {
     "name": "stderr",
     "output_type": "stream",
     "text": [
      "-- \u001b[1mAttaching packages\u001b[22m --------------------------------------- tidyverse 1.3.0 --\n",
      "\n",
      "\u001b[32mv\u001b[39m \u001b[34mggplot2\u001b[39m 3.3.0     \u001b[32mv\u001b[39m \u001b[34mpurrr  \u001b[39m 0.3.3\n",
      "\u001b[32mv\u001b[39m \u001b[34mtibble \u001b[39m 2.1.3     \u001b[32mv\u001b[39m \u001b[34mdplyr  \u001b[39m 0.8.5\n",
      "\u001b[32mv\u001b[39m \u001b[34mtidyr  \u001b[39m 1.0.2     \u001b[32mv\u001b[39m \u001b[34mstringr\u001b[39m 1.4.0\n",
      "\u001b[32mv\u001b[39m \u001b[34mreadr  \u001b[39m 1.3.1     \u001b[32mv\u001b[39m \u001b[34mforcats\u001b[39m 0.5.0\n",
      "\n",
      "-- \u001b[1mConflicts\u001b[22m ------------------------------------------ tidyverse_conflicts() --\n",
      "\u001b[31mx\u001b[39m \u001b[34mdplyr\u001b[39m::\u001b[32mfilter()\u001b[39m masks \u001b[34mstats\u001b[39m::filter()\n",
      "\u001b[31mx\u001b[39m \u001b[34mdplyr\u001b[39m::\u001b[32mlag()\u001b[39m    masks \u001b[34mstats\u001b[39m::lag()\n",
      "\n",
      "\n",
      "Attaching package: 'nlme'\n",
      "\n",
      "\n",
      "The following object is masked from 'package:dplyr':\n",
      "\n",
      "    collapse\n",
      "\n",
      "\n"
     ]
    }
   ],
   "source": [
    "library(\"tidyverse\")\n",
    "library(\"broom\")\n",
    "library(\"ggthemes\")\n",
    "library(\"nlme\")"
   ]
  },
  {
   "cell_type": "markdown",
   "metadata": {},
   "source": [
    "## Preparation to modeling\n",
    "\n",
    "We select the variables to be included in the model."
   ]
  },
  {
   "cell_type": "code",
   "execution_count": 3,
   "metadata": {},
   "outputs": [],
   "source": [
    "var_mm <- c(soil_vars, weather_vars, \"doseP\", \"P.Source\")\n",
    "data_mm <- data_rs[c(\"ID\", \"Year\", \"grainmoisture_perc\", var_mm)]"
   ]
  },
  {
   "cell_type": "markdown",
   "metadata": {},
   "source": [
    "Filter out missing data."
   ]
  },
  {
   "cell_type": "code",
   "execution_count": 4,
   "metadata": {},
   "outputs": [],
   "source": [
    "data_mm <- data_mm %>%\n",
    "  drop_na() %>%\n",
    "  droplevels()"
   ]
  },
  {
   "cell_type": "markdown",
   "metadata": {},
   "source": [
    "Data left for modelling:"
   ]
  },
  {
   "cell_type": "code",
   "execution_count": 5,
   "metadata": {},
   "outputs": [
    {
     "name": "stdout",
     "output_type": "stream",
     "text": [
      "[1] \"Number of lines: 736\"\n",
      "[1] \"Number of trials: 288\"\n"
     ]
    }
   ],
   "source": [
    "print(paste('Number of lines:', nrow(data_mm)))\n",
    "print(paste('Number of trials:', nlevels(data_mm$ID)))"
   ]
  },
  {
   "cell_type": "markdown",
   "metadata": {},
   "source": [
    "## Linear model"
   ]
  },
  {
   "cell_type": "markdown",
   "metadata": {},
   "source": [
    "We begin by scaling all variables by removing the mean and dividing by the standard deviation. This assures that the effects (slopes) of the model can be compared."
   ]
  },
  {
   "cell_type": "code",
   "execution_count": 6,
   "metadata": {},
   "outputs": [],
   "source": [
    "scaled_num <- data_mm %>% \n",
    "  select(-ID, -Year, -is_manure, -grainmoisture_perc, -P.Source) %>%\n",
    "  scale() %>%\n",
    "  as_tibble()\n",
    "data_mm_sc <- bind_cols(data_mm %>% select(ID, Year, is_manure, grainmoisture_perc, P.Source), scaled_num)"
   ]
  },
  {
   "cell_type": "markdown",
   "metadata": {},
   "source": [
    "We launch split the procedure in two parts, **with and without manure**, which are datasets conducted under different methodologies. Then we run a frequential linear mixed model for each on them, then arrange the table for ploting."
   ]
  },
  {
   "cell_type": "code",
   "execution_count": 7,
   "metadata": {},
   "outputs": [
    {
     "name": "stderr",
     "output_type": "stream",
     "text": [
      "Warning message:\n",
      "\"'tidy.matrix' is deprecated.\n",
      "See help(\"Deprecated\")\"\n",
      "Warning message:\n",
      "\"'tidy.matrix' is deprecated.\n",
      "See help(\"Deprecated\")\"\n"
     ]
    }
   ],
   "source": [
    "mm_lin <- data_mm_sc %>%\n",
    "  split(.$is_manure) %>%\n",
    "  map(~ intervals(lme(as.formula(paste(\"grainmoisture_perc ~ \", paste(var_mm[var_mm != \"is_manure\"], collapse=\" + \"),\n",
    "                               \"+ doseP:Soil_P.Al\")),\n",
    "            random = ~ 1|Year/ID,\n",
    "            data = .))$fixed) %>%\n",
    "  map_dfr(~tidy(.), .id = 'is_manure') %>%\n",
    "  rename(Variable = .rownames) %>%\n",
    "  filter(Variable != \"(Intercept)\") %>%\n",
    "  mutate(is_manure = ifelse(is_manure, \"With manure\", \"Without manure\"),\n",
    "         Category = c(\"Soil chemistry\", \"Soil chemistry\",\n",
    "                      \"Soil gensis\", \"Soil gensis\",\n",
    "                      \"Soil texture\", \"Soil texture\", \"Soil texture\",\n",
    "                      \"Weather\", \"Weather\", \"Weather\",\n",
    "                      \"Dose\",\n",
    "                      \"Dose\",\"Dose\",\"Dose\",\n",
    "                      \"Dose\",\n",
    "                      \"Soil chemistry\", \"Soil chemistry\",\n",
    "                      \"Soil gensis\", \"Soil gensis\",\n",
    "                      \"Soil texture\", \"Soil texture\", \"Soil texture\",\n",
    "                      \"Weather\", \"Weather\", \"Weather\",\n",
    "                      \"Dose\",\n",
    "                      \"Dose\",\n",
    "                      \"Dose\"))"
   ]
  },
  {
   "cell_type": "markdown",
   "metadata": {},
   "source": [
    "Variables are renamed to readable string."
   ]
  },
  {
   "cell_type": "code",
   "execution_count": 8,
   "metadata": {},
   "outputs": [],
   "source": [
    "for (i in 1:nrow(translate_col)) {\n",
    "  mm_lin$Variable <- sub(pattern = translate_col$from_name_mm[i], \n",
    "                                 replacement = translate_col$to_name_mm_long_en[i],\n",
    "                                 x = mm_lin$Variable)\n",
    "}"
   ]
  },
  {
   "cell_type": "markdown",
   "metadata": {},
   "source": [
    "We plot the slopes and their confidence interval."
   ]
  },
  {
   "cell_type": "code",
   "execution_count": 9,
   "metadata": {},
   "outputs": [
    {
     "data": {
      "image/png": "[encoded data removed]",
      "text/plain": [
       "plot without title"
      ]
     },
     "metadata": {
      "image/png": {
       "height": 300,
       "width": 840
      },
      "text/plain": {
       "height": 300,
       "width": 840
      }
     },
     "output_type": "display_data"
    }
   ],
   "source": [
    "options(repr.plot.width = 14, repr.plot.height = 5)\n",
    "mm_lin %>%\n",
    "  ggplot() +\n",
    "  geom_vline(xintercept = 0, lwd = 0.1) +\n",
    "  geom_segment(aes(x = lower, xend = upper, y = Variable, yend = Variable), lwd = 1) +\n",
    "  geom_label(aes(x = `est.`, y = Variable, label = format(round(est., 2), nsmall = 2)),\n",
    "             size = 3, label.padding = unit(0.1, \"lines\"), colour = \"white\", fill = \"black\", label.size = 0) +\n",
    "  geom_text(aes(x = lower, y = Variable, label = format(round(lower, 2), nsmall = 2)), size = 3, hjust = 1.5) +\n",
    "  geom_text(aes(x = upper, y = Variable, label = format(round(upper, 2), nsmall = 2)), size = 3, hjust = -0.5) +\n",
    "  facet_grid(Category ~ is_manure, scales = \"free_y\", space = \"free_y\") +\n",
    "  labs(x = \"Scaled effect\", y = \"\") +\n",
    "  expand_limits(x=c(-12, 20)) +\n",
    "  theme_hc() +\n",
    "  theme(strip.text.y = element_text(angle = 0))"
   ]
  },
  {
   "cell_type": "code",
   "execution_count": 10,
   "metadata": {},
   "outputs": [],
   "source": [
    "ggsave(\"images/moisture_linmod.jpg\", height = 5, width = 14, dpi = 600)"
   ]
  },
  {
   "cell_type": "markdown",
   "metadata": {},
   "source": [
    "If we would want absolute effects, we use the dataset `data_mm` instead of `data_mm_sc`."
   ]
  },
  {
   "cell_type": "code",
   "execution_count": 11,
   "metadata": {},
   "outputs": [
    {
     "name": "stderr",
     "output_type": "stream",
     "text": [
      "Warning message:\n",
      "\"'tidy.matrix' is deprecated.\n",
      "See help(\"Deprecated\")\"\n",
      "Warning message:\n",
      "\"'tidy.matrix' is deprecated.\n",
      "See help(\"Deprecated\")\"\n"
     ]
    }
   ],
   "source": [
    "mm_lin_abs <- data_mm %>%\n",
    "  split(.$is_manure) %>%\n",
    "  map(~ intervals(lme(as.formula(paste(\"grainmoisture_perc ~ \", paste(var_mm[var_mm != \"is_manure\"], collapse=\" + \"),\n",
    "                               \"+ doseP:Soil_P.Al\")),\n",
    "            random = ~ 1|Year/ID,\n",
    "            data = .), which = \"fixed\")$fixed) %>%\n",
    "  map_dfr(~tidy(.), .id = 'is_manure') %>%\n",
    "  rename(Variable = .rownames) %>%\n",
    "  filter(Variable != \"(Intercept)\") %>%\n",
    "  mutate(uncertainty = est.-lower)"
   ]
  },
  {
   "cell_type": "markdown",
   "metadata": {},
   "source": [
    "Variables are renamed to readable string."
   ]
  },
  {
   "cell_type": "code",
   "execution_count": 12,
   "metadata": {},
   "outputs": [],
   "source": [
    "for (i in 1:nrow(translate_col)) {\n",
    "  mm_lin_abs$Variable <- sub(pattern = translate_col$from_name_mm[i], \n",
    "                                 replacement = translate_col$to_name_mm_long_en[i],\n",
    "                                 x = mm_lin_abs$Variable)\n",
    "}"
   ]
  },
  {
   "cell_type": "code",
   "execution_count": 13,
   "metadata": {},
   "outputs": [
    {
     "data": {
      "text/html": [
       "<table>\n",
       "<caption>A tibble: 28 × 6</caption>\n",
       "<thead>\n",
       "\t<tr><th scope=col>is_manure</th><th scope=col>Variable</th><th scope=col>lower</th><th scope=col>est.</th><th scope=col>upper</th><th scope=col>uncertainty</th></tr>\n",
       "\t<tr><th scope=col>&lt;chr&gt;</th><th scope=col>&lt;chr&gt;</th><th scope=col>&lt;dbl&gt;</th><th scope=col>&lt;dbl&gt;</th><th scope=col>&lt;dbl&gt;</th><th scope=col>&lt;dbl&gt;</th></tr>\n",
       "</thead>\n",
       "<tbody>\n",
       "\t<tr><td>FALSE</td><td>pH                            </td><td> -3.345071865</td><td>-1.840001e+00</td><td>-0.334930961</td><td> 1.505070452</td></tr>\n",
       "\t<tr><td>FALSE</td><td>soil P/Al                     </td><td>-18.729045874</td><td>-1.233537e+01</td><td>-5.941692191</td><td> 6.393676841</td></tr>\n",
       "\t<tr><td>FALSE</td><td>soil [gley | podzol]          </td><td> -0.962030376</td><td>-3.470484e-01</td><td> 0.267933591</td><td> 0.614981983</td></tr>\n",
       "\t<tr><td>FALSE</td><td>soil [loam gley | sandy gley] </td><td> -0.216952813</td><td> 2.700272e-01</td><td> 0.757007261</td><td> 0.486980037</td></tr>\n",
       "\t<tr><td>FALSE</td><td>soil [carbon | clay,silt,sand]</td><td> -4.117151650</td><td>-1.985730e+00</td><td> 0.145690879</td><td> 2.131421264</td></tr>\n",
       "\t<tr><td>FALSE</td><td>soil [clay | silt,sand]       </td><td> -1.294017329</td><td>-1.864350e-01</td><td> 0.921147242</td><td> 1.107582285</td></tr>\n",
       "\t<tr><td>FALSE</td><td>soil [silt | sand]            </td><td> -1.359353271</td><td> 1.979029e-01</td><td> 1.755158977</td><td> 1.557256124</td></tr>\n",
       "\t<tr><td>FALSE</td><td>SDI                           </td><td>-60.238723766</td><td>-2.425709e+01</td><td>11.724540644</td><td>35.981632205</td></tr>\n",
       "\t<tr><td>FALSE</td><td>CHU                           </td><td> -0.017229243</td><td>-1.228265e-02</td><td>-0.007336049</td><td> 0.004946597</td></tr>\n",
       "\t<tr><td>FALSE</td><td>cumulated precipitations      </td><td> -0.025286812</td><td>-1.049711e-02</td><td> 0.004292584</td><td> 0.014789698</td></tr>\n",
       "\t<tr><td>FALSE</td><td>dose P                        </td><td> -0.063637740</td><td>-4.787775e-02</td><td>-0.032117765</td><td> 0.015759988</td></tr>\n",
       "\t<tr><td>FALSE</td><td>P sourceMAP                   </td><td> -3.106731771</td><td>-1.551427e-01</td><td> 2.796446338</td><td> 2.951589054</td></tr>\n",
       "\t<tr><td>FALSE</td><td>P sourceMAP DAP               </td><td> -1.785360100</td><td> 1.400070e+00</td><td> 4.585500287</td><td> 3.185430194</td></tr>\n",
       "\t<tr><td>FALSE</td><td>P sourceOMF                   </td><td> -0.558258576</td><td> 1.056408e+00</td><td> 2.671075086</td><td> 1.614666831</td></tr>\n",
       "\t<tr><td>FALSE</td><td>soil P/Al:dose P              </td><td> -0.071420707</td><td> 3.968737e-02</td><td> 0.150795443</td><td> 0.111108075</td></tr>\n",
       "\t<tr><td>TRUE </td><td>pH                            </td><td> -1.098432162</td><td> 7.066198e-01</td><td> 2.511671821</td><td> 1.805051992</td></tr>\n",
       "\t<tr><td>TRUE </td><td>soil P/Al                     </td><td> -2.634389222</td><td> 7.756398e-02</td><td> 2.789517186</td><td> 2.711953204</td></tr>\n",
       "\t<tr><td>TRUE </td><td>soil [gley | podzol]          </td><td> -0.752958816</td><td>-8.851605e-02</td><td> 0.575926716</td><td> 0.664442766</td></tr>\n",
       "\t<tr><td>TRUE </td><td>soil [loam gley | sandy gley] </td><td> -0.425594551</td><td> 3.987035e-01</td><td> 1.223001530</td><td> 0.824298041</td></tr>\n",
       "\t<tr><td>TRUE </td><td>soil [carbon | clay,silt,sand]</td><td> -2.519466945</td><td>-2.033867e-01</td><td> 2.112693550</td><td> 2.316080247</td></tr>\n",
       "\t<tr><td>TRUE </td><td>soil [clay | silt,sand]       </td><td> -0.855726947</td><td> 2.962636e-01</td><td> 1.448254219</td><td> 1.151990583</td></tr>\n",
       "\t<tr><td>TRUE </td><td>soil [silt | sand]            </td><td> -2.269287336</td><td>-2.473765e-01</td><td> 1.774534339</td><td> 2.021910837</td></tr>\n",
       "\t<tr><td>TRUE </td><td>SDI                           </td><td>-40.122474336</td><td> 1.840544e+01</td><td>76.933354294</td><td>58.527914315</td></tr>\n",
       "\t<tr><td>TRUE </td><td>CHU                           </td><td> -0.002155611</td><td> 3.167663e-03</td><td> 0.008490936</td><td> 0.005323273</td></tr>\n",
       "\t<tr><td>TRUE </td><td>cumulated precipitations      </td><td> -0.015109179</td><td>-2.213168e-06</td><td> 0.015104753</td><td> 0.015106966</td></tr>\n",
       "\t<tr><td>TRUE </td><td>dose P                        </td><td> -0.037698099</td><td>-1.787894e-02</td><td> 0.001940229</td><td> 0.019819164</td></tr>\n",
       "\t<tr><td>TRUE </td><td>P sourceAAP                   </td><td> -3.414895876</td><td>-1.055852e+00</td><td> 1.303192716</td><td> 2.359044296</td></tr>\n",
       "\t<tr><td>TRUE </td><td>soil P/Al:dose P              </td><td> -0.021235681</td><td> 2.408555e-02</td><td> 0.069406771</td><td> 0.045321226</td></tr>\n",
       "</tbody>\n",
       "</table>\n"
      ],
      "text/latex": [
       "A tibble: 28 × 6\n",
       "\\begin{tabular}{llllll}\n",
       " is\\_manure & Variable & lower & est. & upper & uncertainty\\\\\n",
       " <chr> & <chr> & <dbl> & <dbl> & <dbl> & <dbl>\\\\\n",
       "\\hline\n",
       "\t FALSE & pH                             &  -3.345071865 & -1.840001e+00 & -0.334930961 &  1.505070452\\\\\n",
       "\t FALSE & soil P/Al                      & -18.729045874 & -1.233537e+01 & -5.941692191 &  6.393676841\\\\\n",
       "\t FALSE & soil {[}gley \\textbar{} podzol{]}           &  -0.962030376 & -3.470484e-01 &  0.267933591 &  0.614981983\\\\\n",
       "\t FALSE & soil {[}loam gley \\textbar{} sandy gley{]}  &  -0.216952813 &  2.700272e-01 &  0.757007261 &  0.486980037\\\\\n",
       "\t FALSE & soil {[}carbon \\textbar{} clay,silt,sand{]} &  -4.117151650 & -1.985730e+00 &  0.145690879 &  2.131421264\\\\\n",
       "\t FALSE & soil {[}clay \\textbar{} silt,sand{]}        &  -1.294017329 & -1.864350e-01 &  0.921147242 &  1.107582285\\\\\n",
       "\t FALSE & soil {[}silt \\textbar{} sand{]}             &  -1.359353271 &  1.979029e-01 &  1.755158977 &  1.557256124\\\\\n",
       "\t FALSE & SDI                            & -60.238723766 & -2.425709e+01 & 11.724540644 & 35.981632205\\\\\n",
       "\t FALSE & CHU                            &  -0.017229243 & -1.228265e-02 & -0.007336049 &  0.004946597\\\\\n",
       "\t FALSE & cumulated precipitations       &  -0.025286812 & -1.049711e-02 &  0.004292584 &  0.014789698\\\\\n",
       "\t FALSE & dose P                         &  -0.063637740 & -4.787775e-02 & -0.032117765 &  0.015759988\\\\\n",
       "\t FALSE & P sourceMAP                    &  -3.106731771 & -1.551427e-01 &  2.796446338 &  2.951589054\\\\\n",
       "\t FALSE & P sourceMAP DAP                &  -1.785360100 &  1.400070e+00 &  4.585500287 &  3.185430194\\\\\n",
       "\t FALSE & P sourceOMF                    &  -0.558258576 &  1.056408e+00 &  2.671075086 &  1.614666831\\\\\n",
       "\t FALSE & soil P/Al:dose P               &  -0.071420707 &  3.968737e-02 &  0.150795443 &  0.111108075\\\\\n",
       "\t TRUE  & pH                             &  -1.098432162 &  7.066198e-01 &  2.511671821 &  1.805051992\\\\\n",
       "\t TRUE  & soil P/Al                      &  -2.634389222 &  7.756398e-02 &  2.789517186 &  2.711953204\\\\\n",
       "\t TRUE  & soil {[}gley \\textbar{} podzol{]}           &  -0.752958816 & -8.851605e-02 &  0.575926716 &  0.664442766\\\\\n",
       "\t TRUE  & soil {[}loam gley \\textbar{} sandy gley{]}  &  -0.425594551 &  3.987035e-01 &  1.223001530 &  0.824298041\\\\\n",
       "\t TRUE  & soil {[}carbon \\textbar{} clay,silt,sand{]} &  -2.519466945 & -2.033867e-01 &  2.112693550 &  2.316080247\\\\\n",
       "\t TRUE  & soil {[}clay \\textbar{} silt,sand{]}        &  -0.855726947 &  2.962636e-01 &  1.448254219 &  1.151990583\\\\\n",
       "\t TRUE  & soil {[}silt \\textbar{} sand{]}             &  -2.269287336 & -2.473765e-01 &  1.774534339 &  2.021910837\\\\\n",
       "\t TRUE  & SDI                            & -40.122474336 &  1.840544e+01 & 76.933354294 & 58.527914315\\\\\n",
       "\t TRUE  & CHU                            &  -0.002155611 &  3.167663e-03 &  0.008490936 &  0.005323273\\\\\n",
       "\t TRUE  & cumulated precipitations       &  -0.015109179 & -2.213168e-06 &  0.015104753 &  0.015106966\\\\\n",
       "\t TRUE  & dose P                         &  -0.037698099 & -1.787894e-02 &  0.001940229 &  0.019819164\\\\\n",
       "\t TRUE  & P sourceAAP                    &  -3.414895876 & -1.055852e+00 &  1.303192716 &  2.359044296\\\\\n",
       "\t TRUE  & soil P/Al:dose P               &  -0.021235681 &  2.408555e-02 &  0.069406771 &  0.045321226\\\\\n",
       "\\end{tabular}\n"
      ],
      "text/markdown": [
       "\n",
       "A tibble: 28 × 6\n",
       "\n",
       "| is_manure &lt;chr&gt; | Variable &lt;chr&gt; | lower &lt;dbl&gt; | est. &lt;dbl&gt; | upper &lt;dbl&gt; | uncertainty &lt;dbl&gt; |\n",
       "|---|---|---|---|---|---|\n",
       "| FALSE | pH                             |  -3.345071865 | -1.840001e+00 | -0.334930961 |  1.505070452 |\n",
       "| FALSE | soil P/Al                      | -18.729045874 | -1.233537e+01 | -5.941692191 |  6.393676841 |\n",
       "| FALSE | soil [gley | podzol]           |  -0.962030376 | -3.470484e-01 |  0.267933591 |  0.614981983 |\n",
       "| FALSE | soil [loam gley | sandy gley]  |  -0.216952813 |  2.700272e-01 |  0.757007261 |  0.486980037 |\n",
       "| FALSE | soil [carbon | clay,silt,sand] |  -4.117151650 | -1.985730e+00 |  0.145690879 |  2.131421264 |\n",
       "| FALSE | soil [clay | silt,sand]        |  -1.294017329 | -1.864350e-01 |  0.921147242 |  1.107582285 |\n",
       "| FALSE | soil [silt | sand]             |  -1.359353271 |  1.979029e-01 |  1.755158977 |  1.557256124 |\n",
       "| FALSE | SDI                            | -60.238723766 | -2.425709e+01 | 11.724540644 | 35.981632205 |\n",
       "| FALSE | CHU                            |  -0.017229243 | -1.228265e-02 | -0.007336049 |  0.004946597 |\n",
       "| FALSE | cumulated precipitations       |  -0.025286812 | -1.049711e-02 |  0.004292584 |  0.014789698 |\n",
       "| FALSE | dose P                         |  -0.063637740 | -4.787775e-02 | -0.032117765 |  0.015759988 |\n",
       "| FALSE | P sourceMAP                    |  -3.106731771 | -1.551427e-01 |  2.796446338 |  2.951589054 |\n",
       "| FALSE | P sourceMAP DAP                |  -1.785360100 |  1.400070e+00 |  4.585500287 |  3.185430194 |\n",
       "| FALSE | P sourceOMF                    |  -0.558258576 |  1.056408e+00 |  2.671075086 |  1.614666831 |\n",
       "| FALSE | soil P/Al:dose P               |  -0.071420707 |  3.968737e-02 |  0.150795443 |  0.111108075 |\n",
       "| TRUE  | pH                             |  -1.098432162 |  7.066198e-01 |  2.511671821 |  1.805051992 |\n",
       "| TRUE  | soil P/Al                      |  -2.634389222 |  7.756398e-02 |  2.789517186 |  2.711953204 |\n",
       "| TRUE  | soil [gley | podzol]           |  -0.752958816 | -8.851605e-02 |  0.575926716 |  0.664442766 |\n",
       "| TRUE  | soil [loam gley | sandy gley]  |  -0.425594551 |  3.987035e-01 |  1.223001530 |  0.824298041 |\n",
       "| TRUE  | soil [carbon | clay,silt,sand] |  -2.519466945 | -2.033867e-01 |  2.112693550 |  2.316080247 |\n",
       "| TRUE  | soil [clay | silt,sand]        |  -0.855726947 |  2.962636e-01 |  1.448254219 |  1.151990583 |\n",
       "| TRUE  | soil [silt | sand]             |  -2.269287336 | -2.473765e-01 |  1.774534339 |  2.021910837 |\n",
       "| TRUE  | SDI                            | -40.122474336 |  1.840544e+01 | 76.933354294 | 58.527914315 |\n",
       "| TRUE  | CHU                            |  -0.002155611 |  3.167663e-03 |  0.008490936 |  0.005323273 |\n",
       "| TRUE  | cumulated precipitations       |  -0.015109179 | -2.213168e-06 |  0.015104753 |  0.015106966 |\n",
       "| TRUE  | dose P                         |  -0.037698099 | -1.787894e-02 |  0.001940229 |  0.019819164 |\n",
       "| TRUE  | P sourceAAP                    |  -3.414895876 | -1.055852e+00 |  1.303192716 |  2.359044296 |\n",
       "| TRUE  | soil P/Al:dose P               |  -0.021235681 |  2.408555e-02 |  0.069406771 |  0.045321226 |\n",
       "\n"
      ],
      "text/plain": [
       "   is_manure Variable                       lower         est.         \n",
       "1  FALSE     pH                              -3.345071865 -1.840001e+00\n",
       "2  FALSE     soil P/Al                      -18.729045874 -1.233537e+01\n",
       "3  FALSE     soil [gley | podzol]            -0.962030376 -3.470484e-01\n",
       "4  FALSE     soil [loam gley | sandy gley]   -0.216952813  2.700272e-01\n",
       "5  FALSE     soil [carbon | clay,silt,sand]  -4.117151650 -1.985730e+00\n",
       "6  FALSE     soil [clay | silt,sand]         -1.294017329 -1.864350e-01\n",
       "7  FALSE     soil [silt | sand]              -1.359353271  1.979029e-01\n",
       "8  FALSE     SDI                            -60.238723766 -2.425709e+01\n",
       "9  FALSE     CHU                             -0.017229243 -1.228265e-02\n",
       "10 FALSE     cumulated precipitations        -0.025286812 -1.049711e-02\n",
       "11 FALSE     dose P                          -0.063637740 -4.787775e-02\n",
       "12 FALSE     P sourceMAP                     -3.106731771 -1.551427e-01\n",
       "13 FALSE     P sourceMAP DAP                 -1.785360100  1.400070e+00\n",
       "14 FALSE     P sourceOMF                     -0.558258576  1.056408e+00\n",
       "15 FALSE     soil P/Al:dose P                -0.071420707  3.968737e-02\n",
       "16 TRUE      pH                              -1.098432162  7.066198e-01\n",
       "17 TRUE      soil P/Al                       -2.634389222  7.756398e-02\n",
       "18 TRUE      soil [gley | podzol]            -0.752958816 -8.851605e-02\n",
       "19 TRUE      soil [loam gley | sandy gley]   -0.425594551  3.987035e-01\n",
       "20 TRUE      soil [carbon | clay,silt,sand]  -2.519466945 -2.033867e-01\n",
       "21 TRUE      soil [clay | silt,sand]         -0.855726947  2.962636e-01\n",
       "22 TRUE      soil [silt | sand]              -2.269287336 -2.473765e-01\n",
       "23 TRUE      SDI                            -40.122474336  1.840544e+01\n",
       "24 TRUE      CHU                             -0.002155611  3.167663e-03\n",
       "25 TRUE      cumulated precipitations        -0.015109179 -2.213168e-06\n",
       "26 TRUE      dose P                          -0.037698099 -1.787894e-02\n",
       "27 TRUE      P sourceAAP                     -3.414895876 -1.055852e+00\n",
       "28 TRUE      soil P/Al:dose P                -0.021235681  2.408555e-02\n",
       "   upper        uncertainty \n",
       "1  -0.334930961  1.505070452\n",
       "2  -5.941692191  6.393676841\n",
       "3   0.267933591  0.614981983\n",
       "4   0.757007261  0.486980037\n",
       "5   0.145690879  2.131421264\n",
       "6   0.921147242  1.107582285\n",
       "7   1.755158977  1.557256124\n",
       "8  11.724540644 35.981632205\n",
       "9  -0.007336049  0.004946597\n",
       "10  0.004292584  0.014789698\n",
       "11 -0.032117765  0.015759988\n",
       "12  2.796446338  2.951589054\n",
       "13  4.585500287  3.185430194\n",
       "14  2.671075086  1.614666831\n",
       "15  0.150795443  0.111108075\n",
       "16  2.511671821  1.805051992\n",
       "17  2.789517186  2.711953204\n",
       "18  0.575926716  0.664442766\n",
       "19  1.223001530  0.824298041\n",
       "20  2.112693550  2.316080247\n",
       "21  1.448254219  1.151990583\n",
       "22  1.774534339  2.021910837\n",
       "23 76.933354294 58.527914315\n",
       "24  0.008490936  0.005323273\n",
       "25  0.015104753  0.015106966\n",
       "26  0.001940229  0.019819164\n",
       "27  1.303192716  2.359044296\n",
       "28  0.069406771  0.045321226"
      ]
     },
     "metadata": {},
     "output_type": "display_data"
    }
   ],
   "source": [
    "mm_lin_abs"
   ]
  },
  {
   "cell_type": "markdown",
   "metadata": {},
   "source": [
    "**Without manure**, each kg of P per ha had *decreased* grain moisture by 0.048 +/- 0.016 %. A dosage of 40 kg/ha had thus increased grain moisture by 1.92 +/- 0.64 % compared to control.\n",
    "\n",
    "**With manure**, each kg of P per ha had *decreased* grain moisture by 0.018 +/- 0.020 %. A dosage of 40 kg/ha had thus increased grain moisture by 0.72 +/- 0.80 % compared to control."
   ]
  }
 ],
 "metadata": {
  "kernelspec": {
   "display_name": "R 3.6.3 system",
   "language": "R",
   "name": "ir_363"
  },
  "language_info": {
   "codemirror_mode": "r",
   "file_extension": ".r",
   "mimetype": "text/x-r-source",
   "name": "R",
   "pygments_lexer": "r",
   "version": "3.6.3"
  }
 },
 "nbformat": 4,
 "nbformat_minor": 4
}
