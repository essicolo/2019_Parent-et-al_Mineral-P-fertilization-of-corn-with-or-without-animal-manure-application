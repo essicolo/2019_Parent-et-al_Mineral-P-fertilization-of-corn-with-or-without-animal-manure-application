{
 "cells": [
  {
   "cell_type": "markdown",
   "metadata": {},
   "source": [
    "# Question 3.2 Which agricultural variable is affecting corn **grain density**? What is the importance of P relatively to other variables?"
   ]
  },
  {
   "cell_type": "markdown",
   "metadata": {},
   "source": [
    "In this notebook, we aim at assessing the linear effect of agricultural conditions, including the P dosage, on **grain density**."
   ]
  },
  {
   "cell_type": "markdown",
   "metadata": {},
   "source": [
    "## Load data\n",
    "\n",
    "Load data exported from the preprocessing session."
   ]
  },
  {
   "cell_type": "code",
   "execution_count": 1,
   "metadata": {},
   "outputs": [],
   "source": [
    "load(\"output/preprocessed.RData\")"
   ]
  },
  {
   "cell_type": "markdown",
   "metadata": {},
   "source": [
    "## Load packages\n",
    "\n",
    "We obviously need the **`tidyverse`** package for data manipulation and plotting. **`ggthemes`** provides themes for plots. The **`nlme`** package is used for the linear mixted model. The **`broom`** package is used to create tidied **`nlme`** outputs."
   ]
  },
  {
   "cell_type": "code",
   "execution_count": 2,
   "metadata": {},
   "outputs": [
    {
     "name": "stderr",
     "output_type": "stream",
     "text": [
      "-- \u001b[1mAttaching packages\u001b[22m --------------------------------------- tidyverse 1.3.0 --\n",
      "\n",
      "\u001b[32mv\u001b[39m \u001b[34mggplot2\u001b[39m 3.3.0     \u001b[32mv\u001b[39m \u001b[34mpurrr  \u001b[39m 0.3.3\n",
      "\u001b[32mv\u001b[39m \u001b[34mtibble \u001b[39m 2.1.3     \u001b[32mv\u001b[39m \u001b[34mdplyr  \u001b[39m 0.8.5\n",
      "\u001b[32mv\u001b[39m \u001b[34mtidyr  \u001b[39m 1.0.2     \u001b[32mv\u001b[39m \u001b[34mstringr\u001b[39m 1.4.0\n",
      "\u001b[32mv\u001b[39m \u001b[34mreadr  \u001b[39m 1.3.1     \u001b[32mv\u001b[39m \u001b[34mforcats\u001b[39m 0.5.0\n",
      "\n",
      "-- \u001b[1mConflicts\u001b[22m ------------------------------------------ tidyverse_conflicts() --\n",
      "\u001b[31mx\u001b[39m \u001b[34mdplyr\u001b[39m::\u001b[32mfilter()\u001b[39m masks \u001b[34mstats\u001b[39m::filter()\n",
      "\u001b[31mx\u001b[39m \u001b[34mdplyr\u001b[39m::\u001b[32mlag()\u001b[39m    masks \u001b[34mstats\u001b[39m::lag()\n",
      "\n",
      "\n",
      "Attaching package: 'nlme'\n",
      "\n",
      "\n",
      "The following object is masked from 'package:dplyr':\n",
      "\n",
      "    collapse\n",
      "\n",
      "\n"
     ]
    }
   ],
   "source": [
    "library(\"tidyverse\")\n",
    "library(\"broom\")\n",
    "library(\"ggthemes\")\n",
    "library(\"nlme\")"
   ]
  },
  {
   "cell_type": "markdown",
   "metadata": {},
   "source": [
    "## Preparation to modeling\n",
    "\n",
    "We select the variables to be included in the model."
   ]
  },
  {
   "cell_type": "code",
   "execution_count": 3,
   "metadata": {},
   "outputs": [],
   "source": [
    "var_mm <- c(soil_vars, weather_vars, \"doseP\", \"P.Source\")\n",
    "data_mm <- data_rs[c(\"ID\", \"Year\", \"graindensity_g.L\", var_mm)]"
   ]
  },
  {
   "cell_type": "markdown",
   "metadata": {},
   "source": [
    "Filter out missing data."
   ]
  },
  {
   "cell_type": "code",
   "execution_count": 4,
   "metadata": {},
   "outputs": [],
   "source": [
    "data_mm <- data_mm %>%\n",
    "  drop_na() %>%\n",
    "  droplevels()"
   ]
  },
  {
   "cell_type": "markdown",
   "metadata": {},
   "source": [
    "Data left for modelling:"
   ]
  },
  {
   "cell_type": "code",
   "execution_count": 5,
   "metadata": {},
   "outputs": [
    {
     "name": "stdout",
     "output_type": "stream",
     "text": [
      "[1] \"Number of lines: 724\"\n",
      "[1] \"Number of trials: 279\"\n"
     ]
    }
   ],
   "source": [
    "print(paste('Number of lines:', nrow(data_mm)))\n",
    "print(paste('Number of trials:', nlevels(data_mm$ID)))"
   ]
  },
  {
   "cell_type": "markdown",
   "metadata": {},
   "source": [
    "## Linear model"
   ]
  },
  {
   "cell_type": "markdown",
   "metadata": {},
   "source": [
    "We begin by scaling all variables by removing the mean and dividing by the standard deviation. This assures that the effects (slopes) of the model can be compared."
   ]
  },
  {
   "cell_type": "code",
   "execution_count": 6,
   "metadata": {},
   "outputs": [],
   "source": [
    "scaled_num <- data_mm %>% \n",
    "  select(-ID, -Year, -is_manure, -graindensity_g.L, -P.Source) %>%\n",
    "  scale() %>%\n",
    "  as_tibble()\n",
    "data_mm_sc <- bind_cols(data_mm %>% select(ID, Year, is_manure, graindensity_g.L, P.Source), scaled_num)"
   ]
  },
  {
   "cell_type": "markdown",
   "metadata": {},
   "source": [
    "We launch split the procedure in two parts, **with and without manure**, which are datasets conducted under different methodologies. Then we run a frequential linear mixed model for each on them, then arrange the table for ploting."
   ]
  },
  {
   "cell_type": "code",
   "execution_count": 7,
   "metadata": {},
   "outputs": [
    {
     "name": "stderr",
     "output_type": "stream",
     "text": [
      "Warning message:\n",
      "\"'tidy.matrix' is deprecated.\n",
      "See help(\"Deprecated\")\"\n",
      "Warning message:\n",
      "\"'tidy.matrix' is deprecated.\n",
      "See help(\"Deprecated\")\"\n"
     ]
    }
   ],
   "source": [
    "mm_lin <- data_mm_sc %>%\n",
    "  split(.$is_manure) %>%\n",
    "  map(~ intervals(lme(as.formula(paste(\"graindensity_g.L ~ \", paste(var_mm[var_mm != \"is_manure\"], collapse=\" + \"),\n",
    "                               \"+ doseP:Soil_P.Al\")),\n",
    "            random = ~ 1|Year/ID,\n",
    "            data = .))$fixed) %>%\n",
    "  map_dfr(~tidy(.), .id = 'is_manure') %>%\n",
    "  rename(Variable = .rownames) %>%\n",
    "  filter(Variable != \"(Intercept)\") %>%\n",
    "  mutate(is_manure = ifelse(is_manure, \"With manure\", \"Without manure\"),\n",
    "         Category = c(\"Soil chemistry\", \"Soil chemistry\",\n",
    "                      \"Soil gensis\", \"Soil gensis\",\n",
    "                      \"Soil texture\", \"Soil texture\", \"Soil texture\",\n",
    "                      \"Weather\", \"Weather\", \"Weather\",\n",
    "                      \"Dose\",\n",
    "                      \"Dose\",\"Dose\",\"Dose\",\n",
    "                      \"Dose\",\n",
    "                      \"Soil chemistry\", \"Soil chemistry\",\n",
    "                      \"Soil gensis\", \"Soil gensis\",\n",
    "                      \"Soil texture\", \"Soil texture\", \"Soil texture\",\n",
    "                      \"Weather\", \"Weather\", \"Weather\",\n",
    "                      \"Dose\",\n",
    "                      \"Dose\",\n",
    "                      \"Dose\"))"
   ]
  },
  {
   "cell_type": "markdown",
   "metadata": {},
   "source": [
    "Variables are renamed to readable string."
   ]
  },
  {
   "cell_type": "code",
   "execution_count": 8,
   "metadata": {},
   "outputs": [],
   "source": [
    "for (i in 1:nrow(translate_col)) {\n",
    "  mm_lin$Variable <- sub(pattern = translate_col$from_name_mm[i], \n",
    "                                 replacement = translate_col$to_name_mm_long_en[i],\n",
    "                                 x = mm_lin$Variable)\n",
    "}"
   ]
  },
  {
   "cell_type": "markdown",
   "metadata": {},
   "source": [
    "We plot the slopes and their confidence interval."
   ]
  },
  {
   "cell_type": "code",
   "execution_count": 9,
   "metadata": {},
   "outputs": [
    {
     "data": {
      "image/png": "[encoded data removed]",
      "text/plain": [
       "plot without title"
      ]
     },
     "metadata": {
      "image/png": {
       "height": 300,
       "width": 840
      },
      "text/plain": {
       "height": 300,
       "width": 840
      }
     },
     "output_type": "display_data"
    }
   ],
   "source": [
    "options(repr.plot.width = 14, repr.plot.height = 5)\n",
    "mm_lin %>%\n",
    "  ggplot() +\n",
    "  geom_vline(xintercept = 0, lwd = 0.1) +\n",
    "  geom_segment(aes(x = lower, xend = upper, y = Variable, yend = Variable), lwd = 1) +\n",
    "  geom_label(aes(x = `est.`, y = Variable, label = format(round(est., 2), nsmall = 2)),\n",
    "             size = 3, label.padding = unit(0.1, \"lines\"), colour = \"white\", fill = \"black\", label.size = 0) +\n",
    "  geom_text(aes(x = lower, y = Variable, label = format(round(lower, 2), nsmall = 2)), size = 3, hjust = 1.5) +\n",
    "  geom_text(aes(x = upper, y = Variable, label = format(round(upper, 2), nsmall = 2)), size = 3, hjust = -0.5) +\n",
    "  facet_grid(Category ~ is_manure, scales = \"free_y\", space = \"free_y\") +\n",
    "  labs(x = \"Scaled effect\", y = \"\") +\n",
    "  expand_limits(x=c(-80, 110)) +\n",
    "  theme_hc() +\n",
    "  theme(strip.text.y = element_text(angle = 0))"
   ]
  },
  {
   "cell_type": "code",
   "execution_count": 10,
   "metadata": {},
   "outputs": [],
   "source": [
    "ggsave(\"images/density_linmod.jpg\", height = 5, width = 14, dpi = 600)"
   ]
  },
  {
   "cell_type": "markdown",
   "metadata": {},
   "source": [
    "If we would want absolute effects, we use the dataset `data_mm` instead of `data_mm_sc`."
   ]
  },
  {
   "cell_type": "code",
   "execution_count": 11,
   "metadata": {},
   "outputs": [
    {
     "name": "stderr",
     "output_type": "stream",
     "text": [
      "Warning message:\n",
      "\"'tidy.matrix' is deprecated.\n",
      "See help(\"Deprecated\")\"\n",
      "Warning message:\n",
      "\"'tidy.matrix' is deprecated.\n",
      "See help(\"Deprecated\")\"\n"
     ]
    }
   ],
   "source": [
    "mm_lin_abs <- data_mm %>%\n",
    "  split(.$is_manure) %>%\n",
    "  map(~ intervals(lme(as.formula(paste(\"graindensity_g.L ~ \", paste(var_mm[var_mm != \"is_manure\"], collapse=\" + \"),\n",
    "                               \"+ doseP:Soil_P.Al\")),\n",
    "            random = ~ 1|Year/ID,\n",
    "            data = .), which = \"fixed\")$fixed) %>%\n",
    "  map_dfr(~tidy(.), .id = 'is_manure') %>%\n",
    "  rename(Variable = .rownames) %>%\n",
    "  filter(Variable != \"(Intercept)\") %>%\n",
    "  mutate(uncertainty = est.-lower)"
   ]
  },
  {
   "cell_type": "markdown",
   "metadata": {},
   "source": [
    "Variables are renamed to readable string."
   ]
  },
  {
   "cell_type": "code",
   "execution_count": 12,
   "metadata": {},
   "outputs": [],
   "source": [
    "for (i in 1:nrow(translate_col)) {\n",
    "  mm_lin_abs$Variable <- sub(pattern = translate_col$from_name_mm[i], \n",
    "                                 replacement = translate_col$to_name_mm_long_en[i],\n",
    "                                 x = mm_lin_abs$Variable)\n",
    "}"
   ]
  },
  {
   "cell_type": "code",
   "execution_count": 13,
   "metadata": {},
   "outputs": [
    {
     "data": {
      "text/html": [
       "<table>\n",
       "<caption>A tibble: 28 × 6</caption>\n",
       "<thead>\n",
       "\t<tr><th scope=col>is_manure</th><th scope=col>Variable</th><th scope=col>lower</th><th scope=col>est.</th><th scope=col>upper</th><th scope=col>uncertainty</th></tr>\n",
       "\t<tr><th scope=col>&lt;chr&gt;</th><th scope=col>&lt;chr&gt;</th><th scope=col>&lt;dbl&gt;</th><th scope=col>&lt;dbl&gt;</th><th scope=col>&lt;dbl&gt;</th><th scope=col>&lt;dbl&gt;</th></tr>\n",
       "</thead>\n",
       "<tbody>\n",
       "\t<tr><td>FALSE</td><td>pH                            </td><td> 2.848305e+00</td><td> 11.719128306</td><td> 20.58995169</td><td>  8.87082338</td></tr>\n",
       "\t<tr><td>FALSE</td><td>soil P/Al                     </td><td>-5.645548e+01</td><td>-19.094333452</td><td> 18.26680851</td><td> 37.36114196</td></tr>\n",
       "\t<tr><td>FALSE</td><td>soil [gley | podzol]          </td><td> 2.954934e-01</td><td>  3.902820149</td><td>  7.51014689</td><td>  3.60732674</td></tr>\n",
       "\t<tr><td>FALSE</td><td>soil [loam gley | sandy gley] </td><td> 1.344833e+00</td><td>  4.202544387</td><td>  7.06025555</td><td>  2.85771116</td></tr>\n",
       "\t<tr><td>FALSE</td><td>soil [carbon | clay,silt,sand]</td><td>-1.595240e+01</td><td> -3.416458343</td><td>  9.11948210</td><td> 12.53594045</td></tr>\n",
       "\t<tr><td>FALSE</td><td>soil [clay | silt,sand]       </td><td> 3.889438e+00</td><td> 10.389723201</td><td> 16.89000793</td><td>  6.50028473</td></tr>\n",
       "\t<tr><td>FALSE</td><td>soil [silt | sand]            </td><td>-1.524592e+01</td><td> -6.112129594</td><td>  3.02166121</td><td>  9.13379080</td></tr>\n",
       "\t<tr><td>FALSE</td><td>SDI                           </td><td> 1.082529e+02</td><td>326.971680875</td><td>545.69048307</td><td>218.71880220</td></tr>\n",
       "\t<tr><td>FALSE</td><td>CHU                           </td><td>-2.125851e-02</td><td>  0.008225523</td><td>  0.03770956</td><td>  0.02948404</td></tr>\n",
       "\t<tr><td>FALSE</td><td>cumulated precipitations      </td><td>-1.357892e-01</td><td> -0.048907783</td><td>  0.03797359</td><td>  0.08688137</td></tr>\n",
       "\t<tr><td>FALSE</td><td>dose P                        </td><td>-2.265909e-03</td><td>  0.072074041</td><td>  0.14641399</td><td>  0.07433995</td></tr>\n",
       "\t<tr><td>FALSE</td><td>P sourceMAP                   </td><td>-1.146715e+01</td><td>  6.118647237</td><td> 23.70444397</td><td> 17.58579673</td></tr>\n",
       "\t<tr><td>FALSE</td><td>P sourceMAP DAP               </td><td>-4.375215e+00</td><td> 14.284213355</td><td> 32.94364163</td><td> 18.65942828</td></tr>\n",
       "\t<tr><td>FALSE</td><td>P sourceOMF                   </td><td> 5.542400e-01</td><td> 10.112083675</td><td> 19.66992730</td><td>  9.55784363</td></tr>\n",
       "\t<tr><td>FALSE</td><td>soil P/Al:dose P              </td><td>-7.097146e-01</td><td> -0.185895965</td><td>  0.33792263</td><td>  0.52381860</td></tr>\n",
       "\t<tr><td>TRUE </td><td>pH                            </td><td>-3.840647e+00</td><td> 16.452297185</td><td> 36.74524175</td><td> 20.29294457</td></tr>\n",
       "\t<tr><td>TRUE </td><td>soil P/Al                     </td><td>-3.662608e+01</td><td> -7.920553374</td><td> 20.78497007</td><td> 28.70552344</td></tr>\n",
       "\t<tr><td>TRUE </td><td>soil [gley | podzol]          </td><td>-7.659905e+00</td><td> -0.929811992</td><td>  5.80028055</td><td>  6.73009254</td></tr>\n",
       "\t<tr><td>TRUE </td><td>soil [loam gley | sandy gley] </td><td>-8.878021e+00</td><td>  2.103617117</td><td> 13.08525527</td><td> 10.98163815</td></tr>\n",
       "\t<tr><td>TRUE </td><td>soil [carbon | clay,silt,sand]</td><td>-7.028187e+00</td><td> 15.463684746</td><td> 37.95555633</td><td> 22.49187159</td></tr>\n",
       "\t<tr><td>TRUE </td><td>soil [clay | silt,sand]       </td><td>-1.736253e+01</td><td> -6.131133038</td><td>  5.10026885</td><td> 11.23140189</td></tr>\n",
       "\t<tr><td>TRUE </td><td>soil [silt | sand]            </td><td>-1.687717e+01</td><td>  3.300776879</td><td> 23.47872170</td><td> 20.17794482</td></tr>\n",
       "\t<tr><td>TRUE </td><td>SDI                           </td><td>-4.841735e+02</td><td>166.210198670</td><td>816.59389290</td><td>650.38369423</td></tr>\n",
       "\t<tr><td>TRUE </td><td>CHU                           </td><td>-3.414392e-02</td><td>  0.022596821</td><td>  0.07933757</td><td>  0.05674074</td></tr>\n",
       "\t<tr><td>TRUE </td><td>cumulated precipitations      </td><td>-2.212340e-01</td><td> -0.044008907</td><td>  0.13321617</td><td>  0.17722508</td></tr>\n",
       "\t<tr><td>TRUE </td><td>dose P                        </td><td>-6.835517e-02</td><td>  0.158763305</td><td>  0.38588178</td><td>  0.22711848</td></tr>\n",
       "\t<tr><td>TRUE </td><td>P sourceAAP                   </td><td>-1.082556e+01</td><td> 12.514676326</td><td> 35.85491475</td><td> 23.34023842</td></tr>\n",
       "\t<tr><td>TRUE </td><td>soil P/Al:dose P              </td><td>-5.569496e-01</td><td>  0.041239380</td><td>  0.63942832</td><td>  0.59818894</td></tr>\n",
       "</tbody>\n",
       "</table>\n"
      ],
      "text/latex": [
       "A tibble: 28 × 6\n",
       "\\begin{tabular}{llllll}\n",
       " is\\_manure & Variable & lower & est. & upper & uncertainty\\\\\n",
       " <chr> & <chr> & <dbl> & <dbl> & <dbl> & <dbl>\\\\\n",
       "\\hline\n",
       "\t FALSE & pH                             &  2.848305e+00 &  11.719128306 &  20.58995169 &   8.87082338\\\\\n",
       "\t FALSE & soil P/Al                      & -5.645548e+01 & -19.094333452 &  18.26680851 &  37.36114196\\\\\n",
       "\t FALSE & soil {[}gley \\textbar{} podzol{]}           &  2.954934e-01 &   3.902820149 &   7.51014689 &   3.60732674\\\\\n",
       "\t FALSE & soil {[}loam gley \\textbar{} sandy gley{]}  &  1.344833e+00 &   4.202544387 &   7.06025555 &   2.85771116\\\\\n",
       "\t FALSE & soil {[}carbon \\textbar{} clay,silt,sand{]} & -1.595240e+01 &  -3.416458343 &   9.11948210 &  12.53594045\\\\\n",
       "\t FALSE & soil {[}clay \\textbar{} silt,sand{]}        &  3.889438e+00 &  10.389723201 &  16.89000793 &   6.50028473\\\\\n",
       "\t FALSE & soil {[}silt \\textbar{} sand{]}             & -1.524592e+01 &  -6.112129594 &   3.02166121 &   9.13379080\\\\\n",
       "\t FALSE & SDI                            &  1.082529e+02 & 326.971680875 & 545.69048307 & 218.71880220\\\\\n",
       "\t FALSE & CHU                            & -2.125851e-02 &   0.008225523 &   0.03770956 &   0.02948404\\\\\n",
       "\t FALSE & cumulated precipitations       & -1.357892e-01 &  -0.048907783 &   0.03797359 &   0.08688137\\\\\n",
       "\t FALSE & dose P                         & -2.265909e-03 &   0.072074041 &   0.14641399 &   0.07433995\\\\\n",
       "\t FALSE & P sourceMAP                    & -1.146715e+01 &   6.118647237 &  23.70444397 &  17.58579673\\\\\n",
       "\t FALSE & P sourceMAP DAP                & -4.375215e+00 &  14.284213355 &  32.94364163 &  18.65942828\\\\\n",
       "\t FALSE & P sourceOMF                    &  5.542400e-01 &  10.112083675 &  19.66992730 &   9.55784363\\\\\n",
       "\t FALSE & soil P/Al:dose P               & -7.097146e-01 &  -0.185895965 &   0.33792263 &   0.52381860\\\\\n",
       "\t TRUE  & pH                             & -3.840647e+00 &  16.452297185 &  36.74524175 &  20.29294457\\\\\n",
       "\t TRUE  & soil P/Al                      & -3.662608e+01 &  -7.920553374 &  20.78497007 &  28.70552344\\\\\n",
       "\t TRUE  & soil {[}gley \\textbar{} podzol{]}           & -7.659905e+00 &  -0.929811992 &   5.80028055 &   6.73009254\\\\\n",
       "\t TRUE  & soil {[}loam gley \\textbar{} sandy gley{]}  & -8.878021e+00 &   2.103617117 &  13.08525527 &  10.98163815\\\\\n",
       "\t TRUE  & soil {[}carbon \\textbar{} clay,silt,sand{]} & -7.028187e+00 &  15.463684746 &  37.95555633 &  22.49187159\\\\\n",
       "\t TRUE  & soil {[}clay \\textbar{} silt,sand{]}        & -1.736253e+01 &  -6.131133038 &   5.10026885 &  11.23140189\\\\\n",
       "\t TRUE  & soil {[}silt \\textbar{} sand{]}             & -1.687717e+01 &   3.300776879 &  23.47872170 &  20.17794482\\\\\n",
       "\t TRUE  & SDI                            & -4.841735e+02 & 166.210198670 & 816.59389290 & 650.38369423\\\\\n",
       "\t TRUE  & CHU                            & -3.414392e-02 &   0.022596821 &   0.07933757 &   0.05674074\\\\\n",
       "\t TRUE  & cumulated precipitations       & -2.212340e-01 &  -0.044008907 &   0.13321617 &   0.17722508\\\\\n",
       "\t TRUE  & dose P                         & -6.835517e-02 &   0.158763305 &   0.38588178 &   0.22711848\\\\\n",
       "\t TRUE  & P sourceAAP                    & -1.082556e+01 &  12.514676326 &  35.85491475 &  23.34023842\\\\\n",
       "\t TRUE  & soil P/Al:dose P               & -5.569496e-01 &   0.041239380 &   0.63942832 &   0.59818894\\\\\n",
       "\\end{tabular}\n"
      ],
      "text/markdown": [
       "\n",
       "A tibble: 28 × 6\n",
       "\n",
       "| is_manure &lt;chr&gt; | Variable &lt;chr&gt; | lower &lt;dbl&gt; | est. &lt;dbl&gt; | upper &lt;dbl&gt; | uncertainty &lt;dbl&gt; |\n",
       "|---|---|---|---|---|---|\n",
       "| FALSE | pH                             |  2.848305e+00 |  11.719128306 |  20.58995169 |   8.87082338 |\n",
       "| FALSE | soil P/Al                      | -5.645548e+01 | -19.094333452 |  18.26680851 |  37.36114196 |\n",
       "| FALSE | soil [gley | podzol]           |  2.954934e-01 |   3.902820149 |   7.51014689 |   3.60732674 |\n",
       "| FALSE | soil [loam gley | sandy gley]  |  1.344833e+00 |   4.202544387 |   7.06025555 |   2.85771116 |\n",
       "| FALSE | soil [carbon | clay,silt,sand] | -1.595240e+01 |  -3.416458343 |   9.11948210 |  12.53594045 |\n",
       "| FALSE | soil [clay | silt,sand]        |  3.889438e+00 |  10.389723201 |  16.89000793 |   6.50028473 |\n",
       "| FALSE | soil [silt | sand]             | -1.524592e+01 |  -6.112129594 |   3.02166121 |   9.13379080 |\n",
       "| FALSE | SDI                            |  1.082529e+02 | 326.971680875 | 545.69048307 | 218.71880220 |\n",
       "| FALSE | CHU                            | -2.125851e-02 |   0.008225523 |   0.03770956 |   0.02948404 |\n",
       "| FALSE | cumulated precipitations       | -1.357892e-01 |  -0.048907783 |   0.03797359 |   0.08688137 |\n",
       "| FALSE | dose P                         | -2.265909e-03 |   0.072074041 |   0.14641399 |   0.07433995 |\n",
       "| FALSE | P sourceMAP                    | -1.146715e+01 |   6.118647237 |  23.70444397 |  17.58579673 |\n",
       "| FALSE | P sourceMAP DAP                | -4.375215e+00 |  14.284213355 |  32.94364163 |  18.65942828 |\n",
       "| FALSE | P sourceOMF                    |  5.542400e-01 |  10.112083675 |  19.66992730 |   9.55784363 |\n",
       "| FALSE | soil P/Al:dose P               | -7.097146e-01 |  -0.185895965 |   0.33792263 |   0.52381860 |\n",
       "| TRUE  | pH                             | -3.840647e+00 |  16.452297185 |  36.74524175 |  20.29294457 |\n",
       "| TRUE  | soil P/Al                      | -3.662608e+01 |  -7.920553374 |  20.78497007 |  28.70552344 |\n",
       "| TRUE  | soil [gley | podzol]           | -7.659905e+00 |  -0.929811992 |   5.80028055 |   6.73009254 |\n",
       "| TRUE  | soil [loam gley | sandy gley]  | -8.878021e+00 |   2.103617117 |  13.08525527 |  10.98163815 |\n",
       "| TRUE  | soil [carbon | clay,silt,sand] | -7.028187e+00 |  15.463684746 |  37.95555633 |  22.49187159 |\n",
       "| TRUE  | soil [clay | silt,sand]        | -1.736253e+01 |  -6.131133038 |   5.10026885 |  11.23140189 |\n",
       "| TRUE  | soil [silt | sand]             | -1.687717e+01 |   3.300776879 |  23.47872170 |  20.17794482 |\n",
       "| TRUE  | SDI                            | -4.841735e+02 | 166.210198670 | 816.59389290 | 650.38369423 |\n",
       "| TRUE  | CHU                            | -3.414392e-02 |   0.022596821 |   0.07933757 |   0.05674074 |\n",
       "| TRUE  | cumulated precipitations       | -2.212340e-01 |  -0.044008907 |   0.13321617 |   0.17722508 |\n",
       "| TRUE  | dose P                         | -6.835517e-02 |   0.158763305 |   0.38588178 |   0.22711848 |\n",
       "| TRUE  | P sourceAAP                    | -1.082556e+01 |  12.514676326 |  35.85491475 |  23.34023842 |\n",
       "| TRUE  | soil P/Al:dose P               | -5.569496e-01 |   0.041239380 |   0.63942832 |   0.59818894 |\n",
       "\n"
      ],
      "text/plain": [
       "   is_manure Variable                       lower         est.         \n",
       "1  FALSE     pH                              2.848305e+00  11.719128306\n",
       "2  FALSE     soil P/Al                      -5.645548e+01 -19.094333452\n",
       "3  FALSE     soil [gley | podzol]            2.954934e-01   3.902820149\n",
       "4  FALSE     soil [loam gley | sandy gley]   1.344833e+00   4.202544387\n",
       "5  FALSE     soil [carbon | clay,silt,sand] -1.595240e+01  -3.416458343\n",
       "6  FALSE     soil [clay | silt,sand]         3.889438e+00  10.389723201\n",
       "7  FALSE     soil [silt | sand]             -1.524592e+01  -6.112129594\n",
       "8  FALSE     SDI                             1.082529e+02 326.971680875\n",
       "9  FALSE     CHU                            -2.125851e-02   0.008225523\n",
       "10 FALSE     cumulated precipitations       -1.357892e-01  -0.048907783\n",
       "11 FALSE     dose P                         -2.265909e-03   0.072074041\n",
       "12 FALSE     P sourceMAP                    -1.146715e+01   6.118647237\n",
       "13 FALSE     P sourceMAP DAP                -4.375215e+00  14.284213355\n",
       "14 FALSE     P sourceOMF                     5.542400e-01  10.112083675\n",
       "15 FALSE     soil P/Al:dose P               -7.097146e-01  -0.185895965\n",
       "16 TRUE      pH                             -3.840647e+00  16.452297185\n",
       "17 TRUE      soil P/Al                      -3.662608e+01  -7.920553374\n",
       "18 TRUE      soil [gley | podzol]           -7.659905e+00  -0.929811992\n",
       "19 TRUE      soil [loam gley | sandy gley]  -8.878021e+00   2.103617117\n",
       "20 TRUE      soil [carbon | clay,silt,sand] -7.028187e+00  15.463684746\n",
       "21 TRUE      soil [clay | silt,sand]        -1.736253e+01  -6.131133038\n",
       "22 TRUE      soil [silt | sand]             -1.687717e+01   3.300776879\n",
       "23 TRUE      SDI                            -4.841735e+02 166.210198670\n",
       "24 TRUE      CHU                            -3.414392e-02   0.022596821\n",
       "25 TRUE      cumulated precipitations       -2.212340e-01  -0.044008907\n",
       "26 TRUE      dose P                         -6.835517e-02   0.158763305\n",
       "27 TRUE      P sourceAAP                    -1.082556e+01  12.514676326\n",
       "28 TRUE      soil P/Al:dose P               -5.569496e-01   0.041239380\n",
       "   upper        uncertainty \n",
       "1   20.58995169   8.87082338\n",
       "2   18.26680851  37.36114196\n",
       "3    7.51014689   3.60732674\n",
       "4    7.06025555   2.85771116\n",
       "5    9.11948210  12.53594045\n",
       "6   16.89000793   6.50028473\n",
       "7    3.02166121   9.13379080\n",
       "8  545.69048307 218.71880220\n",
       "9    0.03770956   0.02948404\n",
       "10   0.03797359   0.08688137\n",
       "11   0.14641399   0.07433995\n",
       "12  23.70444397  17.58579673\n",
       "13  32.94364163  18.65942828\n",
       "14  19.66992730   9.55784363\n",
       "15   0.33792263   0.52381860\n",
       "16  36.74524175  20.29294457\n",
       "17  20.78497007  28.70552344\n",
       "18   5.80028055   6.73009254\n",
       "19  13.08525527  10.98163815\n",
       "20  37.95555633  22.49187159\n",
       "21   5.10026885  11.23140189\n",
       "22  23.47872170  20.17794482\n",
       "23 816.59389290 650.38369423\n",
       "24   0.07933757   0.05674074\n",
       "25   0.13321617   0.17722508\n",
       "26   0.38588178   0.22711848\n",
       "27  35.85491475  23.34023842\n",
       "28   0.63942832   0.59818894"
      ]
     },
     "metadata": {},
     "output_type": "display_data"
    }
   ],
   "source": [
    "mm_lin_abs"
   ]
  },
  {
   "cell_type": "markdown",
   "metadata": {},
   "source": [
    "**Without manure**, each kg of P per ha had increased grain density by 0.072 +/- 0.074 g/L. A dosage of 40 kg/ha had thus increased grain density by 2.9 +/- 3.0 g/L compared to control.\n",
    "\n",
    "**With manure**, each kg of P per ha had increased grain density by 0.16 +/- 0.23 g/L. A dosage of 40 kg/ha had thus increased grain density by 6.4 +/- 9.2 g/L compared to control."
   ]
  }
 ],
 "metadata": {
  "kernelspec": {
   "display_name": "R 3.6.3 system",
   "language": "R",
   "name": "ir_363"
  },
  "language_info": {
   "codemirror_mode": "r",
   "file_extension": ".r",
   "mimetype": "text/x-r-source",
   "name": "R",
   "pygments_lexer": "r",
   "version": "3.6.3"
  }
 },
 "nbformat": 4,
 "nbformat_minor": 4
}
