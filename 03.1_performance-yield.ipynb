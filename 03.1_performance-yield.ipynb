{
 "cells": [
  {
   "cell_type": "markdown",
   "metadata": {},
   "source": [
    "# Question 3.1 Which agricultural variable is affecting corn **yield**? What is the importance of P relatively to other variables?"
   ]
  },
  {
   "cell_type": "markdown",
   "metadata": {},
   "source": [
    "In this notebook, we aim at assessing the linear effect of agricultural conditions, including the P dosage, on **yield**."
   ]
  },
  {
   "cell_type": "markdown",
   "metadata": {},
   "source": [
    "## Load data\n",
    "\n",
    "Load data exported from the preprocessing session."
   ]
  },
  {
   "cell_type": "code",
   "execution_count": 1,
   "metadata": {},
   "outputs": [],
   "source": [
    "load(\"output/preprocessed.RData\")"
   ]
  },
  {
   "cell_type": "markdown",
   "metadata": {},
   "source": [
    "## Load packages\n",
    "\n",
    "We obviously need the **`tidyverse`** package for data manipulation and plotting. **`ggthemes`** provides themes for plots. The **`nlme`** package is used for the linear mixted model. The **`broom`** package is used to create tidied **`nlme`** outputs."
   ]
  },
  {
   "cell_type": "code",
   "execution_count": 2,
   "metadata": {},
   "outputs": [
    {
     "name": "stderr",
     "output_type": "stream",
     "text": [
      "── \u001b[1mAttaching packages\u001b[22m ─────────────────────────────────────── tidyverse 1.3.0 ──\n",
      "\n",
      "\u001b[32m✔\u001b[39m \u001b[34mggplot2\u001b[39m 3.2.1     \u001b[32m✔\u001b[39m \u001b[34mpurrr  \u001b[39m 0.3.3\n",
      "\u001b[32m✔\u001b[39m \u001b[34mtibble \u001b[39m 2.1.3     \u001b[32m✔\u001b[39m \u001b[34mdplyr  \u001b[39m 0.8.4\n",
      "\u001b[32m✔\u001b[39m \u001b[34mtidyr  \u001b[39m 1.0.2     \u001b[32m✔\u001b[39m \u001b[34mstringr\u001b[39m 1.4.0\n",
      "\u001b[32m✔\u001b[39m \u001b[34mreadr  \u001b[39m 1.3.1     \u001b[32m✔\u001b[39m \u001b[34mforcats\u001b[39m 0.4.0\n",
      "\n",
      "── \u001b[1mConflicts\u001b[22m ────────────────────────────────────────── tidyverse_conflicts() ──\n",
      "\u001b[31m✖\u001b[39m \u001b[34mdplyr\u001b[39m::\u001b[32mfilter()\u001b[39m masks \u001b[34mstats\u001b[39m::filter()\n",
      "\u001b[31m✖\u001b[39m \u001b[34mdplyr\u001b[39m::\u001b[32mlag()\u001b[39m    masks \u001b[34mstats\u001b[39m::lag()\n",
      "\n",
      "\n",
      "Attaching package: ‘nlme’\n",
      "\n",
      "\n",
      "The following object is masked from ‘package:dplyr’:\n",
      "\n",
      "    collapse\n",
      "\n",
      "\n"
     ]
    }
   ],
   "source": [
    "library(\"tidyverse\")\n",
    "library(\"broom\")\n",
    "library(\"ggthemes\")\n",
    "library(\"nlme\")"
   ]
  },
  {
   "cell_type": "markdown",
   "metadata": {},
   "source": [
    "## Preparation to modeling\n",
    "\n",
    "We select the variables to be included in the model."
   ]
  },
  {
   "cell_type": "code",
   "execution_count": 3,
   "metadata": {},
   "outputs": [],
   "source": [
    "var_mm <- c(soil_vars, weather_vars, \"doseP\", \"P.Source\")\n",
    "data_mm <- data_rs[c(\"ID\", \"Year\", \"yield_t.ha\", var_mm)]"
   ]
  },
  {
   "cell_type": "markdown",
   "metadata": {},
   "source": [
    "Filter out missing data."
   ]
  },
  {
   "cell_type": "code",
   "execution_count": 4,
   "metadata": {},
   "outputs": [],
   "source": [
    "data_mm <- data_mm %>%\n",
    "  drop_na() %>%\n",
    "  droplevels()"
   ]
  },
  {
   "cell_type": "markdown",
   "metadata": {},
   "source": [
    "Data left for modelling:"
   ]
  },
  {
   "cell_type": "code",
   "execution_count": 5,
   "metadata": {},
   "outputs": [
    {
     "name": "stdout",
     "output_type": "stream",
     "text": [
      "[1] \"Number of lines: 781\"\n",
      "[1] \"Number of trials: 303\"\n"
     ]
    }
   ],
   "source": [
    "print(paste('Number of lines:', nrow(data_mm)))\n",
    "print(paste('Number of trials:', nlevels(data_mm$ID)))"
   ]
  },
  {
   "cell_type": "markdown",
   "metadata": {},
   "source": [
    "## Linear model"
   ]
  },
  {
   "cell_type": "markdown",
   "metadata": {},
   "source": [
    "We begin by scaling all variables by removing the mean and dividing by the standard deviation. This assures that the effects (slopes) of the model can be compared."
   ]
  },
  {
   "cell_type": "code",
   "execution_count": 6,
   "metadata": {},
   "outputs": [],
   "source": [
    "scaled_num <- data_mm %>% \n",
    "  select(-ID, -Year, -is_manure, -yield_t.ha, -P.Source) %>%\n",
    "  scale() %>%\n",
    "  as_tibble()\n",
    "data_mm_sc <- bind_cols(data_mm %>% select(ID, Year, is_manure, yield_t.ha, P.Source), scaled_num)"
   ]
  },
  {
   "cell_type": "markdown",
   "metadata": {},
   "source": [
    "We launch split the procedure in two parts, **with and without manure**, which are datasets conducted under different methodologies. Then we run a frequential linear mixed model for each on them, then arrange the table for ploting."
   ]
  },
  {
   "cell_type": "code",
   "execution_count": 7,
   "metadata": {},
   "outputs": [
    {
     "name": "stderr",
     "output_type": "stream",
     "text": [
      "Warning message:\n",
      "“'tidy.matrix' is deprecated.\n",
      "See help(\"Deprecated\")”\n",
      "Warning message:\n",
      "“'tidy.matrix' is deprecated.\n",
      "See help(\"Deprecated\")”\n"
     ]
    }
   ],
   "source": [
    "mm_lin <- data_mm_sc %>%\n",
    "  split(.$is_manure) %>%\n",
    "  map(~ intervals(lme(as.formula(paste(\"yield_t.ha ~ \", paste(var_mm[var_mm != \"is_manure\"], collapse=\" + \"),\n",
    "                               \"+ doseP:Soil_P.Al\")),\n",
    "            random = ~ 1|Year/ID,\n",
    "            data = .), which = \"fixed\")$fixed) %>%\n",
    "  map_dfr(~tidy(.), .id = 'is_manure') %>%\n",
    "  rename(Variable = .rownames) %>%\n",
    "  filter(Variable != \"(Intercept)\")  %>%\n",
    "  mutate(is_manure = ifelse(is_manure, \"With manure\", \"Without manure\"),\n",
    "         Category = c(\"Soil chemistry\", \"Soil chemistry\",\n",
    "                      \"Soil gensis\", \"Soil gensis\",\n",
    "                      \"Soil texture\", \"Soil texture\", \"Soil texture\",\n",
    "                      \"Weather\", \"Weather\", \"Weather\",\n",
    "                      \"Dose\",\n",
    "                      \"Dose\",\"Dose\",\"Dose\",\"Dose\",\n",
    "                      \"Dose\",\n",
    "                      \"Soil chemistry\", \"Soil chemistry\",\n",
    "                      \"Soil gensis\", \"Soil gensis\",\n",
    "                      \"Soil texture\", \"Soil texture\", \"Soil texture\",\n",
    "                      \"Weather\", \"Weather\", \"Weather\",\n",
    "                      \"Dose\",\n",
    "                      \"Dose\",\n",
    "                      \"Dose\"))"
   ]
  },
  {
   "cell_type": "markdown",
   "metadata": {},
   "source": [
    "Variables are renamed to readable string."
   ]
  },
  {
   "cell_type": "code",
   "execution_count": 8,
   "metadata": {},
   "outputs": [],
   "source": [
    "for (i in 1:nrow(translate_col)) {\n",
    "  mm_lin$Variable <- sub(pattern = translate_col$from_name_mm[i], \n",
    "                                 replacement = translate_col$to_name_mm_long_en[i],\n",
    "                                 x = mm_lin$Variable)\n",
    "}"
   ]
  },
  {
   "cell_type": "markdown",
   "metadata": {},
   "source": [
    "We plot the slopes and their confidence interval."
   ]
  },
  {
   "cell_type": "code",
   "execution_count": 9,
   "metadata": {},
   "outputs": [
    {
     "data": {
      "image/png": "[encoded data removed]",
      "text/plain": [
       "plot without title"
      ]
     },
     "metadata": {
      "image/png": {
       "height": 300,
       "width": 840
      },
      "text/plain": {
       "height": 300,
       "width": 840
      }
     },
     "output_type": "display_data"
    }
   ],
   "source": [
    "options(repr.plot.width = 14, repr.plot.height = 5)\n",
    "mm_lin %>%\n",
    "  ggplot() +\n",
    "  geom_vline(xintercept = 0, lwd = 0.1) +\n",
    "  geom_segment(aes(x = lower, xend = upper, y = Variable, yend = Variable), lwd = 1) +\n",
    "  geom_label(aes(x = `est.`, y = Variable, label = format(round(est., 2), nsmall = 2)),\n",
    "             size = 3, label.padding = unit(0.1, \"lines\"), colour = \"white\", fill = \"black\", label.size = 0) +\n",
    "  geom_text(aes(x = lower, y = Variable, label = format(round(lower, 2), nsmall = 2)), size = 3, hjust = 1.5) +\n",
    "  geom_text(aes(x = upper, y = Variable, label = format(round(upper, 2), nsmall = 2)), size = 3, hjust = -0.5) +\n",
    "  facet_grid(Category ~ is_manure, scales = \"free_y\", space = \"free_y\") +\n",
    "  labs(x = \"Scaled effect\", y = \"\") +\n",
    "  expand_limits(x=c(-7, 7)) +\n",
    "  theme_hc() +\n",
    "  theme(strip.text.y = element_text(angle = 0))"
   ]
  },
  {
   "cell_type": "code",
   "execution_count": 10,
   "metadata": {},
   "outputs": [],
   "source": [
    "ggsave(\"images/yield_linmod.jpg\", height = 5, width = 14, dpi = 600)"
   ]
  },
  {
   "cell_type": "markdown",
   "metadata": {},
   "source": [
    "If we would want absolute effects, we use the dataset `data_mm` instead of `data_mm_sc`."
   ]
  },
  {
   "cell_type": "code",
   "execution_count": 11,
   "metadata": {},
   "outputs": [
    {
     "name": "stderr",
     "output_type": "stream",
     "text": [
      "Warning message:\n",
      "“'tidy.matrix' is deprecated.\n",
      "See help(\"Deprecated\")”\n",
      "Warning message:\n",
      "“'tidy.matrix' is deprecated.\n",
      "See help(\"Deprecated\")”\n"
     ]
    }
   ],
   "source": [
    "mm_lin_abs <- data_mm %>%\n",
    "  split(.$is_manure) %>%\n",
    "  map(~ intervals(lme(as.formula(paste(\"yield_t.ha ~ \", paste(var_mm[var_mm != \"is_manure\"], collapse=\" + \"),\n",
    "                               \"+ doseP:Soil_P.Al\")),\n",
    "            random = ~ 1|Year/ID,\n",
    "            data = .), which = \"fixed\")$fixed) %>%\n",
    "  map_dfr(~tidy(.), .id = 'is_manure') %>%\n",
    "  rename(Variable = .rownames) %>%\n",
    "  filter(Variable != \"(Intercept)\") %>%\n",
    "  mutate(uncertainty = est.-lower)"
   ]
  },
  {
   "cell_type": "markdown",
   "metadata": {},
   "source": [
    "Variables are renamed to readable string."
   ]
  },
  {
   "cell_type": "code",
   "execution_count": 12,
   "metadata": {},
   "outputs": [],
   "source": [
    "for (i in 1:nrow(translate_col)) {\n",
    "  mm_lin_abs$Variable <- sub(pattern = translate_col$from_name_mm[i], \n",
    "                                 replacement = translate_col$to_name_mm_long_en[i],\n",
    "                                 x = mm_lin_abs$Variable)\n",
    "}"
   ]
  },
  {
   "cell_type": "code",
   "execution_count": 13,
   "metadata": {},
   "outputs": [
    {
     "data": {
      "text/html": [
       "<table>\n",
       "<caption>A tibble: 29 × 6</caption>\n",
       "<thead>\n",
       "\t<tr><th scope=col>is_manure</th><th scope=col>Variable</th><th scope=col>lower</th><th scope=col>est.</th><th scope=col>upper</th><th scope=col>uncertainty</th></tr>\n",
       "\t<tr><th scope=col>&lt;chr&gt;</th><th scope=col>&lt;chr&gt;</th><th scope=col>&lt;dbl&gt;</th><th scope=col>&lt;dbl&gt;</th><th scope=col>&lt;dbl&gt;</th><th scope=col>&lt;dbl&gt;</th></tr>\n",
       "</thead>\n",
       "<tbody>\n",
       "\t<tr><td>FALSE</td><td>pH                            </td><td>-6.400493e-02</td><td> 0.3877235579</td><td> 0.839452050</td><td> 0.451728492</td></tr>\n",
       "\t<tr><td>FALSE</td><td>soil P/Al                     </td><td>-1.021247e+00</td><td> 0.8752642114</td><td> 2.771774965</td><td> 1.896510753</td></tr>\n",
       "\t<tr><td>FALSE</td><td>soil [gley | podzol]          </td><td>-2.635206e-01</td><td>-0.0791455100</td><td> 0.105229624</td><td> 0.184375134</td></tr>\n",
       "\t<tr><td>FALSE</td><td>soil [loam gley | sandy gley] </td><td>-1.445349e-01</td><td> 0.0015306469</td><td> 0.147596150</td><td> 0.146065503</td></tr>\n",
       "\t<tr><td>FALSE</td><td>soil [carbon | clay,silt,sand]</td><td>-8.125156e-01</td><td>-0.1989231818</td><td> 0.414669276</td><td> 0.613592458</td></tr>\n",
       "\t<tr><td>FALSE</td><td>soil [clay | silt,sand]       </td><td>-1.832238e-01</td><td> 0.1433639842</td><td> 0.469951771</td><td> 0.326587787</td></tr>\n",
       "\t<tr><td>FALSE</td><td>soil [silt | sand]            </td><td>-6.760266e-01</td><td>-0.2193868928</td><td> 0.237252836</td><td> 0.456639729</td></tr>\n",
       "\t<tr><td>FALSE</td><td>SDI                           </td><td>-6.499964e+00</td><td> 4.0757469917</td><td>14.651457681</td><td>10.575710689</td></tr>\n",
       "\t<tr><td>FALSE</td><td>CHU                           </td><td> 3.534009e-03</td><td> 0.0049719361</td><td> 0.006409863</td><td> 0.001437927</td></tr>\n",
       "\t<tr><td>FALSE</td><td>cumulated precipitations      </td><td> 1.206186e-04</td><td> 0.0045724690</td><td> 0.009024319</td><td> 0.004451850</td></tr>\n",
       "\t<tr><td>FALSE</td><td>dose P                        </td><td> 4.094436e-03</td><td> 0.0096277138</td><td> 0.015160991</td><td> 0.005533278</td></tr>\n",
       "\t<tr><td>FALSE</td><td>P sourceMAP                   </td><td>-5.894416e-01</td><td> 0.2871026736</td><td> 1.163646990</td><td> 0.876544317</td></tr>\n",
       "\t<tr><td>FALSE</td><td>P sourceMAP DAP               </td><td>-9.011778e-01</td><td> 0.0603104925</td><td> 1.021798824</td><td> 0.961488332</td></tr>\n",
       "\t<tr><td>FALSE</td><td>P sourceOMF                   </td><td>-3.871417e-01</td><td> 0.0958034471</td><td> 0.578748560</td><td> 0.482945113</td></tr>\n",
       "\t<tr><td>FALSE</td><td>P sourceTSP                   </td><td>-3.014959e+00</td><td>-1.7346545369</td><td>-0.454350206</td><td> 1.280304331</td></tr>\n",
       "\t<tr><td>FALSE</td><td>soil P/Al:dose P              </td><td>-8.401900e-02</td><td>-0.0454197073</td><td>-0.006820415</td><td> 0.038599292</td></tr>\n",
       "\t<tr><td>TRUE </td><td>pH                            </td><td>-3.198710e-01</td><td> 0.4313141434</td><td> 1.182499305</td><td> 0.751185162</td></tr>\n",
       "\t<tr><td>TRUE </td><td>soil P/Al                     </td><td>-6.749368e-01</td><td> 0.5393614360</td><td> 1.753659694</td><td> 1.214298258</td></tr>\n",
       "\t<tr><td>TRUE </td><td>soil [gley | podzol]          </td><td>-5.359102e-01</td><td>-0.2695012367</td><td>-0.003092285</td><td> 0.266408952</td></tr>\n",
       "\t<tr><td>TRUE </td><td>soil [loam gley | sandy gley] </td><td>-1.040463e-01</td><td> 0.2486531699</td><td> 0.601352599</td><td> 0.352699429</td></tr>\n",
       "\t<tr><td>TRUE </td><td>soil [carbon | clay,silt,sand]</td><td>-8.106286e-01</td><td> 0.1464813337</td><td> 1.103591308</td><td> 0.957109974</td></tr>\n",
       "\t<tr><td>TRUE </td><td>soil [clay | silt,sand]       </td><td>-1.778255e-01</td><td> 0.3157803361</td><td> 0.809386188</td><td> 0.493605852</td></tr>\n",
       "\t<tr><td>TRUE </td><td>soil [silt | sand]            </td><td>-9.595477e-01</td><td>-0.0919375668</td><td> 0.775672575</td><td> 0.867610142</td></tr>\n",
       "\t<tr><td>TRUE </td><td>SDI                           </td><td>-1.377316e+01</td><td>14.2356804701</td><td>42.244516540</td><td>28.008836070</td></tr>\n",
       "\t<tr><td>TRUE </td><td>CHU                           </td><td>-1.542911e-03</td><td> 0.0008413735</td><td> 0.003225658</td><td> 0.002384284</td></tr>\n",
       "\t<tr><td>TRUE </td><td>cumulated precipitations      </td><td>-1.126798e-02</td><td>-0.0046654577</td><td> 0.001937067</td><td> 0.006602525</td></tr>\n",
       "\t<tr><td>TRUE </td><td>dose P                        </td><td>-6.142502e-03</td><td> 0.0014200462</td><td> 0.008982595</td><td> 0.007562548</td></tr>\n",
       "\t<tr><td>TRUE </td><td>P sourceAAP                   </td><td>-3.854870e-01</td><td> 0.6173193387</td><td> 1.620125628</td><td> 1.002806289</td></tr>\n",
       "\t<tr><td>TRUE </td><td>soil P/Al:dose P              </td><td>-1.820871e-02</td><td>-0.0004085405</td><td> 0.017391624</td><td> 0.017800165</td></tr>\n",
       "</tbody>\n",
       "</table>\n"
      ],
      "text/latex": [
       "A tibble: 29 × 6\n",
       "\\begin{tabular}{llllll}\n",
       " is\\_manure & Variable & lower & est. & upper & uncertainty\\\\\n",
       " <chr> & <chr> & <dbl> & <dbl> & <dbl> & <dbl>\\\\\n",
       "\\hline\n",
       "\t FALSE & pH                             & -6.400493e-02 &  0.3877235579 &  0.839452050 &  0.451728492\\\\\n",
       "\t FALSE & soil P/Al                      & -1.021247e+00 &  0.8752642114 &  2.771774965 &  1.896510753\\\\\n",
       "\t FALSE & soil {[}gley \\textbar{} podzol{]}           & -2.635206e-01 & -0.0791455100 &  0.105229624 &  0.184375134\\\\\n",
       "\t FALSE & soil {[}loam gley \\textbar{} sandy gley{]}  & -1.445349e-01 &  0.0015306469 &  0.147596150 &  0.146065503\\\\\n",
       "\t FALSE & soil {[}carbon \\textbar{} clay,silt,sand{]} & -8.125156e-01 & -0.1989231818 &  0.414669276 &  0.613592458\\\\\n",
       "\t FALSE & soil {[}clay \\textbar{} silt,sand{]}        & -1.832238e-01 &  0.1433639842 &  0.469951771 &  0.326587787\\\\\n",
       "\t FALSE & soil {[}silt \\textbar{} sand{]}             & -6.760266e-01 & -0.2193868928 &  0.237252836 &  0.456639729\\\\\n",
       "\t FALSE & SDI                            & -6.499964e+00 &  4.0757469917 & 14.651457681 & 10.575710689\\\\\n",
       "\t FALSE & CHU                            &  3.534009e-03 &  0.0049719361 &  0.006409863 &  0.001437927\\\\\n",
       "\t FALSE & cumulated precipitations       &  1.206186e-04 &  0.0045724690 &  0.009024319 &  0.004451850\\\\\n",
       "\t FALSE & dose P                         &  4.094436e-03 &  0.0096277138 &  0.015160991 &  0.005533278\\\\\n",
       "\t FALSE & P sourceMAP                    & -5.894416e-01 &  0.2871026736 &  1.163646990 &  0.876544317\\\\\n",
       "\t FALSE & P sourceMAP DAP                & -9.011778e-01 &  0.0603104925 &  1.021798824 &  0.961488332\\\\\n",
       "\t FALSE & P sourceOMF                    & -3.871417e-01 &  0.0958034471 &  0.578748560 &  0.482945113\\\\\n",
       "\t FALSE & P sourceTSP                    & -3.014959e+00 & -1.7346545369 & -0.454350206 &  1.280304331\\\\\n",
       "\t FALSE & soil P/Al:dose P               & -8.401900e-02 & -0.0454197073 & -0.006820415 &  0.038599292\\\\\n",
       "\t TRUE  & pH                             & -3.198710e-01 &  0.4313141434 &  1.182499305 &  0.751185162\\\\\n",
       "\t TRUE  & soil P/Al                      & -6.749368e-01 &  0.5393614360 &  1.753659694 &  1.214298258\\\\\n",
       "\t TRUE  & soil {[}gley \\textbar{} podzol{]}           & -5.359102e-01 & -0.2695012367 & -0.003092285 &  0.266408952\\\\\n",
       "\t TRUE  & soil {[}loam gley \\textbar{} sandy gley{]}  & -1.040463e-01 &  0.2486531699 &  0.601352599 &  0.352699429\\\\\n",
       "\t TRUE  & soil {[}carbon \\textbar{} clay,silt,sand{]} & -8.106286e-01 &  0.1464813337 &  1.103591308 &  0.957109974\\\\\n",
       "\t TRUE  & soil {[}clay \\textbar{} silt,sand{]}        & -1.778255e-01 &  0.3157803361 &  0.809386188 &  0.493605852\\\\\n",
       "\t TRUE  & soil {[}silt \\textbar{} sand{]}             & -9.595477e-01 & -0.0919375668 &  0.775672575 &  0.867610142\\\\\n",
       "\t TRUE  & SDI                            & -1.377316e+01 & 14.2356804701 & 42.244516540 & 28.008836070\\\\\n",
       "\t TRUE  & CHU                            & -1.542911e-03 &  0.0008413735 &  0.003225658 &  0.002384284\\\\\n",
       "\t TRUE  & cumulated precipitations       & -1.126798e-02 & -0.0046654577 &  0.001937067 &  0.006602525\\\\\n",
       "\t TRUE  & dose P                         & -6.142502e-03 &  0.0014200462 &  0.008982595 &  0.007562548\\\\\n",
       "\t TRUE  & P sourceAAP                    & -3.854870e-01 &  0.6173193387 &  1.620125628 &  1.002806289\\\\\n",
       "\t TRUE  & soil P/Al:dose P               & -1.820871e-02 & -0.0004085405 &  0.017391624 &  0.017800165\\\\\n",
       "\\end{tabular}\n"
      ],
      "text/markdown": [
       "\n",
       "A tibble: 29 × 6\n",
       "\n",
       "| is_manure &lt;chr&gt; | Variable &lt;chr&gt; | lower &lt;dbl&gt; | est. &lt;dbl&gt; | upper &lt;dbl&gt; | uncertainty &lt;dbl&gt; |\n",
       "|---|---|---|---|---|---|\n",
       "| FALSE | pH                             | -6.400493e-02 |  0.3877235579 |  0.839452050 |  0.451728492 |\n",
       "| FALSE | soil P/Al                      | -1.021247e+00 |  0.8752642114 |  2.771774965 |  1.896510753 |\n",
       "| FALSE | soil [gley | podzol]           | -2.635206e-01 | -0.0791455100 |  0.105229624 |  0.184375134 |\n",
       "| FALSE | soil [loam gley | sandy gley]  | -1.445349e-01 |  0.0015306469 |  0.147596150 |  0.146065503 |\n",
       "| FALSE | soil [carbon | clay,silt,sand] | -8.125156e-01 | -0.1989231818 |  0.414669276 |  0.613592458 |\n",
       "| FALSE | soil [clay | silt,sand]        | -1.832238e-01 |  0.1433639842 |  0.469951771 |  0.326587787 |\n",
       "| FALSE | soil [silt | sand]             | -6.760266e-01 | -0.2193868928 |  0.237252836 |  0.456639729 |\n",
       "| FALSE | SDI                            | -6.499964e+00 |  4.0757469917 | 14.651457681 | 10.575710689 |\n",
       "| FALSE | CHU                            |  3.534009e-03 |  0.0049719361 |  0.006409863 |  0.001437927 |\n",
       "| FALSE | cumulated precipitations       |  1.206186e-04 |  0.0045724690 |  0.009024319 |  0.004451850 |\n",
       "| FALSE | dose P                         |  4.094436e-03 |  0.0096277138 |  0.015160991 |  0.005533278 |\n",
       "| FALSE | P sourceMAP                    | -5.894416e-01 |  0.2871026736 |  1.163646990 |  0.876544317 |\n",
       "| FALSE | P sourceMAP DAP                | -9.011778e-01 |  0.0603104925 |  1.021798824 |  0.961488332 |\n",
       "| FALSE | P sourceOMF                    | -3.871417e-01 |  0.0958034471 |  0.578748560 |  0.482945113 |\n",
       "| FALSE | P sourceTSP                    | -3.014959e+00 | -1.7346545369 | -0.454350206 |  1.280304331 |\n",
       "| FALSE | soil P/Al:dose P               | -8.401900e-02 | -0.0454197073 | -0.006820415 |  0.038599292 |\n",
       "| TRUE  | pH                             | -3.198710e-01 |  0.4313141434 |  1.182499305 |  0.751185162 |\n",
       "| TRUE  | soil P/Al                      | -6.749368e-01 |  0.5393614360 |  1.753659694 |  1.214298258 |\n",
       "| TRUE  | soil [gley | podzol]           | -5.359102e-01 | -0.2695012367 | -0.003092285 |  0.266408952 |\n",
       "| TRUE  | soil [loam gley | sandy gley]  | -1.040463e-01 |  0.2486531699 |  0.601352599 |  0.352699429 |\n",
       "| TRUE  | soil [carbon | clay,silt,sand] | -8.106286e-01 |  0.1464813337 |  1.103591308 |  0.957109974 |\n",
       "| TRUE  | soil [clay | silt,sand]        | -1.778255e-01 |  0.3157803361 |  0.809386188 |  0.493605852 |\n",
       "| TRUE  | soil [silt | sand]             | -9.595477e-01 | -0.0919375668 |  0.775672575 |  0.867610142 |\n",
       "| TRUE  | SDI                            | -1.377316e+01 | 14.2356804701 | 42.244516540 | 28.008836070 |\n",
       "| TRUE  | CHU                            | -1.542911e-03 |  0.0008413735 |  0.003225658 |  0.002384284 |\n",
       "| TRUE  | cumulated precipitations       | -1.126798e-02 | -0.0046654577 |  0.001937067 |  0.006602525 |\n",
       "| TRUE  | dose P                         | -6.142502e-03 |  0.0014200462 |  0.008982595 |  0.007562548 |\n",
       "| TRUE  | P sourceAAP                    | -3.854870e-01 |  0.6173193387 |  1.620125628 |  1.002806289 |\n",
       "| TRUE  | soil P/Al:dose P               | -1.820871e-02 | -0.0004085405 |  0.017391624 |  0.017800165 |\n",
       "\n"
      ],
      "text/plain": [
       "   is_manure Variable                       lower         est.         \n",
       "1  FALSE     pH                             -6.400493e-02  0.3877235579\n",
       "2  FALSE     soil P/Al                      -1.021247e+00  0.8752642114\n",
       "3  FALSE     soil [gley | podzol]           -2.635206e-01 -0.0791455100\n",
       "4  FALSE     soil [loam gley | sandy gley]  -1.445349e-01  0.0015306469\n",
       "5  FALSE     soil [carbon | clay,silt,sand] -8.125156e-01 -0.1989231818\n",
       "6  FALSE     soil [clay | silt,sand]        -1.832238e-01  0.1433639842\n",
       "7  FALSE     soil [silt | sand]             -6.760266e-01 -0.2193868928\n",
       "8  FALSE     SDI                            -6.499964e+00  4.0757469917\n",
       "9  FALSE     CHU                             3.534009e-03  0.0049719361\n",
       "10 FALSE     cumulated precipitations        1.206186e-04  0.0045724690\n",
       "11 FALSE     dose P                          4.094436e-03  0.0096277138\n",
       "12 FALSE     P sourceMAP                    -5.894416e-01  0.2871026736\n",
       "13 FALSE     P sourceMAP DAP                -9.011778e-01  0.0603104925\n",
       "14 FALSE     P sourceOMF                    -3.871417e-01  0.0958034471\n",
       "15 FALSE     P sourceTSP                    -3.014959e+00 -1.7346545369\n",
       "16 FALSE     soil P/Al:dose P               -8.401900e-02 -0.0454197073\n",
       "17 TRUE      pH                             -3.198710e-01  0.4313141434\n",
       "18 TRUE      soil P/Al                      -6.749368e-01  0.5393614360\n",
       "19 TRUE      soil [gley | podzol]           -5.359102e-01 -0.2695012367\n",
       "20 TRUE      soil [loam gley | sandy gley]  -1.040463e-01  0.2486531699\n",
       "21 TRUE      soil [carbon | clay,silt,sand] -8.106286e-01  0.1464813337\n",
       "22 TRUE      soil [clay | silt,sand]        -1.778255e-01  0.3157803361\n",
       "23 TRUE      soil [silt | sand]             -9.595477e-01 -0.0919375668\n",
       "24 TRUE      SDI                            -1.377316e+01 14.2356804701\n",
       "25 TRUE      CHU                            -1.542911e-03  0.0008413735\n",
       "26 TRUE      cumulated precipitations       -1.126798e-02 -0.0046654577\n",
       "27 TRUE      dose P                         -6.142502e-03  0.0014200462\n",
       "28 TRUE      P sourceAAP                    -3.854870e-01  0.6173193387\n",
       "29 TRUE      soil P/Al:dose P               -1.820871e-02 -0.0004085405\n",
       "   upper        uncertainty \n",
       "1   0.839452050  0.451728492\n",
       "2   2.771774965  1.896510753\n",
       "3   0.105229624  0.184375134\n",
       "4   0.147596150  0.146065503\n",
       "5   0.414669276  0.613592458\n",
       "6   0.469951771  0.326587787\n",
       "7   0.237252836  0.456639729\n",
       "8  14.651457681 10.575710689\n",
       "9   0.006409863  0.001437927\n",
       "10  0.009024319  0.004451850\n",
       "11  0.015160991  0.005533278\n",
       "12  1.163646990  0.876544317\n",
       "13  1.021798824  0.961488332\n",
       "14  0.578748560  0.482945113\n",
       "15 -0.454350206  1.280304331\n",
       "16 -0.006820415  0.038599292\n",
       "17  1.182499305  0.751185162\n",
       "18  1.753659694  1.214298258\n",
       "19 -0.003092285  0.266408952\n",
       "20  0.601352599  0.352699429\n",
       "21  1.103591308  0.957109974\n",
       "22  0.809386188  0.493605852\n",
       "23  0.775672575  0.867610142\n",
       "24 42.244516540 28.008836070\n",
       "25  0.003225658  0.002384284\n",
       "26  0.001937067  0.006602525\n",
       "27  0.008982595  0.007562548\n",
       "28  1.620125628  1.002806289\n",
       "29  0.017391624  0.017800165"
      ]
     },
     "metadata": {},
     "output_type": "display_data"
    }
   ],
   "source": [
    "mm_lin_abs"
   ]
  },
  {
   "cell_type": "markdown",
   "metadata": {},
   "source": [
    "**Without manure**, each kg of P per ha had increased yield by 0.0096 +/- 0.0055 t/ha. A dosage of 40 kg/ha had thus increased yield by 0.38 +/- 0.22 t/ha compared to control.\n",
    "\n",
    "**With manure**, each kg of P per ha had increased yield by 0.0014 +/- 0.0076 t/ha. A dosage of 40 kg/ha had thus increased yield by 0.06 +/- 0.30 t/ha compared to control."
   ]
  }
 ],
 "metadata": {
  "kernelspec": {
   "display_name": "R corn phosphorus",
   "language": "R",
   "name": "ir_cornp"
  },
  "language_info": {
   "codemirror_mode": "r",
   "file_extension": ".r",
   "mimetype": "text/x-r-source",
   "name": "R",
   "pygments_lexer": "r",
   "version": "3.6.2"
  }
 },
 "nbformat": 4,
 "nbformat_minor": 4
}
