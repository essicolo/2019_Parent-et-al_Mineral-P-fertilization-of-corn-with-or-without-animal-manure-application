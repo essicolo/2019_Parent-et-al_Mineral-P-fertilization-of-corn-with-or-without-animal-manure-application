{
 "cells": [
  {
   "cell_type": "markdown",
   "metadata": {},
   "source": [
    "# Question 3.4 Which agricultural variable is affecting corn **early plant growth**? What is the importance of P relatively to other variables?"
   ]
  },
  {
   "cell_type": "markdown",
   "metadata": {},
   "source": [
    "In this notebook, we aim at assessing the linear effect of agricultural conditions, including the P dosage, on **early plant growth**."
   ]
  },
  {
   "cell_type": "markdown",
   "metadata": {},
   "source": [
    "## Load data\n",
    "\n",
    "Load data exported from the preprocessing session."
   ]
  },
  {
   "cell_type": "code",
   "execution_count": 1,
   "metadata": {},
   "outputs": [],
   "source": [
    "load(\"output/preprocessed.RData\")"
   ]
  },
  {
   "cell_type": "markdown",
   "metadata": {},
   "source": [
    "## Load packages\n",
    "\n",
    "We obviously need the **`tidyverse`** package for data manipulation and plotting. **`ggthemes`** provides themes for plots. The **`nlme`** package is used for the linear mixted model. The **`broom`** package is used to create tidied **`nlme`** outputs."
   ]
  },
  {
   "cell_type": "code",
   "execution_count": 2,
   "metadata": {},
   "outputs": [
    {
     "name": "stderr",
     "output_type": "stream",
     "text": [
      "── \u001b[1mAttaching packages\u001b[22m ─────────────────────────────────────── tidyverse 1.3.0 ──\n",
      "\n",
      "\u001b[32m✔\u001b[39m \u001b[34mggplot2\u001b[39m 3.2.1     \u001b[32m✔\u001b[39m \u001b[34mpurrr  \u001b[39m 0.3.3\n",
      "\u001b[32m✔\u001b[39m \u001b[34mtibble \u001b[39m 2.1.3     \u001b[32m✔\u001b[39m \u001b[34mdplyr  \u001b[39m 0.8.4\n",
      "\u001b[32m✔\u001b[39m \u001b[34mtidyr  \u001b[39m 1.0.2     \u001b[32m✔\u001b[39m \u001b[34mstringr\u001b[39m 1.4.0\n",
      "\u001b[32m✔\u001b[39m \u001b[34mreadr  \u001b[39m 1.3.1     \u001b[32m✔\u001b[39m \u001b[34mforcats\u001b[39m 0.4.0\n",
      "\n",
      "── \u001b[1mConflicts\u001b[22m ────────────────────────────────────────── tidyverse_conflicts() ──\n",
      "\u001b[31m✖\u001b[39m \u001b[34mdplyr\u001b[39m::\u001b[32mfilter()\u001b[39m masks \u001b[34mstats\u001b[39m::filter()\n",
      "\u001b[31m✖\u001b[39m \u001b[34mdplyr\u001b[39m::\u001b[32mlag()\u001b[39m    masks \u001b[34mstats\u001b[39m::lag()\n",
      "\n",
      "\n",
      "Attaching package: ‘nlme’\n",
      "\n",
      "\n",
      "The following object is masked from ‘package:dplyr’:\n",
      "\n",
      "    collapse\n",
      "\n",
      "\n"
     ]
    }
   ],
   "source": [
    "library(\"tidyverse\")\n",
    "library(\"broom\")\n",
    "library(\"ggthemes\")\n",
    "library(\"nlme\")"
   ]
  },
  {
   "cell_type": "markdown",
   "metadata": {},
   "source": [
    "## Preparation to modeling\n",
    "\n",
    "We select the variables to be included in the model."
   ]
  },
  {
   "cell_type": "code",
   "execution_count": 3,
   "metadata": {},
   "outputs": [],
   "source": [
    "var_mm <- c(soil_vars, weather_vars_.30, \"doseP\", \"P.Source\")\n",
    "data_mm <- data_rs[c(\"ID\", \"Year\", \"plantbiomass_g\", var_mm)]"
   ]
  },
  {
   "cell_type": "markdown",
   "metadata": {},
   "source": [
    "Filter out missing data."
   ]
  },
  {
   "cell_type": "code",
   "execution_count": 4,
   "metadata": {},
   "outputs": [],
   "source": [
    "data_mm <- data_mm %>%\n",
    "  drop_na() %>%\n",
    "  droplevels()"
   ]
  },
  {
   "cell_type": "markdown",
   "metadata": {},
   "source": [
    "Data left for modelling:"
   ]
  },
  {
   "cell_type": "code",
   "execution_count": 5,
   "metadata": {},
   "outputs": [
    {
     "name": "stdout",
     "output_type": "stream",
     "text": [
      "[1] \"Number of lines: 404\"\n",
      "[1] \"Number of trials: 142\"\n"
     ]
    }
   ],
   "source": [
    "print(paste('Number of lines:', nrow(data_mm)))\n",
    "print(paste('Number of trials:', nlevels(data_mm$ID)))"
   ]
  },
  {
   "cell_type": "markdown",
   "metadata": {},
   "source": [
    "## Linear model"
   ]
  },
  {
   "cell_type": "markdown",
   "metadata": {},
   "source": [
    "There is no *manure* case in the data set for plant growth, discarting the need for separate models."
   ]
  },
  {
   "cell_type": "code",
   "execution_count": 6,
   "metadata": {},
   "outputs": [
    {
     "data": {
      "text/plain": [
       ".\n",
       "FALSE \n",
       "  404 "
      ]
     },
     "metadata": {},
     "output_type": "display_data"
    }
   ],
   "source": [
    "data_mm %>%\n",
    "  select(is_manure) %>%\n",
    "  table()"
   ]
  },
  {
   "cell_type": "markdown",
   "metadata": {},
   "source": [
    "We begin by scaling all variables by removing the mean and dividing by the standard deviation. This assures that the effects (slopes) of the model can be compared."
   ]
  },
  {
   "cell_type": "code",
   "execution_count": 7,
   "metadata": {},
   "outputs": [],
   "source": [
    "scaled_num <- data_mm %>% \n",
    "  select(-ID, -Year, -is_manure, -plantbiomass_g, -P.Source) %>%\n",
    "  scale() %>%\n",
    "  as_tibble()\n",
    "data_mm_sc <- bind_cols(data_mm %>% select(ID, Year, plantbiomass_g, P.Source), scaled_num)"
   ]
  },
  {
   "cell_type": "markdown",
   "metadata": {},
   "source": [
    "We launch split the procedure in two parts, **with and without manure**, which are datasets conducted under different methodologies. Then we run a frequential linear mixed model for each on them, then arrange the table for ploting."
   ]
  },
  {
   "cell_type": "code",
   "execution_count": 8,
   "metadata": {},
   "outputs": [],
   "source": [
    "mm_lin <- intervals(lme(as.formula(paste(\"plantbiomass_g ~ \", paste(var_mm[var_mm != \"is_manure\"], collapse=\" + \"),\n",
    "                               \"+ doseP:Soil_P.Al\")),\n",
    "            random = ~ 1|Year/ID,\n",
    "            data = data_mm_sc))$fixed %>%\n",
    "  data.frame() %>%\n",
    "  rownames_to_column(var=\"Variable\") %>%\n",
    "  filter(Variable != \"(Intercept)\") %>%\n",
    "  mutate(Category = c(\"Soil chemistry\", \"Soil chemistry\",\n",
    "                      \"Soil gensis\", \"Soil gensis\",\n",
    "                      \"Soil texture\", \"Soil texture\", \"Soil texture\",\n",
    "                      \"Weather\", \"Weather\",\n",
    "                      \"Dose\",\n",
    "                      \"Dose\",\"Dose\",\"Dose\",\n",
    "                      \"Dose\"))"
   ]
  },
  {
   "cell_type": "markdown",
   "metadata": {},
   "source": [
    "Variables are renamed to readable string."
   ]
  },
  {
   "cell_type": "code",
   "execution_count": 9,
   "metadata": {},
   "outputs": [],
   "source": [
    "for (i in 1:nrow(translate_col)) {\n",
    "  mm_lin$Variable <- sub(pattern = translate_col$from_name_mm[i], \n",
    "                                 replacement = translate_col$to_name_mm_long_en[i],\n",
    "                                 x = mm_lin$Variable)\n",
    "}\n",
    "mm_lin$Variable[mm_lin$Variable == 'CHU_.30'] <- \"CHU 0-30 days\" # instead of tweaking the loop"
   ]
  },
  {
   "cell_type": "markdown",
   "metadata": {},
   "source": [
    "We plot the slopes and their confidence interval."
   ]
  },
  {
   "cell_type": "code",
   "execution_count": 10,
   "metadata": {},
   "outputs": [
    {
     "data": {
      "image/png": "[encoded data removed]",
      "text/plain": [
       "plot without title"
      ]
     },
     "metadata": {
      "image/png": {
       "height": 210,
       "width": 420
      },
      "text/plain": {
       "height": 210,
       "width": 420
      }
     },
     "output_type": "display_data"
    }
   ],
   "source": [
    "options(repr.plot.width = 7, repr.plot.height = 3.5)\n",
    "mm_lin %>%\n",
    "  ggplot() +\n",
    "  geom_vline(xintercept = 0, lwd = 0.1) +\n",
    "  geom_segment(aes(x = lower, xend = upper, y = Variable, yend = Variable), lwd = 1) +\n",
    "  geom_label(aes(x = `est.`, y = Variable, label = format(round(est., 2), nsmall = 2)),\n",
    "             size = 3, label.padding = unit(0.1, \"lines\"), colour = \"white\", fill = \"black\", label.size = 0) +\n",
    "  geom_text(aes(x = lower, y = Variable, label = format(round(lower, 2), nsmall = 2)), size = 3, hjust = 1.5) +\n",
    "  geom_text(aes(x = upper, y = Variable, label = format(round(upper, 2), nsmall = 2)), size = 3, hjust = -0.5) +\n",
    "  facet_grid(Category ~ ., scales = \"free\", space = \"free\") +\n",
    "  labs(x = \"Scaled effect\", y = \"\") +\n",
    "  expand_limits(x=c(-8, 8)) +\n",
    "  theme_hc() +\n",
    "  theme(strip.text.y = element_text(angle = 0))"
   ]
  },
  {
   "cell_type": "code",
   "execution_count": 11,
   "metadata": {},
   "outputs": [],
   "source": [
    "ggsave(\"images/earlygrowth_linmod.jpg\", height = 3.5, width = 7, dpi = 600)"
   ]
  },
  {
   "cell_type": "markdown",
   "metadata": {},
   "source": [
    "If we would want absolute effects, we use the dataset `data_mm` instead of `data_mm_sc`."
   ]
  },
  {
   "cell_type": "code",
   "execution_count": 12,
   "metadata": {},
   "outputs": [],
   "source": [
    "mm_lin_abs <- intervals(lme(as.formula(paste(\"plantbiomass_g ~ \", paste(var_mm[var_mm != \"is_manure\"], collapse=\" + \"),\n",
    "                               \"+ doseP:Soil_P.Al\")),\n",
    "            random = ~ 1|Year/ID,\n",
    "            data = data_mm), which = \"fixed\")$fixed %>%\n",
    "  data.frame() %>%\n",
    "  rownames_to_column(var=\"Variable\") %>%\n",
    "  filter(Variable != \"(Intercept)\") %>%\n",
    "  mutate(uncertainty = est.-lower)"
   ]
  },
  {
   "cell_type": "markdown",
   "metadata": {},
   "source": [
    "Variables are renamed to readable string."
   ]
  },
  {
   "cell_type": "code",
   "execution_count": 13,
   "metadata": {},
   "outputs": [],
   "source": [
    "for (i in 1:nrow(translate_col)) {\n",
    "  mm_lin_abs$Variable <- sub(pattern = translate_col$from_name_mm[i], \n",
    "                                 replacement = translate_col$to_name_mm_long_en[i],\n",
    "                                 x = mm_lin_abs$Variable)\n",
    "}"
   ]
  },
  {
   "cell_type": "code",
   "execution_count": 14,
   "metadata": {},
   "outputs": [
    {
     "data": {
      "text/html": [
       "<table>\n",
       "<caption>A data.frame: 14 × 5</caption>\n",
       "<thead>\n",
       "\t<tr><th scope=col>Variable</th><th scope=col>lower</th><th scope=col>est.</th><th scope=col>upper</th><th scope=col>uncertainty</th></tr>\n",
       "\t<tr><th scope=col>&lt;chr&gt;</th><th scope=col>&lt;dbl&gt;</th><th scope=col>&lt;dbl&gt;</th><th scope=col>&lt;dbl&gt;</th><th scope=col>&lt;dbl&gt;</th></tr>\n",
       "</thead>\n",
       "<tbody>\n",
       "\t<tr><td>pH                            </td><td>-3.414080118</td><td>-2.299943531</td><td>-1.185806944</td><td>1.11413659</td></tr>\n",
       "\t<tr><td>soil P/Al                     </td><td>-2.370200005</td><td> 5.661277177</td><td>13.692754360</td><td>8.03147718</td></tr>\n",
       "\t<tr><td>soil [gley | podzol]          </td><td>-0.155807677</td><td> 0.284449567</td><td> 0.724706810</td><td>0.44025724</td></tr>\n",
       "\t<tr><td>soil [loam gley | sandy gley] </td><td>-0.094313534</td><td> 0.235028895</td><td> 0.564371323</td><td>0.32934243</td></tr>\n",
       "\t<tr><td>soil [carbon | clay,silt,sand]</td><td> 0.770249091</td><td> 2.239519093</td><td> 3.708789095</td><td>1.46927000</td></tr>\n",
       "\t<tr><td>soil [clay | silt,sand]       </td><td> 0.090725203</td><td> 0.948507342</td><td> 1.806289482</td><td>0.85778214</td></tr>\n",
       "\t<tr><td>soil [silt | sand]            </td><td>-4.471174463</td><td>-3.354890031</td><td>-2.238605598</td><td>1.11628443</td></tr>\n",
       "\t<tr><td>cumulated precipitations_30   </td><td> 0.003251189</td><td> 0.022263647</td><td> 0.041276105</td><td>0.01901246</td></tr>\n",
       "\t<tr><td>CHU_30                        </td><td>-0.007002412</td><td> 0.002335548</td><td> 0.011673508</td><td>0.00933796</td></tr>\n",
       "\t<tr><td>dose P                        </td><td> 0.034778551</td><td> 0.056924849</td><td> 0.079071148</td><td>0.02214630</td></tr>\n",
       "\t<tr><td>P sourceMAP                   </td><td>-1.565510044</td><td> 0.498660535</td><td> 2.562831115</td><td>2.06417058</td></tr>\n",
       "\t<tr><td>P sourceMAP DAP               </td><td>-1.935967225</td><td> 0.088178226</td><td> 2.112323676</td><td>2.02414545</td></tr>\n",
       "\t<tr><td>P sourceOMF                   </td><td>-1.188921743</td><td> 0.133396805</td><td> 1.455715353</td><td>1.32231855</td></tr>\n",
       "\t<tr><td>soil P/Al:dose P              </td><td>-0.431925798</td><td>-0.218125168</td><td>-0.004324537</td><td>0.21380063</td></tr>\n",
       "</tbody>\n",
       "</table>\n"
      ],
      "text/latex": [
       "A data.frame: 14 × 5\n",
       "\\begin{tabular}{lllll}\n",
       " Variable & lower & est. & upper & uncertainty\\\\\n",
       " <chr> & <dbl> & <dbl> & <dbl> & <dbl>\\\\\n",
       "\\hline\n",
       "\t pH                             & -3.414080118 & -2.299943531 & -1.185806944 & 1.11413659\\\\\n",
       "\t soil P/Al                      & -2.370200005 &  5.661277177 & 13.692754360 & 8.03147718\\\\\n",
       "\t soil {[}gley \\textbar{} podzol{]}           & -0.155807677 &  0.284449567 &  0.724706810 & 0.44025724\\\\\n",
       "\t soil {[}loam gley \\textbar{} sandy gley{]}  & -0.094313534 &  0.235028895 &  0.564371323 & 0.32934243\\\\\n",
       "\t soil {[}carbon \\textbar{} clay,silt,sand{]} &  0.770249091 &  2.239519093 &  3.708789095 & 1.46927000\\\\\n",
       "\t soil {[}clay \\textbar{} silt,sand{]}        &  0.090725203 &  0.948507342 &  1.806289482 & 0.85778214\\\\\n",
       "\t soil {[}silt \\textbar{} sand{]}             & -4.471174463 & -3.354890031 & -2.238605598 & 1.11628443\\\\\n",
       "\t cumulated precipitations\\_30    &  0.003251189 &  0.022263647 &  0.041276105 & 0.01901246\\\\\n",
       "\t CHU\\_30                         & -0.007002412 &  0.002335548 &  0.011673508 & 0.00933796\\\\\n",
       "\t dose P                         &  0.034778551 &  0.056924849 &  0.079071148 & 0.02214630\\\\\n",
       "\t P sourceMAP                    & -1.565510044 &  0.498660535 &  2.562831115 & 2.06417058\\\\\n",
       "\t P sourceMAP DAP                & -1.935967225 &  0.088178226 &  2.112323676 & 2.02414545\\\\\n",
       "\t P sourceOMF                    & -1.188921743 &  0.133396805 &  1.455715353 & 1.32231855\\\\\n",
       "\t soil P/Al:dose P               & -0.431925798 & -0.218125168 & -0.004324537 & 0.21380063\\\\\n",
       "\\end{tabular}\n"
      ],
      "text/markdown": [
       "\n",
       "A data.frame: 14 × 5\n",
       "\n",
       "| Variable &lt;chr&gt; | lower &lt;dbl&gt; | est. &lt;dbl&gt; | upper &lt;dbl&gt; | uncertainty &lt;dbl&gt; |\n",
       "|---|---|---|---|---|\n",
       "| pH                             | -3.414080118 | -2.299943531 | -1.185806944 | 1.11413659 |\n",
       "| soil P/Al                      | -2.370200005 |  5.661277177 | 13.692754360 | 8.03147718 |\n",
       "| soil [gley | podzol]           | -0.155807677 |  0.284449567 |  0.724706810 | 0.44025724 |\n",
       "| soil [loam gley | sandy gley]  | -0.094313534 |  0.235028895 |  0.564371323 | 0.32934243 |\n",
       "| soil [carbon | clay,silt,sand] |  0.770249091 |  2.239519093 |  3.708789095 | 1.46927000 |\n",
       "| soil [clay | silt,sand]        |  0.090725203 |  0.948507342 |  1.806289482 | 0.85778214 |\n",
       "| soil [silt | sand]             | -4.471174463 | -3.354890031 | -2.238605598 | 1.11628443 |\n",
       "| cumulated precipitations_30    |  0.003251189 |  0.022263647 |  0.041276105 | 0.01901246 |\n",
       "| CHU_30                         | -0.007002412 |  0.002335548 |  0.011673508 | 0.00933796 |\n",
       "| dose P                         |  0.034778551 |  0.056924849 |  0.079071148 | 0.02214630 |\n",
       "| P sourceMAP                    | -1.565510044 |  0.498660535 |  2.562831115 | 2.06417058 |\n",
       "| P sourceMAP DAP                | -1.935967225 |  0.088178226 |  2.112323676 | 2.02414545 |\n",
       "| P sourceOMF                    | -1.188921743 |  0.133396805 |  1.455715353 | 1.32231855 |\n",
       "| soil P/Al:dose P               | -0.431925798 | -0.218125168 | -0.004324537 | 0.21380063 |\n",
       "\n"
      ],
      "text/plain": [
       "   Variable                       lower        est.         upper       \n",
       "1  pH                             -3.414080118 -2.299943531 -1.185806944\n",
       "2  soil P/Al                      -2.370200005  5.661277177 13.692754360\n",
       "3  soil [gley | podzol]           -0.155807677  0.284449567  0.724706810\n",
       "4  soil [loam gley | sandy gley]  -0.094313534  0.235028895  0.564371323\n",
       "5  soil [carbon | clay,silt,sand]  0.770249091  2.239519093  3.708789095\n",
       "6  soil [clay | silt,sand]         0.090725203  0.948507342  1.806289482\n",
       "7  soil [silt | sand]             -4.471174463 -3.354890031 -2.238605598\n",
       "8  cumulated precipitations_30     0.003251189  0.022263647  0.041276105\n",
       "9  CHU_30                         -0.007002412  0.002335548  0.011673508\n",
       "10 dose P                          0.034778551  0.056924849  0.079071148\n",
       "11 P sourceMAP                    -1.565510044  0.498660535  2.562831115\n",
       "12 P sourceMAP DAP                -1.935967225  0.088178226  2.112323676\n",
       "13 P sourceOMF                    -1.188921743  0.133396805  1.455715353\n",
       "14 soil P/Al:dose P               -0.431925798 -0.218125168 -0.004324537\n",
       "   uncertainty\n",
       "1  1.11413659 \n",
       "2  8.03147718 \n",
       "3  0.44025724 \n",
       "4  0.32934243 \n",
       "5  1.46927000 \n",
       "6  0.85778214 \n",
       "7  1.11628443 \n",
       "8  0.01901246 \n",
       "9  0.00933796 \n",
       "10 0.02214630 \n",
       "11 2.06417058 \n",
       "12 2.02414545 \n",
       "13 1.32231855 \n",
       "14 0.21380063 "
      ]
     },
     "metadata": {},
     "output_type": "display_data"
    }
   ],
   "source": [
    "mm_lin_abs"
   ]
  },
  {
   "cell_type": "markdown",
   "metadata": {},
   "source": [
    "**Without manure**, each kg of P per ha had increased early plant growth by 0.057 +/- 0.022 g. A dosage of 40 kg/ha had thus increased early plant growth by 2.3 +/- 0.9 g compared to control."
   ]
  }
 ],
 "metadata": {
  "kernelspec": {
   "display_name": "R corn phosphorus",
   "language": "R",
   "name": "ir_cornp"
  },
  "language_info": {
   "codemirror_mode": "r",
   "file_extension": ".r",
   "mimetype": "text/x-r-source",
   "name": "R",
   "pygments_lexer": "r",
   "version": "3.6.2"
  }
 },
 "nbformat": 4,
 "nbformat_minor": 4
}
