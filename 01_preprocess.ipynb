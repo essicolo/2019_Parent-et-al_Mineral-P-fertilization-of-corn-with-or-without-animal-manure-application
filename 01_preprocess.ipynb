{
 "cells": [
  {
   "cell_type": "markdown",
   "metadata": {},
   "source": [
    "# Maize response to phosphorus fertilisation: Loading and aranging data\n",
    "\n",
    "This project aims at identifying factors that influence how maize responses to phosphorus fertilization. Several aspects are covered. This notebook aims at preprocessing the data for further analyses."
   ]
  },
  {
   "cell_type": "markdown",
   "metadata": {},
   "source": [
    "## Loading packages\n",
    "\n",
    "The computations are performed with the R statistical language, in a Jupyter environment. We will need the following packages, as well as an in-house function."
   ]
  },
  {
   "cell_type": "code",
   "execution_count": 1,
   "metadata": {},
   "outputs": [
    {
     "name": "stderr",
     "output_type": "stream",
     "text": [
      "-- \u001b[1mAttaching packages\u001b[22m --------------------------------------- tidyverse 1.3.0 --\n",
      "\n",
      "\u001b[32mv\u001b[39m \u001b[34mggplot2\u001b[39m 3.3.0     \u001b[32mv\u001b[39m \u001b[34mpurrr  \u001b[39m 0.3.3\n",
      "\u001b[32mv\u001b[39m \u001b[34mtibble \u001b[39m 2.1.3     \u001b[32mv\u001b[39m \u001b[34mdplyr  \u001b[39m 0.8.5\n",
      "\u001b[32mv\u001b[39m \u001b[34mtidyr  \u001b[39m 1.0.2     \u001b[32mv\u001b[39m \u001b[34mstringr\u001b[39m 1.4.0\n",
      "\u001b[32mv\u001b[39m \u001b[34mreadr  \u001b[39m 1.3.1     \u001b[32mv\u001b[39m \u001b[34mforcats\u001b[39m 0.5.0\n",
      "\n",
      "-- \u001b[1mConflicts\u001b[22m ------------------------------------------ tidyverse_conflicts() --\n",
      "\u001b[31mx\u001b[39m \u001b[34mdplyr\u001b[39m::\u001b[32mfilter()\u001b[39m masks \u001b[34mstats\u001b[39m::filter()\n",
      "\u001b[31mx\u001b[39m \u001b[34mdplyr\u001b[39m::\u001b[32mlag()\u001b[39m    masks \u001b[34mstats\u001b[39m::lag()\n",
      "\n",
      "Loading required package: tensorA\n",
      "\n",
      "\n",
      "Attaching package: 'tensorA'\n",
      "\n",
      "\n",
      "The following object is masked from 'package:base':\n",
      "\n",
      "    norm\n",
      "\n",
      "\n",
      "Loading required package: robustbase\n",
      "\n",
      "Loading required package: bayesm\n",
      "\n",
      "Welcome to compositions, a package for compositional data analysis.\n",
      "Find an intro with \"? compositions\"\n",
      "\n",
      "\n",
      "\n",
      "Attaching package: 'compositions'\n",
      "\n",
      "\n",
      "The following objects are masked from 'package:stats':\n",
      "\n",
      "    cor, cov, dist, var\n",
      "\n",
      "\n",
      "The following objects are masked from 'package:base':\n",
      "\n",
      "    %*%, scale, scale.default\n",
      "\n",
      "\n",
      "Loading required package: permute\n",
      "\n",
      "Loading required package: lattice\n",
      "\n",
      "This is vegan 2.5-6\n",
      "\n",
      "Loading required package: colorspace\n",
      "\n",
      "Loading required package: grid\n",
      "\n",
      "Loading required package: data.table\n",
      "\n",
      "\n",
      "Attaching package: 'data.table'\n",
      "\n",
      "\n",
      "The following objects are masked from 'package:dplyr':\n",
      "\n",
      "    between, first, last\n",
      "\n",
      "\n",
      "The following object is masked from 'package:purrr':\n",
      "\n",
      "    transpose\n",
      "\n",
      "\n",
      "VIM is ready to use. \n",
      " Since version 4.0.0 the GUI is in its own package VIMGUI.\n",
      "\n",
      "          Please use the package to use the new (and old) GUI.\n",
      "\n",
      "\n",
      "Suggestions and bug-reports can be submitted at: https://github.com/alexkowa/VIM/issues\n",
      "\n",
      "\n",
      "Attaching package: 'VIM'\n",
      "\n",
      "\n",
      "The following object is masked from 'package:datasets':\n",
      "\n",
      "    sleep\n",
      "\n",
      "\n",
      "\n",
      "Attaching package: 'mice'\n",
      "\n",
      "\n",
      "The following objects are masked from 'package:base':\n",
      "\n",
      "    cbind, rbind\n",
      "\n",
      "\n",
      "randomForest 4.6-14\n",
      "\n",
      "Type rfNews() to see new features/changes/bug fixes.\n",
      "\n",
      "\n",
      "Attaching package: 'randomForest'\n",
      "\n",
      "\n",
      "The following object is masked from 'package:dplyr':\n",
      "\n",
      "    combine\n",
      "\n",
      "\n",
      "The following object is masked from 'package:ggplot2':\n",
      "\n",
      "    margin\n",
      "\n",
      "\n",
      "Google's Terms of Service: https://cloud.google.com/maps-platform/terms/.\n",
      "\n",
      "Please cite ggmap if you use it! See citation(\"ggmap\") for details.\n",
      "\n"
     ]
    }
   ],
   "source": [
    "library(\"tidyverse\") # ggplot2 and dplyr\n",
    "library(\"compositions\") # Compositional data analysis\n",
    "library(\"vegan\")# Principal components analysis\n",
    "library(\"VIM\") # Visualize missing data\n",
    "library(\"mice\")# Missing values imputation\n",
    "library(\"randomForest\") # Needed for the mice package\n",
    "library(\"ggmap\")\n",
    "source('libs/ilrNA.R') # Put NA to ilr missing values"
   ]
  },
  {
   "cell_type": "markdown",
   "metadata": {},
   "source": [
    "## Loading data\n",
    "\n",
    "We are using several `csv` files, included in the `data` folder. The main table includes the fertilizer trials."
   ]
  },
  {
   "cell_type": "code",
   "execution_count": 2,
   "metadata": {},
   "outputs": [
    {
     "name": "stderr",
     "output_type": "stream",
     "text": [
      "Parsed with column specification:\n",
      "cols(\n",
      "  .default = col_double(),\n",
      "  Crop = \u001b[31mcol_character()\u001b[39m,\n",
      "  `Plantation date` = \u001b[31mcol_character()\u001b[39m,\n",
      "  `Harvest date` = \u001b[34mcol_date(format = \"\")\u001b[39m,\n",
      "  Texture = \u001b[31mcol_character()\u001b[39m,\n",
      "  `Soil Series` = \u001b[31mcol_character()\u001b[39m,\n",
      "  Manure = \u001b[31mcol_character()\u001b[39m,\n",
      "  P.Source = \u001b[31mcol_character()\u001b[39m,\n",
      "  P.rate_kgP2o5.ha_4 = \u001b[33mcol_logical()\u001b[39m,\n",
      "  Yield_t.ha_4 = \u001b[33mcol_logical()\u001b[39m,\n",
      "  `Grain density g.L 4` = \u001b[33mcol_logical()\u001b[39m,\n",
      "  `Grain mositure % 4` = \u001b[33mcol_logical()\u001b[39m,\n",
      "  DDCm = \u001b[33mcol_logical()\u001b[39m,\n",
      "  DDCm_30 = \u001b[33mcol_logical()\u001b[39m\n",
      ")\n",
      "\n",
      "See spec(...) for full column specifications.\n",
      "\n"
     ]
    }
   ],
   "source": [
    "main_data <- read_csv(\"data/data.csv\")"
   ]
  },
  {
   "cell_type": "markdown",
   "metadata": {},
   "source": [
    "### Map"
   ]
  },
  {
   "cell_type": "markdown",
   "metadata": {},
   "source": [
    "We fetch the map from Stamen."
   ]
  },
  {
   "cell_type": "code",
   "execution_count": 3,
   "metadata": {},
   "outputs": [
    {
     "name": "stderr",
     "output_type": "stream",
     "text": [
      "Source : http://tile.stamen.com/toner-lite/7/36/43.png\n",
      "\n",
      "Source : http://tile.stamen.com/toner-lite/7/37/43.png\n",
      "\n",
      "Source : http://tile.stamen.com/toner-lite/7/38/43.png\n",
      "\n",
      "Source : http://tile.stamen.com/toner-lite/7/39/43.png\n",
      "\n",
      "Source : http://tile.stamen.com/toner-lite/7/36/44.png\n",
      "\n",
      "Source : http://tile.stamen.com/toner-lite/7/37/44.png\n",
      "\n",
      "Source : http://tile.stamen.com/toner-lite/7/38/44.png\n",
      "\n",
      "Source : http://tile.stamen.com/toner-lite/7/39/44.png\n",
      "\n",
      "Source : http://tile.stamen.com/toner-lite/7/36/45.png\n",
      "\n",
      "Source : http://tile.stamen.com/toner-lite/7/37/45.png\n",
      "\n",
      "Source : http://tile.stamen.com/toner-lite/7/38/45.png\n",
      "\n",
      "Source : http://tile.stamen.com/toner-lite/7/39/45.png\n",
      "\n",
      "Source : http://tile.stamen.com/toner-lite/7/36/46.png\n",
      "\n",
      "Source : http://tile.stamen.com/toner-lite/7/37/46.png\n",
      "\n",
      "Source : http://tile.stamen.com/toner-lite/7/38/46.png\n",
      "\n",
      "Source : http://tile.stamen.com/toner-lite/7/39/46.png\n",
      "\n"
     ]
    }
   ],
   "source": [
    "qc_map <- get_stamenmap(bbox = c(left = -76, right = -68, bottom = 44.6, top = 50), \n",
    "                         zoom = 7, maptype = 'toner-lite')"
   ]
  },
  {
   "cell_type": "markdown",
   "metadata": {},
   "source": [
    "And we superimpose points on the map."
   ]
  },
  {
   "cell_type": "code",
   "execution_count": 4,
   "metadata": {},
   "outputs": [
    {
     "data": {
      "image/png": "[encoded data removed]",
      "text/plain": [
       "plot without title"
      ]
     },
     "metadata": {
      "image/png": {
       "height": 420,
       "width": 420
      },
      "text/plain": {
       "height": 420,
       "width": 420
      }
     },
     "output_type": "display_data"
    }
   ],
   "source": [
    "ggmap(qc_map) +\n",
    "  geom_point(data = main_data %>% select(Lon, Lat) %>% unique(),\n",
    "             mapping = aes(x = Lon, y = Lat),\n",
    "             size = 2, shape = 1) + \n",
    "  labs(x = \"Longitude\", y = \"Latitude\") +\n",
    "  theme_bw() +\n",
    "  ggsave(\"images/map.jpg\", width=10, height=8, dpi = 300)"
   ]
  },
  {
   "cell_type": "markdown",
   "metadata": {},
   "source": [
    "### Weather\n",
    "\n",
    "The definition of weather indices are as follows.\n",
    "\n",
    "| Column name | Description | Abbreviation | Unit | Formula |\n",
    "| ----------- | ----------- | ------------ | ---- | ------- |\n",
    "| `pcpCum` | Cumulated precipitations | CP | mm | $\\Sigma_{i=1}^n R_{di}$ where $R_{di}$ is the height of precipitations measured at the $i^{th}$ day |\n",
    "| `CHU` | Corn heat unit | CHU | °C | $CHU = \\frac{Y_{max} + Y_{min}}{2}$<br>$Y_{max} = \\begin{cases} 3.33 \\left( T_{max} - 10  \\right) - 0.084 \\left( T_{max} - 10 \\right)^2 ~~if~~T_{max} \\geq 10°C \\\\ 0~~if~~T_{max} < 10°C \\end{cases}$<br> $Y_{min} = \\begin{cases} 1.8 \\left( T_{min} - 4.44 \\right)~~if~~T_{min} \\geq 4.44°C \\\\ 0~~if~~T_{min} < 4.44°C \\end{cases}$ |\n",
    "| `Tmean` | Mean temperature | MT | °C | $\\Sigma_{i=1}^n \\frac{T_i}{n}$ where $T_i$ is the temperature measured at the $i^{th}$ day |\n",
    "| `SDI` | Shannon diversity index of precipitations | SDI | - |   $\\frac{-\\Sigma_{i=1}^n p_i \\times ln \\left( p_i \\right)}{ln \\left( n \\right)}$  where $p_i = \\frac{R_{di}}{\\Sigma_{i=1}^n R_{di}}$ is the fraction of daily rainfall relative to the total rainfall during a given time period and $n$ is the number of days for that period. |\n",
    "| `DJCb` | Degree days of growth in base 5°C | DD | °C | $\\frac{T_{max} - T_{min}}{2} - 5$ where $T_{max}$ and $T_{min}$ are maximum and minimum temperatures |\n",
    "| `AWDR` | Abundant well-distributed rainfall | AWDR | mm | $\\Sigma_{i=1}^n R_{di} \\times SDI$ | \n",
    "| `Nb3po3j` | Leaching events | NLE | - | Number of events of ≥ 3 inches during 3 consecutive days |\n",
    "| `etpBRcum` | Daily Baier-Robertson evapotranspiration | ETP | mm | $-5.39+0.157 \\times T_{max} + 0.158 \\times \\left(T_{max}-T_{min} \\right) + 0.00457 \\times RA$ where $RA$ is extraterrestrial radiation ($calory \\cdot gram \\cdot cm^{-1} \\cdot d^{-1} = Langley$). |\n",
    "| `IhBR` | Thorntwaite humidity index | THI | % | $100 \\times \\frac{\\Sigma_{i=1}^n R_{di} - ETP}{ETP}$ |"
   ]
  },
  {
   "cell_type": "markdown",
   "metadata": {},
   "source": [
    "### Soil series\n",
    "\n",
    "The soil morphology is consigned in its own table. Soil series can be merged to the main data by the column named `ProprieteSol.SerieSol`."
   ]
  },
  {
   "cell_type": "code",
   "execution_count": 5,
   "metadata": {},
   "outputs": [
    {
     "name": "stderr",
     "output_type": "stream",
     "text": [
      "Parsed with column specification:\n",
      "cols(\n",
      "  `Soil Series` = \u001b[31mcol_character()\u001b[39m,\n",
      "  `Associated Series` = \u001b[31mcol_character()\u001b[39m,\n",
      "  Cansis = \u001b[31mcol_character()\u001b[39m,\n",
      "  m.3a = \u001b[32mcol_double()\u001b[39m,\n",
      "  m.3b = \u001b[32mcol_double()\u001b[39m,\n",
      "  m.3c = \u001b[32mcol_double()\u001b[39m\n",
      ")\n",
      "\n"
     ]
    }
   ],
   "source": [
    "soil_series <- read_csv(\"data/soil_series.csv\")"
   ]
  },
  {
   "cell_type": "markdown",
   "metadata": {},
   "source": [
    "### Correct P sources"
   ]
  },
  {
   "cell_type": "code",
   "execution_count": 6,
   "metadata": {},
   "outputs": [],
   "source": [
    "main_data$P.Source[main_data$P.Source == \"SPT\" & !is.na(main_data$P.Source)] <- \"TSP\"\n",
    "main_data$P.Source[main_data$P.Source == \"PBA\" & !is.na(main_data$P.Source)] <- \"DAP\"\n",
    "main_data$P.Source[main_data$P.Source == \"DAP OM\" & !is.na(main_data$P.Source)] <- \"OMF\"\n",
    "main_data$P.Source[main_data$P.Source == \"MAP OM\" & !is.na(main_data$P.Source)] <- \"OMF\"\n",
    "main_data$P.Source[is.na(main_data$P.Source)] <- \"DAP\"\n",
    "main_data$P.Source <- relevel(factor(main_data$P.Source), ref = \"DAP\")"
   ]
  },
  {
   "cell_type": "markdown",
   "metadata": {},
   "source": [
    "### Variable translation to English\n",
    "\n",
    "Table headers are recorded in French, and because plots need pretty names, we created a handy table to translate terms."
   ]
  },
  {
   "cell_type": "code",
   "execution_count": 7,
   "metadata": {},
   "outputs": [
    {
     "name": "stderr",
     "output_type": "stream",
     "text": [
      "Parsed with column specification:\n",
      "cols(\n",
      "  from_name_mm = \u001b[31mcol_character()\u001b[39m,\n",
      "  to_name_mm = \u001b[31mcol_character()\u001b[39m,\n",
      "  to_name_mm_long_en = \u001b[31mcol_character()\u001b[39m\n",
      ")\n",
      "\n"
     ]
    }
   ],
   "source": [
    "translate_col <- read_csv(file = \"data/translate_colnames.csv\")"
   ]
  },
  {
   "cell_type": "markdown",
   "metadata": {},
   "source": [
    "### Data merging"
   ]
  },
  {
   "cell_type": "markdown",
   "metadata": {},
   "source": [
    "Weld all tables in a unique data frame."
   ]
  },
  {
   "cell_type": "code",
   "execution_count": 8,
   "metadata": {},
   "outputs": [],
   "source": [
    "data <- main_data %>%\n",
    "  left_join(soil_series, by = \"Soil Series\")"
   ]
  },
  {
   "cell_type": "markdown",
   "metadata": {},
   "source": [
    "![](https://media.giphy.com/media/1wQbGbrJMytXOOXnkp/giphy.gif)"
   ]
  },
  {
   "cell_type": "markdown",
   "metadata": {},
   "source": [
    "## Arrange data\n",
    "\n",
    "The column `data$Manure` specifies which kind of manure is applied, if any. If no manure is applied, the row is tagged with `Aucun` (none). We remove the lactoserum from the data set. A boolean column is added to specify if manure was indeed applied."
   ]
  },
  {
   "cell_type": "code",
   "execution_count": 9,
   "metadata": {},
   "outputs": [],
   "source": [
    "data <- data %>%\n",
    "  filter(Manure != \"lactosérum\")"
   ]
  },
  {
   "cell_type": "code",
   "execution_count": 10,
   "metadata": {},
   "outputs": [],
   "source": [
    "data$is_manure <- ifelse(data$Manure == \"none\", FALSE, TRUE)"
   ]
  },
  {
   "cell_type": "markdown",
   "metadata": {},
   "source": [
    "## Statistics"
   ]
  },
  {
   "cell_type": "code",
   "execution_count": 11,
   "metadata": {},
   "outputs": [
    {
     "data": {
      "text/plain": [
       "   Min. 1st Qu.  Median    Mean 3rd Qu.    Max.    NA's \n",
       "  50861   72062   75238   75496   79571   96544      41 "
      ]
     },
     "metadata": {},
     "output_type": "display_data"
    }
   ],
   "source": [
    "data %>%\n",
    "  pull(`Plant density`) %>%\n",
    "  summary()"
   ]
  },
  {
   "cell_type": "markdown",
   "metadata": {},
   "source": [
    "## Weather indices\n",
    "\n",
    "We have numerous weather indices. Many of these indices are redundant. In this section, we will select the most relevant indices. Pairs plot can give a first glance, but we need functions to create appropriate pairs plots."
   ]
  },
  {
   "cell_type": "code",
   "execution_count": 12,
   "metadata": {},
   "outputs": [],
   "source": [
    "panel.hist <- function(x, ...) {\n",
    "  usr = par(\"usr\"); on.exit(par(usr))\n",
    "  par(usr = c(usr[1:2], 0, 1.5) )\n",
    "  h = hist(x, plot = FALSE)\n",
    "  breaks = h$breaks; nB = length(breaks)\n",
    "  y = h$counts; y = y/max(y)\n",
    "  rect(breaks[-nB], 0, breaks[-1], y, col = \"cyan\", ...)\n",
    "}\n",
    "panel.cor <- function(x, y, digits = 2, prefix = \"\", cex.cor, ...) {\n",
    "  usr = par(\"usr\"); on.exit(par(usr))\n",
    "  par(usr = c(0, 1, 0, 1))\n",
    "  r = abs(cor(x, y))\n",
    "  txt = format(c(r, 0.123456789), digits = digits)[1]\n",
    "  txt = paste0(prefix, txt)\n",
    "  if(missing(cex.cor)) cex.cor = 0.8/strwidth(txt)\n",
    "  text(0.5, 0.5, txt, cex = cex.cor * r)\n",
    "}"
   ]
  },
  {
   "cell_type": "markdown",
   "metadata": {},
   "source": [
    "The following plot presents indices related to **precipitations** through the whole season."
   ]
  },
  {
   "cell_type": "code",
   "execution_count": 13,
   "metadata": {},
   "outputs": [
    {
     "data": {
      "image/png": "[encoded data removed]",
      "text/plain": [
       "plot without title"
      ]
     },
     "metadata": {
      "image/png": {
       "height": 420,
       "width": 420
      },
      "text/plain": {
       "height": 420,
       "width": 420
      }
     },
     "output_type": "display_data"
    }
   ],
   "source": [
    "options(repr.plot.width = 7, repr.plot.height = 7)\n",
    "data %>%\n",
    "  select(c(\"nbPcp1\", \"nbPcp2\", \"nbPcp5\", \"nbPcp10\", \"nb3po3j\", \"nb4po7j\", \"pcpCum\")) %>%\n",
    "  drop_na() %>%\n",
    "  pairs(upper.panel = panel.cor, diag.panel = panel.hist)"
   ]
  },
  {
   "cell_type": "markdown",
   "metadata": {},
   "source": [
    "And the precipitations for the first 30 days of the season."
   ]
  },
  {
   "cell_type": "code",
   "execution_count": 14,
   "metadata": {},
   "outputs": [
    {
     "data": {
      "image/png": "[encoded data removed]",
      "text/plain": [
       "plot without title"
      ]
     },
     "metadata": {
      "image/png": {
       "height": 420,
       "width": 420
      },
      "text/plain": {
       "height": 420,
       "width": 420
      }
     },
     "output_type": "display_data"
    }
   ],
   "source": [
    "options(repr.plot.width = 7, repr.plot.height = 7)\n",
    "data %>%\n",
    "  select(c(\"nbPcp1_30\", \"nbPcp2_30\", \"nbPcp5_30\", \"nbPcp10_30\", \"nb3po3j_30\", \"nb4po7j_30\", \"pcpCum_30\")) %>%\n",
    "  drop_na() %>%\n",
    "  pairs(upper.panel = panel.cor, diag.panel = panel.hist)"
   ]
  },
  {
   "cell_type": "markdown",
   "metadata": {},
   "source": [
    "We will retain the cumulated precipitations (`pcpcum`) as well as the leaching index (number of events with more than 3 inches of precipitations in 3 days, `nb3po3j`). To obtain are more concise look at the whole picture, we use a principal component analysis."
   ]
  },
  {
   "cell_type": "code",
   "execution_count": 15,
   "metadata": {},
   "outputs": [],
   "source": [
    "weather_pca_cols <- c('pcpCum', 'SDI', 'AWDR', 'IhBR', 'etpBRcum', 'tMean', 'DDCb', 'nb3po3j', 'CTU')\n",
    "weather_pca <- data %>%\n",
    "  select(all_of(weather_pca_cols)) %>%\n",
    "  drop_na() %>%\n",
    "  rda(., scale = TRUE)"
   ]
  },
  {
   "cell_type": "markdown",
   "metadata": {},
   "source": [
    "To evaluate the representativity of the two first axes, we compute the percentage of inertia."
   ]
  },
  {
   "cell_type": "code",
   "execution_count": 16,
   "metadata": {},
   "outputs": [
    {
     "data": {
      "text/html": [
       "79.3780758382972"
      ],
      "text/latex": [
       "79.3780758382972"
      ],
      "text/markdown": [
       "79.3780758382972"
      ],
      "text/plain": [
       "[1] 79.37808"
      ]
     },
     "metadata": {},
     "output_type": "display_data"
    }
   ],
   "source": [
    "inertia <- t(data.frame(inertia = 100 * weather_pca$CA$eig / length(weather_pca$CA$eig)))\n",
    "inertia[1] + inertia[2]"
   ]
  },
  {
   "cell_type": "markdown",
   "metadata": {},
   "source": [
    "The two first axes include nearly 83% of the variance, which is largely sufficient. In a correlation biplot (`scaling=2`), the angles between vectors are proportionnal to their correlation."
   ]
  },
  {
   "cell_type": "code",
   "execution_count": 17,
   "metadata": {},
   "outputs": [
    {
     "data": {
      "image/png": "[encoded data removed]",
      "text/plain": [
       "plot without title"
      ]
     },
     "metadata": {
      "image/png": {
       "height": 360,
       "width": 360
      },
      "text/plain": {
       "height": 360,
       "width": 360
      }
     },
     "output_type": "display_data"
    }
   ],
   "source": [
    "options(repr.plot.width = 6, repr.plot.height = 6)\n",
    "biplot(weather_pca, scaling=2)\n",
    "text(weather_pca, scaling=2, display = 'species')"
   ]
  },
  {
   "cell_type": "markdown",
   "metadata": {},
   "source": [
    "The first principal component in mostly aligned with SDI and tMean. On the bottom-right, a group of (DJCb, UTMc, eptBRcum) are closely correlated. On bottom right, (pcpCum, and ADWR) are closely correlated, as are nb3po3j and IhBR. We selected SDI, UTMc and pcpCum."
   ]
  },
  {
   "cell_type": "code",
   "execution_count": 18,
   "metadata": {},
   "outputs": [],
   "source": [
    "weather_vars <- c(\"SDI\", \"CTU\", \"pcpCum\")"
   ]
  },
  {
   "cell_type": "markdown",
   "metadata": {},
   "source": [
    "The same exercice can be done for the weather through the first 30 days of the growing season."
   ]
  },
  {
   "cell_type": "code",
   "execution_count": 19,
   "metadata": {},
   "outputs": [
    {
     "data": {
      "text/html": [
       "85.2635993384164"
      ],
      "text/latex": [
       "85.2635993384164"
      ],
      "text/markdown": [
       "85.2635993384164"
      ],
      "text/plain": [
       "[1] 85.2636"
      ]
     },
     "metadata": {},
     "output_type": "display_data"
    }
   ],
   "source": [
    "weather_pca_cols_.30 <- c('pcpCum_30', 'SDI_30', 'AWDR_30', 'IhBR_30', 'etpBRcum_30', 'tMean_30', 'DDCb_30', 'nb3po3j_30', 'CTU_30')\n",
    "weather_pca_.30 <- data %>%\n",
    "  select(all_of(weather_pca_cols_.30)) %>%\n",
    "  drop_na() %>%\n",
    "  rda(., scale = TRUE)\n",
    "inertia_.30 <- t(data.frame(inertia = 100 * weather_pca_.30$CA$eig / length(weather_pca_.30$CA$eig)))\n",
    "inertia_.30[1] + inertia_.30[2]"
   ]
  },
  {
   "cell_type": "code",
   "execution_count": 20,
   "metadata": {},
   "outputs": [
    {
     "data": {
      "image/png": "[encoded data removed]",
      "text/plain": [
       "plot without title"
      ]
     },
     "metadata": {
      "image/png": {
       "height": 360,
       "width": 360
      },
      "text/plain": {
       "height": 360,
       "width": 360
      }
     },
     "output_type": "display_data"
    }
   ],
   "source": [
    "options(repr.plot.width = 6, repr.plot.height = 6)\n",
    "biplot(weather_pca_.30, scaling=2)\n",
    "text(weather_pca_.30, display = 'species', scaling=2)"
   ]
  },
  {
   "cell_type": "markdown",
   "metadata": {},
   "source": [
    "There are two groups of indices. We selected `pcpCum_30` for the bottom right group and `CTU_30` for the bottom left group."
   ]
  },
  {
   "cell_type": "code",
   "execution_count": 21,
   "metadata": {},
   "outputs": [],
   "source": [
    "weather_vars_.30 <- c('pcpCum_30', 'CTU_30')"
   ]
  },
  {
   "cell_type": "markdown",
   "metadata": {},
   "source": [
    "## Soil analysis"
   ]
  },
  {
   "cell_type": "markdown",
   "metadata": {},
   "source": [
    "### Soil P and Al\n",
    "\n",
    "The Phosphorus-Aluminium ratio in soils has been identified to be an important index to assess the amount of phosphorus fertilizer to add."
   ]
  },
  {
   "cell_type": "code",
   "execution_count": 22,
   "metadata": {},
   "outputs": [
    {
     "data": {
      "image/png": "[encoded data removed]",
      "text/plain": [
       "Plot with title \"\""
      ]
     },
     "metadata": {
      "image/png": {
       "height": 360,
       "width": 360
      },
      "text/plain": {
       "height": 360,
       "width": 360
      }
     },
     "output_type": "display_data"
    }
   ],
   "source": [
    "data <- data %>%\n",
    "  mutate(Soil_P.Al = Soil.MIII.P.ICP_mg.kg / Soil.MIII.Al.ICP_mg.kg)\n",
    "hist(data$Soil_P.Al, xlab = 'P / Al', breaks = 30, col = 'grey80', main='')"
   ]
  },
  {
   "cell_type": "markdown",
   "metadata": {},
   "source": [
    "The pattern show a log-normal distribution, which could be corrected by the use of a log-ratio. However, we will keep P/Al further on since this is a common metric used in agriculture."
   ]
  },
  {
   "cell_type": "markdown",
   "metadata": {},
   "source": [
    "### Soil morphology"
   ]
  },
  {
   "cell_type": "markdown",
   "metadata": {},
   "source": [
    "Soil morphology is described with three proportions describing tendency to belong to loam gley, sandy gley and podzol. These proportions are transformed to [gley | podzol] and [loam gley | sandy gley] balances using ilrs. We create the SBP and compute the ilrs just as we did previously."
   ]
  },
  {
   "cell_type": "code",
   "execution_count": 23,
   "metadata": {},
   "outputs": [],
   "source": [
    "soilTypeSBP <- matrix(c(-1, 1,-1,\n",
    "                        -1, 0, 1),\n",
    "                      byrow = TRUE,\n",
    "                      ncol = 3)\n",
    "\n",
    "colnames(soilTypeSBP) <- c('loam.gley', 'sand.podzol', 'sand.gley')\n",
    "soilTypeComp <- acomp(data[c('m.3a', 'm.3b', 'm.3c')])\n",
    "\n",
    "soilTypeBal <- ilr(soilTypeComp, V = gsi.buildilrBase(t(soilTypeSBP)))\n",
    "soilTypeBal <- ilrNA(comp = soilTypeComp, sbp = soilTypeSBP, bal = soilTypeBal)\n",
    "\n",
    "data$SoilSeries_G.P <- soilTypeBal[, 1] # ilr1 [gley | podzol]\n",
    "data$SoilSeries_LG.SG <- soilTypeBal[, 2] # ilr2 gley.[fine | coarse]"
   ]
  },
  {
   "cell_type": "markdown",
   "metadata": {},
   "source": [
    "### Soil texture\n",
    "\n",
    "Some textures in the data set are only expressed as textural classes. To transform them to sand, silt and clay proportions, we created a table including the centroid of proportions for each textural class. We import this table, then filter out the textural classes which are absent from our main data table."
   ]
  },
  {
   "cell_type": "code",
   "execution_count": 24,
   "metadata": {},
   "outputs": [
    {
     "name": "stderr",
     "output_type": "stream",
     "text": [
      "Parsed with column specification:\n",
      "cols(\n",
      "  Texture.code = \u001b[31mcol_character()\u001b[39m,\n",
      "  Texture = \u001b[31mcol_character()\u001b[39m,\n",
      "  ClayCentroid = \u001b[32mcol_double()\u001b[39m,\n",
      "  SiltCentroid = \u001b[32mcol_double()\u001b[39m,\n",
      "  SandCentroid = \u001b[32mcol_double()\u001b[39m\n",
      ")\n",
      "\n"
     ]
    }
   ],
   "source": [
    "qcTextCentroid = read_csv('data/centroids_texture.csv')\n",
    "\n",
    "qcTextCentroid <- qcTextCentroid %>%\n",
    "  filter(Texture %in% unique(data$Texture)) %>%\n",
    "  droplevels() # filter to take only the levels present in data$ProprieteSol.ClasseTexturale"
   ]
  },
  {
   "cell_type": "markdown",
   "metadata": {},
   "source": [
    "Then we join the proportions to the main data table according to the textural class."
   ]
  },
  {
   "cell_type": "code",
   "execution_count": 25,
   "metadata": {},
   "outputs": [],
   "source": [
    "data <- left_join(data, qcTextCentroid, by = \"Texture\")"
   ]
  },
  {
   "cell_type": "markdown",
   "metadata": {},
   "source": [
    "Absent proportions are imputed with the centroid of the described textural class."
   ]
  },
  {
   "cell_type": "code",
   "execution_count": 26,
   "metadata": {},
   "outputs": [],
   "source": [
    "data$`Clay %`[is.na(data$`Clay %`)] <- data$ClayCentroid[is.na(data$`Clay %`)]\n",
    "data$`Sand %`[is.na(data$`Sand %`)] <- data$SandCentroid[is.na(data$`Sand %`)]\n",
    "data$`Silt %` <- 100 - data$`Clay %` - data$`Sand %`"
   ]
  },
  {
   "cell_type": "markdown",
   "metadata": {},
   "source": [
    "The textural proportions, as well as the organic matter, form a soil simplex that can be transformed to ilrs. Because there are some missing values in the organic matter column (`SOM_%`), we will perform some imputations before computing soil textural and organic content balances."
   ]
  },
  {
   "cell_type": "markdown",
   "metadata": {},
   "source": [
    "### pH and organic matter\n",
    "\n",
    "pH is partly related to organic matter. Because there are a lot of missing values in both of these columns, we use imputations. The following plot illustrates the status of missing values for pH and organic matter."
   ]
  },
  {
   "cell_type": "code",
   "execution_count": 27,
   "metadata": {},
   "outputs": [
    {
     "data": {
      "image/png": "[encoded data removed]",
      "text/plain": [
       "plot without title"
      ]
     },
     "metadata": {
      "image/png": {
       "height": 360,
       "width": 360
      },
      "text/plain": {
       "height": 360,
       "width": 360
      }
     },
     "output_type": "display_data"
    }
   ],
   "source": [
    "data %>%\n",
    "  select(`Soil pH_H2O`, \n",
    "         `SOM_%`,\n",
    "         `Clay %`,\n",
    "         `Silt %`,\n",
    "         `Sand %`) %>%\n",
    "  aggr(.)"
   ]
  },
  {
   "cell_type": "markdown",
   "metadata": {},
   "source": [
    "Imputed textures will not be used. The random forest algorithm is used to fill the wholes."
   ]
  },
  {
   "cell_type": "code",
   "execution_count": 28,
   "metadata": {},
   "outputs": [],
   "source": [
    "pH.SOM_mice <- data %>%\n",
    "  select(`Soil pH_H2O`, \n",
    "         `SOM_%`,\n",
    "         `Clay %`,\n",
    "         `Silt %`,\n",
    "         `Sand %`) %>%\n",
    "  # rename because mice dislikes non-standard column names\n",
    "  rename(pH = \"Soil pH_H2O\",\n",
    "         SOM = \"SOM_%\",\n",
    "         clay = \"Clay %\",\n",
    "         silt = \"Silt %\",\n",
    "         sand = \"Sand %\"\n",
    "        ) %>%\n",
    "  mice(., m = 1, method = 'rf', seed = 6561874, print = FALSE)\n",
    "pH.SOM_imp <- complete(pH.SOM_mice)\n",
    "pH.SOM_imp[is.na(data['Soil pH_H2O']) & is.na(data['SOM_%']), ] <- NA"
   ]
  },
  {
   "cell_type": "markdown",
   "metadata": {},
   "source": [
    "The imputed columns are included in the main data table."
   ]
  },
  {
   "cell_type": "code",
   "execution_count": 29,
   "metadata": {},
   "outputs": [],
   "source": [
    "data['pH'] = pH.SOM_imp[, 1]\n",
    "data['SOM_%_imp'] = pH.SOM_imp[, 2]"
   ]
  },
  {
   "cell_type": "markdown",
   "metadata": {},
   "source": [
    "### Soil texture balances"
   ]
  },
  {
   "cell_type": "markdown",
   "metadata": {},
   "source": [
    "Back to soil textures and organic matter. We create a table including soil parts, then a compositional matrix with the `acomp` data class."
   ]
  },
  {
   "cell_type": "code",
   "execution_count": 30,
   "metadata": {},
   "outputs": [],
   "source": [
    "soilTextParts <- cbind(data$`SOM_%_imp`*0.58,\n",
    "                      (100 - data$`SOM_%_imp`*0.57) * data[c('Clay %',\n",
    "                                                        'Silt %',\n",
    "                                                        'Sand %')] / 100)\n",
    "soilTextComp <- acomp(soilTextParts)"
   ]
  },
  {
   "cell_type": "markdown",
   "metadata": {},
   "source": [
    "Just as we did previously with ilr transformations, we create [Carbon| clay,silt,Sand], [clay | silt,Sand] and [silt | Sand] soil balances and put them in the main data table."
   ]
  },
  {
   "cell_type": "code",
   "execution_count": 31,
   "metadata": {},
   "outputs": [],
   "source": [
    "soilTextSBP <- matrix(c(-1, 1, 1, 1,\n",
    "                         0, 1, 1,-1,\n",
    "                         0, 1,-1, 0),\n",
    "                      byrow = TRUE,\n",
    "                      ncol = 4)\n",
    "colnames(soilTextSBP) <- c('Carbon', 'Sand', 'silt', 'clay') # C: Carbone (carbon), S: Sable (sand), s: Limon (silt), c: Argile (clay)\n",
    "soilTextBal <- ilr(soilTextComp, V = gsi.buildilrBase(t(soilTextSBP)))\n",
    "colnames(soilTextBal) <- c(\"[Carbon| clay,silt,Sand]\", \"[clay | silt,Sand]\", \"[silt | Sand]\")\n",
    "soilTextBal <- ilrNA(soilTextComp, soilTextSBP, soilTextBal)\n",
    "\n",
    "data$Texture_C.asS <- soilTextBal[, 1]\n",
    "data$Texture_a.sS <- soilTextBal[, 2]\n",
    "data$Texture_s.S <- soilTextBal[, 3]"
   ]
  },
  {
   "cell_type": "markdown",
   "metadata": {},
   "source": [
    "### Soil variables\n",
    "\n",
    "Before we create a table ready to be analyzed, we create a vector of explicative variables to be included."
   ]
  },
  {
   "cell_type": "code",
   "execution_count": 32,
   "metadata": {},
   "outputs": [],
   "source": [
    "soil_vars <- c(\"pH\", \"is_manure\", 'Soil_P.Al',\n",
    "               'SoilSeries_G.P', 'SoilSeries_LG.SG', # soil morphology\n",
    "               \"Texture_C.asS\", \"Texture_a.sS\", \"Texture_s.S\") # soil texture"
   ]
  },
  {
   "cell_type": "markdown",
   "metadata": {},
   "source": [
    "Note: the use of weather variables depend on the model used. They will be added to predictors when data will be assembled specifically for models."
   ]
  },
  {
   "cell_type": "markdown",
   "metadata": {},
   "source": [
    "## Reshape data for P dosage\n",
    "\n",
    "In the `data` table, each dose level has its own column. They will be tidied into a single column later in the script. The vector `dose_vars` includes the names of these columns."
   ]
  },
  {
   "cell_type": "code",
   "execution_count": 33,
   "metadata": {},
   "outputs": [],
   "source": [
    "dose_vars <- c(\"P.rate_kgP2o5.ha_ctrl\", \"P.rate_kgP2o5.ha_1\",\n",
    "               \"P.rate_kgP2o5.ha_2\", \"P.rate_kgP2o5.ha_3\",\n",
    "               \"P.rate_kgP2o5.ha_4\")"
   ]
  },
  {
   "cell_type": "markdown",
   "metadata": {},
   "source": [
    "This section aims at unify them in a single column. We first create the new table `data_rs`, including the columns we are interested in in `data`. We then *gather* `dose_vars` columns to treatment label `traitementP` (which column the dose comes from) and a Phosphorus dose `doseP` columns. We also reorder the table by ID and treatment. The dose expressed as P2O5, not P. Let's convert to P doses."
   ]
  },
  {
   "cell_type": "code",
   "execution_count": 34,
   "metadata": {},
   "outputs": [
    {
     "data": {
      "text/html": [
       "<table>\n",
       "<caption>A tibble: 6 × 20</caption>\n",
       "<thead>\n",
       "\t<tr><th scope=col>ID</th><th scope=col>Year</th><th scope=col>Plant density</th><th scope=col>P.Source</th><th scope=col>Soil.MIII.P.ICP_mg.kg</th><th scope=col>pH</th><th scope=col>is_manure</th><th scope=col>Soil_P.Al</th><th scope=col>SoilSeries_G.P</th><th scope=col>SoilSeries_LG.SG</th><th scope=col>Texture_C.asS</th><th scope=col>Texture_a.sS</th><th scope=col>Texture_s.S</th><th scope=col>SDI</th><th scope=col>CTU</th><th scope=col>pcpCum</th><th scope=col>pcpCum_30</th><th scope=col>CTU_30</th><th scope=col>P_treatment</th><th scope=col>doseP</th></tr>\n",
       "\t<tr><th scope=col>&lt;dbl&gt;</th><th scope=col>&lt;dbl&gt;</th><th scope=col>&lt;dbl&gt;</th><th scope=col>&lt;fct&gt;</th><th scope=col>&lt;dbl&gt;</th><th scope=col>&lt;dbl&gt;</th><th scope=col>&lt;lgl&gt;</th><th scope=col>&lt;dbl&gt;</th><th scope=col>&lt;dbl&gt;</th><th scope=col>&lt;dbl&gt;</th><th scope=col>&lt;dbl&gt;</th><th scope=col>&lt;dbl&gt;</th><th scope=col>&lt;dbl&gt;</th><th scope=col>&lt;dbl&gt;</th><th scope=col>&lt;dbl&gt;</th><th scope=col>&lt;dbl&gt;</th><th scope=col>&lt;dbl&gt;</th><th scope=col>&lt;dbl&gt;</th><th scope=col>&lt;chr&gt;</th><th scope=col>&lt;dbl&gt;</th></tr>\n",
       "</thead>\n",
       "<tbody>\n",
       "\t<tr><td>110</td><td>2001</td><td>75000</td><td>MAP</td><td>95.8</td><td>5.9</td><td>FALSE</td><td>0.1211431</td><td>-3.618415</td><td>-4.073011</td><td>2.569953</td><td>-0.2698994</td><td>-0.417095</td><td>0.7278946</td><td>3344.156</td><td>413.39</td><td>66.48</td><td>504.5047</td><td>control</td><td>0.000</td></tr>\n",
       "\t<tr><td>110</td><td>2001</td><td>75000</td><td>MAP</td><td>95.8</td><td>5.9</td><td>FALSE</td><td>0.1211431</td><td>-3.618415</td><td>-4.073011</td><td>2.569953</td><td>-0.2698994</td><td>-0.417095</td><td>0.7278946</td><td>3344.156</td><td>413.39</td><td>66.48</td><td>504.5047</td><td>dose1  </td><td>8.728</td></tr>\n",
       "\t<tr><td>110</td><td>2001</td><td>75000</td><td>MAP</td><td>95.8</td><td>5.9</td><td>FALSE</td><td>0.1211431</td><td>-3.618415</td><td>-4.073011</td><td>2.569953</td><td>-0.2698994</td><td>-0.417095</td><td>0.7278946</td><td>3344.156</td><td>413.39</td><td>66.48</td><td>504.5047</td><td>dose2  </td><td>   NA</td></tr>\n",
       "\t<tr><td>110</td><td>2001</td><td>75000</td><td>MAP</td><td>95.8</td><td>5.9</td><td>FALSE</td><td>0.1211431</td><td>-3.618415</td><td>-4.073011</td><td>2.569953</td><td>-0.2698994</td><td>-0.417095</td><td>0.7278946</td><td>3344.156</td><td>413.39</td><td>66.48</td><td>504.5047</td><td>dose3  </td><td>   NA</td></tr>\n",
       "\t<tr><td>110</td><td>2001</td><td>75000</td><td>MAP</td><td>95.8</td><td>5.9</td><td>FALSE</td><td>0.1211431</td><td>-3.618415</td><td>-4.073011</td><td>2.569953</td><td>-0.2698994</td><td>-0.417095</td><td>0.7278946</td><td>3344.156</td><td>413.39</td><td>66.48</td><td>504.5047</td><td>dose4  </td><td>   NA</td></tr>\n",
       "\t<tr><td>111</td><td>2001</td><td>75000</td><td>OMF</td><td>95.8</td><td>5.9</td><td>FALSE</td><td>0.1211431</td><td>-3.618415</td><td>-4.073011</td><td>2.569953</td><td>-0.2698994</td><td>-0.417095</td><td>0.7278946</td><td>3344.156</td><td>413.39</td><td>66.48</td><td>504.5047</td><td>control</td><td>0.000</td></tr>\n",
       "</tbody>\n",
       "</table>\n"
      ],
      "text/latex": [
       "A tibble: 6 × 20\n",
       "\\begin{tabular}{llllllllllllllllllll}\n",
       " ID & Year & Plant density & P.Source & Soil.MIII.P.ICP\\_mg.kg & pH & is\\_manure & Soil\\_P.Al & SoilSeries\\_G.P & SoilSeries\\_LG.SG & Texture\\_C.asS & Texture\\_a.sS & Texture\\_s.S & SDI & CTU & pcpCum & pcpCum\\_30 & CTU\\_30 & P\\_treatment & doseP\\\\\n",
       " <dbl> & <dbl> & <dbl> & <fct> & <dbl> & <dbl> & <lgl> & <dbl> & <dbl> & <dbl> & <dbl> & <dbl> & <dbl> & <dbl> & <dbl> & <dbl> & <dbl> & <dbl> & <chr> & <dbl>\\\\\n",
       "\\hline\n",
       "\t 110 & 2001 & 75000 & MAP & 95.8 & 5.9 & FALSE & 0.1211431 & -3.618415 & -4.073011 & 2.569953 & -0.2698994 & -0.417095 & 0.7278946 & 3344.156 & 413.39 & 66.48 & 504.5047 & control & 0.000\\\\\n",
       "\t 110 & 2001 & 75000 & MAP & 95.8 & 5.9 & FALSE & 0.1211431 & -3.618415 & -4.073011 & 2.569953 & -0.2698994 & -0.417095 & 0.7278946 & 3344.156 & 413.39 & 66.48 & 504.5047 & dose1   & 8.728\\\\\n",
       "\t 110 & 2001 & 75000 & MAP & 95.8 & 5.9 & FALSE & 0.1211431 & -3.618415 & -4.073011 & 2.569953 & -0.2698994 & -0.417095 & 0.7278946 & 3344.156 & 413.39 & 66.48 & 504.5047 & dose2   &    NA\\\\\n",
       "\t 110 & 2001 & 75000 & MAP & 95.8 & 5.9 & FALSE & 0.1211431 & -3.618415 & -4.073011 & 2.569953 & -0.2698994 & -0.417095 & 0.7278946 & 3344.156 & 413.39 & 66.48 & 504.5047 & dose3   &    NA\\\\\n",
       "\t 110 & 2001 & 75000 & MAP & 95.8 & 5.9 & FALSE & 0.1211431 & -3.618415 & -4.073011 & 2.569953 & -0.2698994 & -0.417095 & 0.7278946 & 3344.156 & 413.39 & 66.48 & 504.5047 & dose4   &    NA\\\\\n",
       "\t 111 & 2001 & 75000 & OMF & 95.8 & 5.9 & FALSE & 0.1211431 & -3.618415 & -4.073011 & 2.569953 & -0.2698994 & -0.417095 & 0.7278946 & 3344.156 & 413.39 & 66.48 & 504.5047 & control & 0.000\\\\\n",
       "\\end{tabular}\n"
      ],
      "text/markdown": [
       "\n",
       "A tibble: 6 × 20\n",
       "\n",
       "| ID &lt;dbl&gt; | Year &lt;dbl&gt; | Plant density &lt;dbl&gt; | P.Source &lt;fct&gt; | Soil.MIII.P.ICP_mg.kg &lt;dbl&gt; | pH &lt;dbl&gt; | is_manure &lt;lgl&gt; | Soil_P.Al &lt;dbl&gt; | SoilSeries_G.P &lt;dbl&gt; | SoilSeries_LG.SG &lt;dbl&gt; | Texture_C.asS &lt;dbl&gt; | Texture_a.sS &lt;dbl&gt; | Texture_s.S &lt;dbl&gt; | SDI &lt;dbl&gt; | CTU &lt;dbl&gt; | pcpCum &lt;dbl&gt; | pcpCum_30 &lt;dbl&gt; | CTU_30 &lt;dbl&gt; | P_treatment &lt;chr&gt; | doseP &lt;dbl&gt; |\n",
       "|---|---|---|---|---|---|---|---|---|---|---|---|---|---|---|---|---|---|---|---|\n",
       "| 110 | 2001 | 75000 | MAP | 95.8 | 5.9 | FALSE | 0.1211431 | -3.618415 | -4.073011 | 2.569953 | -0.2698994 | -0.417095 | 0.7278946 | 3344.156 | 413.39 | 66.48 | 504.5047 | control | 0.000 |\n",
       "| 110 | 2001 | 75000 | MAP | 95.8 | 5.9 | FALSE | 0.1211431 | -3.618415 | -4.073011 | 2.569953 | -0.2698994 | -0.417095 | 0.7278946 | 3344.156 | 413.39 | 66.48 | 504.5047 | dose1   | 8.728 |\n",
       "| 110 | 2001 | 75000 | MAP | 95.8 | 5.9 | FALSE | 0.1211431 | -3.618415 | -4.073011 | 2.569953 | -0.2698994 | -0.417095 | 0.7278946 | 3344.156 | 413.39 | 66.48 | 504.5047 | dose2   |    NA |\n",
       "| 110 | 2001 | 75000 | MAP | 95.8 | 5.9 | FALSE | 0.1211431 | -3.618415 | -4.073011 | 2.569953 | -0.2698994 | -0.417095 | 0.7278946 | 3344.156 | 413.39 | 66.48 | 504.5047 | dose3   |    NA |\n",
       "| 110 | 2001 | 75000 | MAP | 95.8 | 5.9 | FALSE | 0.1211431 | -3.618415 | -4.073011 | 2.569953 | -0.2698994 | -0.417095 | 0.7278946 | 3344.156 | 413.39 | 66.48 | 504.5047 | dose4   |    NA |\n",
       "| 111 | 2001 | 75000 | OMF | 95.8 | 5.9 | FALSE | 0.1211431 | -3.618415 | -4.073011 | 2.569953 | -0.2698994 | -0.417095 | 0.7278946 | 3344.156 | 413.39 | 66.48 | 504.5047 | control | 0.000 |\n",
       "\n"
      ],
      "text/plain": [
       "  ID  Year Plant density P.Source Soil.MIII.P.ICP_mg.kg pH  is_manure Soil_P.Al\n",
       "1 110 2001 75000         MAP      95.8                  5.9 FALSE     0.1211431\n",
       "2 110 2001 75000         MAP      95.8                  5.9 FALSE     0.1211431\n",
       "3 110 2001 75000         MAP      95.8                  5.9 FALSE     0.1211431\n",
       "4 110 2001 75000         MAP      95.8                  5.9 FALSE     0.1211431\n",
       "5 110 2001 75000         MAP      95.8                  5.9 FALSE     0.1211431\n",
       "6 111 2001 75000         OMF      95.8                  5.9 FALSE     0.1211431\n",
       "  SoilSeries_G.P SoilSeries_LG.SG Texture_C.asS Texture_a.sS Texture_s.S\n",
       "1 -3.618415      -4.073011        2.569953      -0.2698994   -0.417095  \n",
       "2 -3.618415      -4.073011        2.569953      -0.2698994   -0.417095  \n",
       "3 -3.618415      -4.073011        2.569953      -0.2698994   -0.417095  \n",
       "4 -3.618415      -4.073011        2.569953      -0.2698994   -0.417095  \n",
       "5 -3.618415      -4.073011        2.569953      -0.2698994   -0.417095  \n",
       "6 -3.618415      -4.073011        2.569953      -0.2698994   -0.417095  \n",
       "  SDI       CTU      pcpCum pcpCum_30 CTU_30   P_treatment doseP\n",
       "1 0.7278946 3344.156 413.39 66.48     504.5047 control     0.000\n",
       "2 0.7278946 3344.156 413.39 66.48     504.5047 dose1       8.728\n",
       "3 0.7278946 3344.156 413.39 66.48     504.5047 dose2          NA\n",
       "4 0.7278946 3344.156 413.39 66.48     504.5047 dose3          NA\n",
       "5 0.7278946 3344.156 413.39 66.48     504.5047 dose4          NA\n",
       "6 0.7278946 3344.156 413.39 66.48     504.5047 control     0.000"
      ]
     },
     "metadata": {},
     "output_type": "display_data"
    }
   ],
   "source": [
    "data_rs <- data %>%\n",
    "  select(c(\"ID\",\n",
    "           \"Year\",\n",
    "           \"Plant density\",\n",
    "           \"P.Source\",\n",
    "           \"Soil.MIII.P.ICP_mg.kg\",\n",
    "           all_of(soil_vars),\n",
    "           all_of(weather_vars),\n",
    "           all_of(weather_vars_.30),\n",
    "           all_of(dose_vars))) %>%\n",
    "  rename(control = P.rate_kgP2o5.ha_ctrl,\n",
    "         dose1 = P.rate_kgP2o5.ha_1,\n",
    "         dose2 = P.rate_kgP2o5.ha_2,\n",
    "         dose3 = P.rate_kgP2o5.ha_3,\n",
    "         dose4 = P.rate_kgP2o5.ha_4) %>%\n",
    "  gather(key = \"P_treatment\", value = \"doseP\", control, dose1, dose2, dose3, dose4) %>%\n",
    "  mutate(doseP = doseP * 0.4364) %>%\n",
    "  arrange(ID)\n",
    "head(data_rs)"
   ]
  },
  {
   "cell_type": "markdown",
   "metadata": {},
   "source": [
    "Performance indices are also declined by dose rate. This should also be tidied. I will proceed by tidying each performance variable individually in the aim at merging them to `data_rs` afterwards."
   ]
  },
  {
   "cell_type": "code",
   "execution_count": 35,
   "metadata": {},
   "outputs": [
    {
     "data": {
      "text/html": [
       "<table>\n",
       "<caption>A tibble: 6 × 3</caption>\n",
       "<thead>\n",
       "\t<tr><th scope=col>ID</th><th scope=col>P_treatment</th><th scope=col>yield_t.ha</th></tr>\n",
       "\t<tr><th scope=col>&lt;dbl&gt;</th><th scope=col>&lt;chr&gt;</th><th scope=col>&lt;dbl&gt;</th></tr>\n",
       "</thead>\n",
       "<tbody>\n",
       "\t<tr><td>110</td><td>control</td><td>6.0</td></tr>\n",
       "\t<tr><td>110</td><td>dose1  </td><td>6.4</td></tr>\n",
       "\t<tr><td>110</td><td>dose2  </td><td> NA</td></tr>\n",
       "\t<tr><td>110</td><td>dose3  </td><td> NA</td></tr>\n",
       "\t<tr><td>110</td><td>dose4  </td><td> NA</td></tr>\n",
       "\t<tr><td>111</td><td>control</td><td>6.0</td></tr>\n",
       "</tbody>\n",
       "</table>\n"
      ],
      "text/latex": [
       "A tibble: 6 × 3\n",
       "\\begin{tabular}{lll}\n",
       " ID & P\\_treatment & yield\\_t.ha\\\\\n",
       " <dbl> & <chr> & <dbl>\\\\\n",
       "\\hline\n",
       "\t 110 & control & 6.0\\\\\n",
       "\t 110 & dose1   & 6.4\\\\\n",
       "\t 110 & dose2   &  NA\\\\\n",
       "\t 110 & dose3   &  NA\\\\\n",
       "\t 110 & dose4   &  NA\\\\\n",
       "\t 111 & control & 6.0\\\\\n",
       "\\end{tabular}\n"
      ],
      "text/markdown": [
       "\n",
       "A tibble: 6 × 3\n",
       "\n",
       "| ID &lt;dbl&gt; | P_treatment &lt;chr&gt; | yield_t.ha &lt;dbl&gt; |\n",
       "|---|---|---|\n",
       "| 110 | control | 6.0 |\n",
       "| 110 | dose1   | 6.4 |\n",
       "| 110 | dose2   |  NA |\n",
       "| 110 | dose3   |  NA |\n",
       "| 110 | dose4   |  NA |\n",
       "| 111 | control | 6.0 |\n",
       "\n"
      ],
      "text/plain": [
       "  ID  P_treatment yield_t.ha\n",
       "1 110 control     6.0       \n",
       "2 110 dose1       6.4       \n",
       "3 110 dose2        NA       \n",
       "4 110 dose3        NA       \n",
       "5 110 dose4        NA       \n",
       "6 111 control     6.0       "
      ]
     },
     "metadata": {},
     "output_type": "display_data"
    }
   ],
   "source": [
    "rdt <- data %>%\n",
    "  select(ID, starts_with(\"Yield_t.ha_\")) %>%\n",
    "  rename(control = Yield_t.ha_ctrl,\n",
    "         dose1 = Yield_t.ha_1,\n",
    "         dose2 = Yield_t.ha_2,\n",
    "         dose3 = Yield_t.ha_3,\n",
    "         dose4 = Yield_t.ha_4) %>%\n",
    "  gather(key = \"P_treatment\", value = \"yield_t.ha\", -ID) %>%\n",
    "  arrange(ID)\n",
    "head(rdt)"
   ]
  },
  {
   "cell_type": "code",
   "execution_count": 36,
   "metadata": {},
   "outputs": [
    {
     "data": {
      "text/html": [
       "<table>\n",
       "<caption>A tibble: 6 × 3</caption>\n",
       "<thead>\n",
       "\t<tr><th scope=col>ID</th><th scope=col>P_treatment</th><th scope=col>graindensity_g.L</th></tr>\n",
       "\t<tr><th scope=col>&lt;dbl&gt;</th><th scope=col>&lt;chr&gt;</th><th scope=col>&lt;dbl&gt;</th></tr>\n",
       "</thead>\n",
       "<tbody>\n",
       "\t<tr><td>110</td><td>control</td><td>686.0</td></tr>\n",
       "\t<tr><td>110</td><td>dose1  </td><td>687.3</td></tr>\n",
       "\t<tr><td>110</td><td>dose2  </td><td>   NA</td></tr>\n",
       "\t<tr><td>110</td><td>dose3  </td><td>   NA</td></tr>\n",
       "\t<tr><td>110</td><td>dose4  </td><td>   NA</td></tr>\n",
       "\t<tr><td>111</td><td>control</td><td>686.0</td></tr>\n",
       "</tbody>\n",
       "</table>\n"
      ],
      "text/latex": [
       "A tibble: 6 × 3\n",
       "\\begin{tabular}{lll}\n",
       " ID & P\\_treatment & graindensity\\_g.L\\\\\n",
       " <dbl> & <chr> & <dbl>\\\\\n",
       "\\hline\n",
       "\t 110 & control & 686.0\\\\\n",
       "\t 110 & dose1   & 687.3\\\\\n",
       "\t 110 & dose2   &    NA\\\\\n",
       "\t 110 & dose3   &    NA\\\\\n",
       "\t 110 & dose4   &    NA\\\\\n",
       "\t 111 & control & 686.0\\\\\n",
       "\\end{tabular}\n"
      ],
      "text/markdown": [
       "\n",
       "A tibble: 6 × 3\n",
       "\n",
       "| ID &lt;dbl&gt; | P_treatment &lt;chr&gt; | graindensity_g.L &lt;dbl&gt; |\n",
       "|---|---|---|\n",
       "| 110 | control | 686.0 |\n",
       "| 110 | dose1   | 687.3 |\n",
       "| 110 | dose2   |    NA |\n",
       "| 110 | dose3   |    NA |\n",
       "| 110 | dose4   |    NA |\n",
       "| 111 | control | 686.0 |\n",
       "\n"
      ],
      "text/plain": [
       "  ID  P_treatment graindensity_g.L\n",
       "1 110 control     686.0           \n",
       "2 110 dose1       687.3           \n",
       "3 110 dose2          NA           \n",
       "4 110 dose3          NA           \n",
       "5 110 dose4          NA           \n",
       "6 111 control     686.0           "
      ]
     },
     "metadata": {},
     "output_type": "display_data"
    }
   ],
   "source": [
    "dens <- data %>%\n",
    "  select(ID, starts_with(\"Grain density g.L\")) %>%\n",
    "  rename(control = `Grain density g.L ctrl`,\n",
    "         dose1 = `Grain density g.L 1`,\n",
    "         dose2 = `Grain density g.L 2`,\n",
    "         dose3 = `Grain density g.L 3`,\n",
    "         dose4 = `Grain density g.L 4`) %>%\n",
    "  gather(key = \"P_treatment\", value = \"graindensity_g.L\", -ID) %>%\n",
    "  arrange(ID)\n",
    "head(dens)"
   ]
  },
  {
   "cell_type": "code",
   "execution_count": 37,
   "metadata": {},
   "outputs": [
    {
     "data": {
      "text/html": [
       "<table>\n",
       "<caption>A tibble: 6 × 3</caption>\n",
       "<thead>\n",
       "\t<tr><th scope=col>ID</th><th scope=col>P_treatment</th><th scope=col>grainmoisture_perc</th></tr>\n",
       "\t<tr><th scope=col>&lt;dbl&gt;</th><th scope=col>&lt;chr&gt;</th><th scope=col>&lt;dbl&gt;</th></tr>\n",
       "</thead>\n",
       "<tbody>\n",
       "\t<tr><td>110</td><td>control</td><td> 9.5</td></tr>\n",
       "\t<tr><td>110</td><td>dose1  </td><td>10.1</td></tr>\n",
       "\t<tr><td>110</td><td>dose2  </td><td>  NA</td></tr>\n",
       "\t<tr><td>110</td><td>dose3  </td><td>  NA</td></tr>\n",
       "\t<tr><td>110</td><td>dose4  </td><td>  NA</td></tr>\n",
       "\t<tr><td>111</td><td>control</td><td> 9.5</td></tr>\n",
       "</tbody>\n",
       "</table>\n"
      ],
      "text/latex": [
       "A tibble: 6 × 3\n",
       "\\begin{tabular}{lll}\n",
       " ID & P\\_treatment & grainmoisture\\_perc\\\\\n",
       " <dbl> & <chr> & <dbl>\\\\\n",
       "\\hline\n",
       "\t 110 & control &  9.5\\\\\n",
       "\t 110 & dose1   & 10.1\\\\\n",
       "\t 110 & dose2   &   NA\\\\\n",
       "\t 110 & dose3   &   NA\\\\\n",
       "\t 110 & dose4   &   NA\\\\\n",
       "\t 111 & control &  9.5\\\\\n",
       "\\end{tabular}\n"
      ],
      "text/markdown": [
       "\n",
       "A tibble: 6 × 3\n",
       "\n",
       "| ID &lt;dbl&gt; | P_treatment &lt;chr&gt; | grainmoisture_perc &lt;dbl&gt; |\n",
       "|---|---|---|\n",
       "| 110 | control |  9.5 |\n",
       "| 110 | dose1   | 10.1 |\n",
       "| 110 | dose2   |   NA |\n",
       "| 110 | dose3   |   NA |\n",
       "| 110 | dose4   |   NA |\n",
       "| 111 | control |  9.5 |\n",
       "\n"
      ],
      "text/plain": [
       "  ID  P_treatment grainmoisture_perc\n",
       "1 110 control      9.5              \n",
       "2 110 dose1       10.1              \n",
       "3 110 dose2         NA              \n",
       "4 110 dose3         NA              \n",
       "5 110 dose4         NA              \n",
       "6 111 control      9.5              "
      ]
     },
     "metadata": {},
     "output_type": "display_data"
    }
   ],
   "source": [
    "hum <- data %>%\n",
    "  select(ID, starts_with(\"Grain mositure %\")) %>%\n",
    "  rename(control = `Grain mositure % ctrl`,\n",
    "         dose1 = `Grain mositure % 1`,\n",
    "         dose2 = `Grain mositure % 2`,\n",
    "         dose3 = `Grain mositure % 3`,\n",
    "         dose4 = `Grain mositure % 4`) %>%\n",
    "  gather(key = \"P_treatment\", value = \"grainmoisture_perc\", -ID) %>%\n",
    "  arrange(ID)\n",
    "head(hum)"
   ]
  },
  {
   "cell_type": "code",
   "execution_count": 38,
   "metadata": {},
   "outputs": [
    {
     "data": {
      "text/html": [
       "<table>\n",
       "<caption>A tibble: 6 × 3</caption>\n",
       "<thead>\n",
       "\t<tr><th scope=col>ID</th><th scope=col>P_treatment</th><th scope=col>plantheight_mm</th></tr>\n",
       "\t<tr><th scope=col>&lt;dbl&gt;</th><th scope=col>&lt;chr&gt;</th><th scope=col>&lt;dbl&gt;</th></tr>\n",
       "</thead>\n",
       "<tbody>\n",
       "\t<tr><td>110</td><td>control</td><td>582</td></tr>\n",
       "\t<tr><td>110</td><td>dose1  </td><td>621</td></tr>\n",
       "\t<tr><td>110</td><td>dose2  </td><td> NA</td></tr>\n",
       "\t<tr><td>110</td><td>dose3  </td><td> NA</td></tr>\n",
       "\t<tr><td>111</td><td>control</td><td>582</td></tr>\n",
       "\t<tr><td>111</td><td>dose1  </td><td>602</td></tr>\n",
       "</tbody>\n",
       "</table>\n"
      ],
      "text/latex": [
       "A tibble: 6 × 3\n",
       "\\begin{tabular}{lll}\n",
       " ID & P\\_treatment & plantheight\\_mm\\\\\n",
       " <dbl> & <chr> & <dbl>\\\\\n",
       "\\hline\n",
       "\t 110 & control & 582\\\\\n",
       "\t 110 & dose1   & 621\\\\\n",
       "\t 110 & dose2   &  NA\\\\\n",
       "\t 110 & dose3   &  NA\\\\\n",
       "\t 111 & control & 582\\\\\n",
       "\t 111 & dose1   & 602\\\\\n",
       "\\end{tabular}\n"
      ],
      "text/markdown": [
       "\n",
       "A tibble: 6 × 3\n",
       "\n",
       "| ID &lt;dbl&gt; | P_treatment &lt;chr&gt; | plantheight_mm &lt;dbl&gt; |\n",
       "|---|---|---|\n",
       "| 110 | control | 582 |\n",
       "| 110 | dose1   | 621 |\n",
       "| 110 | dose2   |  NA |\n",
       "| 110 | dose3   |  NA |\n",
       "| 111 | control | 582 |\n",
       "| 111 | dose1   | 602 |\n",
       "\n"
      ],
      "text/plain": [
       "  ID  P_treatment plantheight_mm\n",
       "1 110 control     582           \n",
       "2 110 dose1       621           \n",
       "3 110 dose2        NA           \n",
       "4 110 dose3        NA           \n",
       "5 111 control     582           \n",
       "6 111 dose1       602           "
      ]
     },
     "metadata": {},
     "output_type": "display_data"
    }
   ],
   "source": [
    "height <- data %>%\n",
    "  select(ID, starts_with(\"MaxLeafLength_cm_\")) %>%\n",
    "  rename(control = `MaxLeafLength_cm_ctrl`,\n",
    "         dose1 = `MaxLeafLength_cm_1`,\n",
    "         dose2 = `MaxLeafLength_cm_2`,\n",
    "         dose3 = `MaxLeafLength_cm_3`) %>%\n",
    "  gather(key = \"P_treatment\", value = \"plantheight_cm\", -ID) %>%\n",
    "  mutate(plantheight_mm = plantheight_cm * 10) %>% # in mm instead of cm\n",
    "  select(-plantheight_cm) %>%\n",
    "  arrange(ID)\n",
    "head(height)"
   ]
  },
  {
   "cell_type": "code",
   "execution_count": 39,
   "metadata": {},
   "outputs": [],
   "source": [
    "data_rs <- data_rs %>%\n",
    "  left_join(rdt, by = c(\"ID\", \"P_treatment\")) %>%\n",
    "  left_join(dens, by = c(\"ID\", \"P_treatment\")) %>%\n",
    "  left_join(hum, by = c(\"ID\", \"P_treatment\")) %>%\n",
    "  left_join(height, by = c(\"ID\", \"P_treatment\")) %>%\n",
    "  mutate(ID = factor(ID))"
   ]
  },
  {
   "cell_type": "code",
   "execution_count": 40,
   "metadata": {},
   "outputs": [
    {
     "data": {
      "text/html": [
       "<table>\n",
       "<caption>A tibble: 10 × 24</caption>\n",
       "<thead>\n",
       "\t<tr><th scope=col>ID</th><th scope=col>Year</th><th scope=col>Plant density</th><th scope=col>P.Source</th><th scope=col>Soil.MIII.P.ICP_mg.kg</th><th scope=col>pH</th><th scope=col>is_manure</th><th scope=col>Soil_P.Al</th><th scope=col>SoilSeries_G.P</th><th scope=col>SoilSeries_LG.SG</th><th scope=col>...</th><th scope=col>CTU</th><th scope=col>pcpCum</th><th scope=col>pcpCum_30</th><th scope=col>CTU_30</th><th scope=col>P_treatment</th><th scope=col>doseP</th><th scope=col>yield_t.ha</th><th scope=col>graindensity_g.L</th><th scope=col>grainmoisture_perc</th><th scope=col>plantheight_mm</th></tr>\n",
       "\t<tr><th scope=col>&lt;fct&gt;</th><th scope=col>&lt;dbl&gt;</th><th scope=col>&lt;dbl&gt;</th><th scope=col>&lt;fct&gt;</th><th scope=col>&lt;dbl&gt;</th><th scope=col>&lt;dbl&gt;</th><th scope=col>&lt;lgl&gt;</th><th scope=col>&lt;dbl&gt;</th><th scope=col>&lt;dbl&gt;</th><th scope=col>&lt;dbl&gt;</th><th scope=col>...</th><th scope=col>&lt;dbl&gt;</th><th scope=col>&lt;dbl&gt;</th><th scope=col>&lt;dbl&gt;</th><th scope=col>&lt;dbl&gt;</th><th scope=col>&lt;chr&gt;</th><th scope=col>&lt;dbl&gt;</th><th scope=col>&lt;dbl&gt;</th><th scope=col>&lt;dbl&gt;</th><th scope=col>&lt;dbl&gt;</th><th scope=col>&lt;dbl&gt;</th></tr>\n",
       "</thead>\n",
       "<tbody>\n",
       "\t<tr><td>349</td><td>1999</td><td>73510</td><td>DAP</td><td>357.0</td><td>7.00</td><td> TRUE</td><td>0.44736842</td><td>-2.016598</td><td> 1.623109</td><td>...</td><td>3178.478</td><td>614.55</td><td> 92.49</td><td>512.8255</td><td>dose3  </td><td>     NA</td><td>    NA</td><td> NA</td><td>  NA</td><td> NA</td></tr>\n",
       "\t<tr><td>513</td><td>2001</td><td>79606</td><td>AAP</td><td>165.0</td><td>6.50</td><td> TRUE</td><td>0.15137615</td><td>       NA</td><td>       NA</td><td>...</td><td>3398.932</td><td>431.28</td><td> 43.20</td><td>494.8272</td><td>dose1  </td><td> 6.9824</td><td> 8.300</td><td> NA</td><td>20.7</td><td> NA</td></tr>\n",
       "\t<tr><td>411</td><td>2001</td><td>   NA</td><td>DAP</td><td>200.8</td><td>7.10</td><td> TRUE</td><td>0.27565643</td><td>       NA</td><td>       NA</td><td>...</td><td>3460.828</td><td>483.37</td><td> 44.44</td><td>477.1924</td><td>control</td><td> 0.0000</td><td>10.000</td><td> NA</td><td>27.1</td><td> NA</td></tr>\n",
       "\t<tr><td>478</td><td>2000</td><td>65625</td><td>DAP</td><td> 47.0</td><td>6.40</td><td>FALSE</td><td>0.04408840</td><td>-1.676409</td><td>-1.675602</td><td>...</td><td>2798.240</td><td>481.88</td><td>114.76</td><td>436.1142</td><td>control</td><td> 0.0000</td><td> 8.000</td><td> NA</td><td>28.4</td><td> NA</td></tr>\n",
       "\t<tr><td>306</td><td>2001</td><td>83000</td><td>DAP</td><td> 82.4</td><td>5.50</td><td>FALSE</td><td>0.08477366</td><td>-1.292980</td><td> 1.701000</td><td>...</td><td>3238.496</td><td>418.60</td><td> 83.13</td><td>506.1809</td><td>control</td><td> 0.0000</td><td> 9.894</td><td>771</td><td>31.3</td><td> NA</td></tr>\n",
       "\t<tr><td>460</td><td>1999</td><td>72479</td><td>DAP</td><td> 94.0</td><td>6.60</td><td>FALSE</td><td>0.09957627</td><td>       NA</td><td>       NA</td><td>...</td><td>3349.624</td><td>579.02</td><td> 65.21</td><td>511.6869</td><td>dose4  </td><td>     NA</td><td>    NA</td><td> NA</td><td>  NA</td><td> NA</td></tr>\n",
       "\t<tr><td>209</td><td>1999</td><td>72000</td><td>OMF</td><td> 72.1</td><td>6.10</td><td>FALSE</td><td>0.05373379</td><td>-1.107344</td><td>-1.194644</td><td>...</td><td>3275.512</td><td>484.47</td><td> 81.55</td><td>559.9739</td><td>dose1  </td><td> 9.6008</td><td> 8.351</td><td>735</td><td>34.9</td><td>442</td></tr>\n",
       "\t<tr><td>550</td><td>2001</td><td>80000</td><td>TSP</td><td>144.8</td><td>6.32</td><td>FALSE</td><td>0.18977720</td><td>-1.879138</td><td>-1.949716</td><td>...</td><td>3504.472</td><td>467.55</td><td> 61.54</td><td>510.4623</td><td>dose3  </td><td>     NA</td><td>    NA</td><td> NA</td><td>  NA</td><td> NA</td></tr>\n",
       "\t<tr><td>545</td><td>2002</td><td>   NA</td><td>DAP</td><td>226.3</td><td>6.20</td><td> TRUE</td><td>0.22995631</td><td>       NA</td><td>       NA</td><td>...</td><td>3305.276</td><td>504.68</td><td>114.57</td><td>202.6789</td><td>dose1  </td><td>     NA</td><td>    NA</td><td> NA</td><td>  NA</td><td> NA</td></tr>\n",
       "\t<tr><td>295</td><td>2001</td><td>80786</td><td>OMF</td><td> 53.2</td><td>7.20</td><td>FALSE</td><td>0.05988294</td><td>-1.107344</td><td>-1.194644</td><td>...</td><td>3457.248</td><td>454.76</td><td> 67.48</td><td>524.9308</td><td>dose2  </td><td>13.5284</td><td> 9.572</td><td>768</td><td>  NA</td><td> NA</td></tr>\n",
       "</tbody>\n",
       "</table>\n"
      ],
      "text/latex": [
       "A tibble: 10 × 24\n",
       "\\begin{tabular}{lllllllllllllllllllll}\n",
       " ID & Year & Plant density & P.Source & Soil.MIII.P.ICP\\_mg.kg & pH & is\\_manure & Soil\\_P.Al & SoilSeries\\_G.P & SoilSeries\\_LG.SG & ... & CTU & pcpCum & pcpCum\\_30 & CTU\\_30 & P\\_treatment & doseP & yield\\_t.ha & graindensity\\_g.L & grainmoisture\\_perc & plantheight\\_mm\\\\\n",
       " <fct> & <dbl> & <dbl> & <fct> & <dbl> & <dbl> & <lgl> & <dbl> & <dbl> & <dbl> & ... & <dbl> & <dbl> & <dbl> & <dbl> & <chr> & <dbl> & <dbl> & <dbl> & <dbl> & <dbl>\\\\\n",
       "\\hline\n",
       "\t 349 & 1999 & 73510 & DAP & 357.0 & 7.00 &  TRUE & 0.44736842 & -2.016598 &  1.623109 & ... & 3178.478 & 614.55 &  92.49 & 512.8255 & dose3   &      NA &     NA &  NA &   NA &  NA\\\\\n",
       "\t 513 & 2001 & 79606 & AAP & 165.0 & 6.50 &  TRUE & 0.15137615 &        NA &        NA & ... & 3398.932 & 431.28 &  43.20 & 494.8272 & dose1   &  6.9824 &  8.300 &  NA & 20.7 &  NA\\\\\n",
       "\t 411 & 2001 &    NA & DAP & 200.8 & 7.10 &  TRUE & 0.27565643 &        NA &        NA & ... & 3460.828 & 483.37 &  44.44 & 477.1924 & control &  0.0000 & 10.000 &  NA & 27.1 &  NA\\\\\n",
       "\t 478 & 2000 & 65625 & DAP &  47.0 & 6.40 & FALSE & 0.04408840 & -1.676409 & -1.675602 & ... & 2798.240 & 481.88 & 114.76 & 436.1142 & control &  0.0000 &  8.000 &  NA & 28.4 &  NA\\\\\n",
       "\t 306 & 2001 & 83000 & DAP &  82.4 & 5.50 & FALSE & 0.08477366 & -1.292980 &  1.701000 & ... & 3238.496 & 418.60 &  83.13 & 506.1809 & control &  0.0000 &  9.894 & 771 & 31.3 &  NA\\\\\n",
       "\t 460 & 1999 & 72479 & DAP &  94.0 & 6.60 & FALSE & 0.09957627 &        NA &        NA & ... & 3349.624 & 579.02 &  65.21 & 511.6869 & dose4   &      NA &     NA &  NA &   NA &  NA\\\\\n",
       "\t 209 & 1999 & 72000 & OMF &  72.1 & 6.10 & FALSE & 0.05373379 & -1.107344 & -1.194644 & ... & 3275.512 & 484.47 &  81.55 & 559.9739 & dose1   &  9.6008 &  8.351 & 735 & 34.9 & 442\\\\\n",
       "\t 550 & 2001 & 80000 & TSP & 144.8 & 6.32 & FALSE & 0.18977720 & -1.879138 & -1.949716 & ... & 3504.472 & 467.55 &  61.54 & 510.4623 & dose3   &      NA &     NA &  NA &   NA &  NA\\\\\n",
       "\t 545 & 2002 &    NA & DAP & 226.3 & 6.20 &  TRUE & 0.22995631 &        NA &        NA & ... & 3305.276 & 504.68 & 114.57 & 202.6789 & dose1   &      NA &     NA &  NA &   NA &  NA\\\\\n",
       "\t 295 & 2001 & 80786 & OMF &  53.2 & 7.20 & FALSE & 0.05988294 & -1.107344 & -1.194644 & ... & 3457.248 & 454.76 &  67.48 & 524.9308 & dose2   & 13.5284 &  9.572 & 768 &   NA &  NA\\\\\n",
       "\\end{tabular}\n"
      ],
      "text/markdown": [
       "\n",
       "A tibble: 10 × 24\n",
       "\n",
       "| ID &lt;fct&gt; | Year &lt;dbl&gt; | Plant density &lt;dbl&gt; | P.Source &lt;fct&gt; | Soil.MIII.P.ICP_mg.kg &lt;dbl&gt; | pH &lt;dbl&gt; | is_manure &lt;lgl&gt; | Soil_P.Al &lt;dbl&gt; | SoilSeries_G.P &lt;dbl&gt; | SoilSeries_LG.SG &lt;dbl&gt; | ... ... | CTU &lt;dbl&gt; | pcpCum &lt;dbl&gt; | pcpCum_30 &lt;dbl&gt; | CTU_30 &lt;dbl&gt; | P_treatment &lt;chr&gt; | doseP &lt;dbl&gt; | yield_t.ha &lt;dbl&gt; | graindensity_g.L &lt;dbl&gt; | grainmoisture_perc &lt;dbl&gt; | plantheight_mm &lt;dbl&gt; |\n",
       "|---|---|---|---|---|---|---|---|---|---|---|---|---|---|---|---|---|---|---|---|---|\n",
       "| 349 | 1999 | 73510 | DAP | 357.0 | 7.00 |  TRUE | 0.44736842 | -2.016598 |  1.623109 | ... | 3178.478 | 614.55 |  92.49 | 512.8255 | dose3   |      NA |     NA |  NA |   NA |  NA |\n",
       "| 513 | 2001 | 79606 | AAP | 165.0 | 6.50 |  TRUE | 0.15137615 |        NA |        NA | ... | 3398.932 | 431.28 |  43.20 | 494.8272 | dose1   |  6.9824 |  8.300 |  NA | 20.7 |  NA |\n",
       "| 411 | 2001 |    NA | DAP | 200.8 | 7.10 |  TRUE | 0.27565643 |        NA |        NA | ... | 3460.828 | 483.37 |  44.44 | 477.1924 | control |  0.0000 | 10.000 |  NA | 27.1 |  NA |\n",
       "| 478 | 2000 | 65625 | DAP |  47.0 | 6.40 | FALSE | 0.04408840 | -1.676409 | -1.675602 | ... | 2798.240 | 481.88 | 114.76 | 436.1142 | control |  0.0000 |  8.000 |  NA | 28.4 |  NA |\n",
       "| 306 | 2001 | 83000 | DAP |  82.4 | 5.50 | FALSE | 0.08477366 | -1.292980 |  1.701000 | ... | 3238.496 | 418.60 |  83.13 | 506.1809 | control |  0.0000 |  9.894 | 771 | 31.3 |  NA |\n",
       "| 460 | 1999 | 72479 | DAP |  94.0 | 6.60 | FALSE | 0.09957627 |        NA |        NA | ... | 3349.624 | 579.02 |  65.21 | 511.6869 | dose4   |      NA |     NA |  NA |   NA |  NA |\n",
       "| 209 | 1999 | 72000 | OMF |  72.1 | 6.10 | FALSE | 0.05373379 | -1.107344 | -1.194644 | ... | 3275.512 | 484.47 |  81.55 | 559.9739 | dose1   |  9.6008 |  8.351 | 735 | 34.9 | 442 |\n",
       "| 550 | 2001 | 80000 | TSP | 144.8 | 6.32 | FALSE | 0.18977720 | -1.879138 | -1.949716 | ... | 3504.472 | 467.55 |  61.54 | 510.4623 | dose3   |      NA |     NA |  NA |   NA |  NA |\n",
       "| 545 | 2002 |    NA | DAP | 226.3 | 6.20 |  TRUE | 0.22995631 |        NA |        NA | ... | 3305.276 | 504.68 | 114.57 | 202.6789 | dose1   |      NA |     NA |  NA |   NA |  NA |\n",
       "| 295 | 2001 | 80786 | OMF |  53.2 | 7.20 | FALSE | 0.05988294 | -1.107344 | -1.194644 | ... | 3457.248 | 454.76 |  67.48 | 524.9308 | dose2   | 13.5284 |  9.572 | 768 |   NA |  NA |\n",
       "\n"
      ],
      "text/plain": [
       "   ID  Year Plant density P.Source Soil.MIII.P.ICP_mg.kg pH   is_manure\n",
       "1  349 1999 73510         DAP      357.0                 7.00  TRUE    \n",
       "2  513 2001 79606         AAP      165.0                 6.50  TRUE    \n",
       "3  411 2001    NA         DAP      200.8                 7.10  TRUE    \n",
       "4  478 2000 65625         DAP       47.0                 6.40 FALSE    \n",
       "5  306 2001 83000         DAP       82.4                 5.50 FALSE    \n",
       "6  460 1999 72479         DAP       94.0                 6.60 FALSE    \n",
       "7  209 1999 72000         OMF       72.1                 6.10 FALSE    \n",
       "8  550 2001 80000         TSP      144.8                 6.32 FALSE    \n",
       "9  545 2002    NA         DAP      226.3                 6.20  TRUE    \n",
       "10 295 2001 80786         OMF       53.2                 7.20 FALSE    \n",
       "   Soil_P.Al  SoilSeries_G.P SoilSeries_LG.SG ... CTU      pcpCum pcpCum_30\n",
       "1  0.44736842 -2.016598       1.623109        ... 3178.478 614.55  92.49   \n",
       "2  0.15137615        NA             NA        ... 3398.932 431.28  43.20   \n",
       "3  0.27565643        NA             NA        ... 3460.828 483.37  44.44   \n",
       "4  0.04408840 -1.676409      -1.675602        ... 2798.240 481.88 114.76   \n",
       "5  0.08477366 -1.292980       1.701000        ... 3238.496 418.60  83.13   \n",
       "6  0.09957627        NA             NA        ... 3349.624 579.02  65.21   \n",
       "7  0.05373379 -1.107344      -1.194644        ... 3275.512 484.47  81.55   \n",
       "8  0.18977720 -1.879138      -1.949716        ... 3504.472 467.55  61.54   \n",
       "9  0.22995631        NA             NA        ... 3305.276 504.68 114.57   \n",
       "10 0.05988294 -1.107344      -1.194644        ... 3457.248 454.76  67.48   \n",
       "   CTU_30   P_treatment doseP   yield_t.ha graindensity_g.L grainmoisture_perc\n",
       "1  512.8255 dose3            NA     NA      NA                NA              \n",
       "2  494.8272 dose1        6.9824  8.300      NA              20.7              \n",
       "3  477.1924 control      0.0000 10.000      NA              27.1              \n",
       "4  436.1142 control      0.0000  8.000      NA              28.4              \n",
       "5  506.1809 control      0.0000  9.894     771              31.3              \n",
       "6  511.6869 dose4            NA     NA      NA                NA              \n",
       "7  559.9739 dose1        9.6008  8.351     735              34.9              \n",
       "8  510.4623 dose3            NA     NA      NA                NA              \n",
       "9  202.6789 dose1            NA     NA      NA                NA              \n",
       "10 524.9308 dose2       13.5284  9.572     768                NA              \n",
       "   plantheight_mm\n",
       "1   NA           \n",
       "2   NA           \n",
       "3   NA           \n",
       "4   NA           \n",
       "5   NA           \n",
       "6   NA           \n",
       "7  442           \n",
       "8   NA           \n",
       "9   NA           \n",
       "10  NA           "
      ]
     },
     "metadata": {},
     "output_type": "display_data"
    }
   ],
   "source": [
    "data_rs %>%\n",
    "  sample_n(10)"
   ]
  },
  {
   "cell_type": "markdown",
   "metadata": {},
   "source": [
    "We create a vector of performance variables."
   ]
  },
  {
   "cell_type": "code",
   "execution_count": 41,
   "metadata": {},
   "outputs": [],
   "source": [
    "performance_vars <- c(\"yield_t.ha\", \"graindensity_g.L\", \"grainmoisture_perc\", \"plantheight_mm\")"
   ]
  },
  {
   "cell_type": "markdown",
   "metadata": {},
   "source": [
    "## Convert plant height to plant biomass\n",
    "\n",
    "We use the equation.\n",
    "\n",
    "$$biomass = e^{2.433 \\times ln(lenght) - 8.718}$$\n",
    "\n",
    "Biomass is in grams and lenght in cm."
   ]
  },
  {
   "cell_type": "code",
   "execution_count": 42,
   "metadata": {},
   "outputs": [
    {
     "data": {
      "image/png": "[encoded data removed]",
      "text/plain": [
       "plot without title"
      ]
     },
     "metadata": {
      "image/png": {
       "height": 360,
       "width": 360
      },
      "text/plain": {
       "height": 360,
       "width": 360
      }
     },
     "output_type": "display_data"
    }
   ],
   "source": [
    "tibble(plantheight_mm = seq(0, 1000, 10)) %>%\n",
    "  mutate(plantbiomass_g = exp(2.433 * log(plantheight_mm/10) - 8.718)) %>%\n",
    "  ggplot(aes(x = plantheight_mm, y = plantbiomass_g)) +\n",
    "  geom_line()"
   ]
  },
  {
   "cell_type": "code",
   "execution_count": 43,
   "metadata": {},
   "outputs": [],
   "source": [
    "data_rs <- data_rs %>%\n",
    "  mutate(plantbiomass_g = exp(2.433 * log(plantheight_mm/10) - 8.718))"
   ]
  },
  {
   "cell_type": "markdown",
   "metadata": {},
   "source": [
    "## Export preprocessed session\n",
    "\n",
    "The project is split to different notebooks. This first notebook aims only as preprocessing. Relevant objects must be exported for further use in notebooks focussing on modelling."
   ]
  },
  {
   "cell_type": "code",
   "execution_count": 44,
   "metadata": {},
   "outputs": [],
   "source": [
    "save(data_rs, soil_vars, weather_vars, weather_vars_.30, performance_vars, translate_col,\n",
    "    file=\"output/preprocessed.RData\")"
   ]
  }
 ],
 "metadata": {
  "kernel_info": {
   "name": "ir"
  },
  "kernelspec": {
   "display_name": "R 3.6.3 system",
   "language": "R",
   "name": "ir_363"
  },
  "language_info": {
   "codemirror_mode": "r",
   "file_extension": ".r",
   "mimetype": "text/x-r-source",
   "name": "R",
   "pygments_lexer": "r",
   "version": "3.6.3"
  },
  "nteract": {
   "version": "0.15.0"
  }
 },
 "nbformat": 4,
 "nbformat_minor": 4
}
