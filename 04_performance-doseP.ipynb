{
 "cells": [
  {
   "cell_type": "markdown",
   "metadata": {},
   "source": [
    "# Question 4. Is the performance linear response to dosage different between different ranges of P/Al ratios?"
   ]
  },
  {
   "cell_type": "markdown",
   "metadata": {},
   "source": [
    "## Load data\n",
    "\n",
    "Load data exported from the preprocessing session."
   ]
  },
  {
   "cell_type": "code",
   "execution_count": 1,
   "metadata": {},
   "outputs": [],
   "source": [
    "load(\"output/preprocessed.RData\")"
   ]
  },
  {
   "cell_type": "markdown",
   "metadata": {},
   "source": [
    "## Load packages\n",
    "\n",
    "We obviously need the **`tidyverse`** package for data manipulation and plotting. **`ggthemes`** provides themes for plots. The **`nlme`** package is used for the linear mixted model. The **`broom`** package is used to create tidied **`nlme`** outputs. **`cowplot`** has the `plot_grid` function, which can create grids of ggplots."
   ]
  },
  {
   "cell_type": "code",
   "execution_count": 2,
   "metadata": {},
   "outputs": [
    {
     "name": "stderr",
     "output_type": "stream",
     "text": [
      "-- \u001b[1mAttaching packages\u001b[22m --------------------------------------- tidyverse 1.3.0 --\n",
      "\n",
      "\u001b[32mv\u001b[39m \u001b[34mggplot2\u001b[39m 3.3.0     \u001b[32mv\u001b[39m \u001b[34mpurrr  \u001b[39m 0.3.3\n",
      "\u001b[32mv\u001b[39m \u001b[34mtibble \u001b[39m 2.1.3     \u001b[32mv\u001b[39m \u001b[34mdplyr  \u001b[39m 0.8.5\n",
      "\u001b[32mv\u001b[39m \u001b[34mtidyr  \u001b[39m 1.0.2     \u001b[32mv\u001b[39m \u001b[34mstringr\u001b[39m 1.4.0\n",
      "\u001b[32mv\u001b[39m \u001b[34mreadr  \u001b[39m 1.3.1     \u001b[32mv\u001b[39m \u001b[34mforcats\u001b[39m 0.5.0\n",
      "\n",
      "-- \u001b[1mConflicts\u001b[22m ------------------------------------------ tidyverse_conflicts() --\n",
      "\u001b[31mx\u001b[39m \u001b[34mdplyr\u001b[39m::\u001b[32mfilter()\u001b[39m masks \u001b[34mstats\u001b[39m::filter()\n",
      "\u001b[31mx\u001b[39m \u001b[34mdplyr\u001b[39m::\u001b[32mlag()\u001b[39m    masks \u001b[34mstats\u001b[39m::lag()\n",
      "\n",
      "\n",
      "Attaching package: 'nlme'\n",
      "\n",
      "\n",
      "The following object is masked from 'package:dplyr':\n",
      "\n",
      "    collapse\n",
      "\n",
      "\n",
      "\n",
      "********************************************************\n",
      "\n",
      "Note: As of version 1.0.0, cowplot does not change the\n",
      "\n",
      "  default ggplot2 theme anymore. To recover the previous\n",
      "\n",
      "  behavior, execute:\n",
      "  theme_set(theme_cowplot())\n",
      "\n",
      "********************************************************\n",
      "\n",
      "\n",
      "\n",
      "Attaching package: 'cowplot'\n",
      "\n",
      "\n",
      "The following object is masked from 'package:ggthemes':\n",
      "\n",
      "    theme_map\n",
      "\n",
      "\n"
     ]
    }
   ],
   "source": [
    "library(\"tidyverse\")\n",
    "library(\"broom\")\n",
    "library(\"nlme\")\n",
    "library(\"ggthemes\")\n",
    "library(\"cowplot\")"
   ]
  },
  {
   "cell_type": "markdown",
   "metadata": {},
   "source": [
    "Create P/Al categories."
   ]
  },
  {
   "cell_type": "code",
   "execution_count": 3,
   "metadata": {},
   "outputs": [],
   "source": [
    "data_rs[\"P/Al classes\"] <- cut(data_rs$Soil_P.Al * 100, breaks = c(0, 2.5, 5, 10, 20, 30, 200))\n",
    "data_rs[\"P/Al classes\"] <- fct_recode(data_rs[\"P/Al classes\"] %>% pull(), \"(30,...\" = \"(30,200]\")"
   ]
  },
  {
   "cell_type": "markdown",
   "metadata": {},
   "source": [
    "Create P concentration categories."
   ]
  },
  {
   "cell_type": "code",
   "execution_count": 4,
   "metadata": {},
   "outputs": [],
   "source": [
    "data_rs[\"PM3 classes\"] <- cut(data_rs$Soil.MIII.P.ICP_mg.kg, breaks = c(0, 50, 100, 200, 300, 2000))\n",
    "data_rs[\"PM3 classes\"] <- fct_recode(data_rs[\"PM3 classes\"] %>% pull(), \"(300,...\" = \"(300,2e+03]\")"
   ]
  },
  {
   "cell_type": "markdown",
   "metadata": {},
   "source": [
    "## Mixed models for each performance indices, with and withtout manure"
   ]
  },
  {
   "cell_type": "markdown",
   "metadata": {},
   "source": [
    "We run (2 manure statuses X 3 performance indices X 6 P/Al levels) + (2 X 3 X 5 P-MIII levels) = 76 models. Each performance indice is ran twice (`_nomanure` and `_manure`), while maping models to P/Al classes, then P-MIII classes."
   ]
  },
  {
   "cell_type": "markdown",
   "metadata": {},
   "source": [
    "### Yield"
   ]
  },
  {
   "cell_type": "markdown",
   "metadata": {},
   "source": [
    "#### P/Al"
   ]
  },
  {
   "cell_type": "markdown",
   "metadata": {},
   "source": [
    "##### Without manure"
   ]
  },
  {
   "cell_type": "code",
   "execution_count": 5,
   "metadata": {},
   "outputs": [
    {
     "name": "stderr",
     "output_type": "stream",
     "text": [
      "Warning message:\n",
      "\"'tidy.numeric' is deprecated.\n",
      "See help(\"Deprecated\")\"\n",
      "Warning message:\n",
      "\"'tidy.numeric' is deprecated.\n",
      "See help(\"Deprecated\")\"\n",
      "Warning message:\n",
      "\"'tidy.numeric' is deprecated.\n",
      "See help(\"Deprecated\")\"\n",
      "Warning message:\n",
      "\"'tidy.numeric' is deprecated.\n",
      "See help(\"Deprecated\")\"\n",
      "Warning message:\n",
      "\"'tidy.numeric' is deprecated.\n",
      "See help(\"Deprecated\")\"\n",
      "Warning message:\n",
      "\"'tidy.numeric' is deprecated.\n",
      "See help(\"Deprecated\")\"\n"
     ]
    }
   ],
   "source": [
    "mod_yield_P.Al_nomanure <- data_rs %>%\n",
    "  filter(!is_manure) %>%\n",
    "  select(Year, ID, yield_t.ha, doseP, `P/Al classes`) %>%\n",
    "  drop_na() %>%\n",
    "  droplevels() %>%\n",
    "  split(.$`P/Al classes`) %>%\n",
    "  map(~ lme(yield_t.ha ~ doseP,\n",
    "            random = ~ 1|Year/ID,\n",
    "            data = .)) %>%\n",
    "  map_dfr(~tidy(fixef(.)), .id = 'source')"
   ]
  },
  {
   "cell_type": "markdown",
   "metadata": {},
   "source": [
    "##### With manure"
   ]
  },
  {
   "cell_type": "code",
   "execution_count": 6,
   "metadata": {},
   "outputs": [
    {
     "name": "stderr",
     "output_type": "stream",
     "text": [
      "Warning message:\n",
      "\"'tidy.numeric' is deprecated.\n",
      "See help(\"Deprecated\")\"\n",
      "Warning message:\n",
      "\"'tidy.numeric' is deprecated.\n",
      "See help(\"Deprecated\")\"\n",
      "Warning message:\n",
      "\"'tidy.numeric' is deprecated.\n",
      "See help(\"Deprecated\")\"\n",
      "Warning message:\n",
      "\"'tidy.numeric' is deprecated.\n",
      "See help(\"Deprecated\")\"\n"
     ]
    }
   ],
   "source": [
    "mod_yield_P.Al_manure <- data_rs %>%\n",
    "  filter(is_manure) %>%\n",
    "  select(Year, ID, yield_t.ha, doseP, `P/Al classes`) %>%\n",
    "  drop_na() %>%\n",
    "  filter(`P/Al classes` != \"(2.5,5]\") %>% # only two points\n",
    "  droplevels() %>%\n",
    "  split(.$`P/Al classes`) %>%\n",
    "  map(~ lme(yield_t.ha ~ doseP,\n",
    "            random = ~ 1|Year/ID,\n",
    "            data = .)) %>%\n",
    "  map_dfr(~tidy(fixef(.)), .id = 'source')"
   ]
  },
  {
   "cell_type": "markdown",
   "metadata": {},
   "source": [
    "#### P M-III"
   ]
  },
  {
   "cell_type": "markdown",
   "metadata": {},
   "source": [
    "##### Without manure"
   ]
  },
  {
   "cell_type": "code",
   "execution_count": 7,
   "metadata": {},
   "outputs": [
    {
     "name": "stderr",
     "output_type": "stream",
     "text": [
      "Warning message:\n",
      "\"'tidy.numeric' is deprecated.\n",
      "See help(\"Deprecated\")\"\n",
      "Warning message:\n",
      "\"'tidy.numeric' is deprecated.\n",
      "See help(\"Deprecated\")\"\n",
      "Warning message:\n",
      "\"'tidy.numeric' is deprecated.\n",
      "See help(\"Deprecated\")\"\n",
      "Warning message:\n",
      "\"'tidy.numeric' is deprecated.\n",
      "See help(\"Deprecated\")\"\n",
      "Warning message:\n",
      "\"'tidy.numeric' is deprecated.\n",
      "See help(\"Deprecated\")\"\n"
     ]
    }
   ],
   "source": [
    "mod_yield_PMIII_nomanure <- data_rs %>%\n",
    "  filter(!is_manure) %>%\n",
    "  select(Year, ID, yield_t.ha, doseP, `PM3 classes`) %>%\n",
    "  drop_na() %>%\n",
    "  droplevels() %>%\n",
    "  split(.$`PM3 classes`) %>%\n",
    "  map(~ lme(yield_t.ha ~ doseP,\n",
    "            random = ~ 1|Year/ID,\n",
    "            data = .)) %>%\n",
    "  map_dfr(~tidy(fixef(.)), .id = 'source')"
   ]
  },
  {
   "cell_type": "markdown",
   "metadata": {},
   "source": [
    "##### With manure"
   ]
  },
  {
   "cell_type": "code",
   "execution_count": 8,
   "metadata": {},
   "outputs": [
    {
     "name": "stderr",
     "output_type": "stream",
     "text": [
      "Warning message:\n",
      "\"'tidy.numeric' is deprecated.\n",
      "See help(\"Deprecated\")\"\n",
      "Warning message:\n",
      "\"'tidy.numeric' is deprecated.\n",
      "See help(\"Deprecated\")\"\n",
      "Warning message:\n",
      "\"'tidy.numeric' is deprecated.\n",
      "See help(\"Deprecated\")\"\n",
      "Warning message:\n",
      "\"'tidy.numeric' is deprecated.\n",
      "See help(\"Deprecated\")\"\n"
     ]
    }
   ],
   "source": [
    "mod_yield_PMIII_manure <- data_rs %>%\n",
    "  filter(is_manure) %>%\n",
    "  select(Year, ID, yield_t.ha, doseP, `PM3 classes`) %>%\n",
    "  drop_na() %>%\n",
    "  filter(`PM3 classes` != \"(0,50]\") %>% # few points\n",
    "  droplevels() %>%\n",
    "  split(.$`PM3 classes`) %>%\n",
    "  map(~ lme(yield_t.ha ~ doseP,\n",
    "            random = ~ 1|Year/ID,\n",
    "            data = .)) %>%\n",
    "  map_dfr(~tidy(fixef(.)), .id = 'source')"
   ]
  },
  {
   "cell_type": "markdown",
   "metadata": {},
   "source": [
    "### Grain density"
   ]
  },
  {
   "cell_type": "markdown",
   "metadata": {},
   "source": [
    "#### P/Al"
   ]
  },
  {
   "cell_type": "markdown",
   "metadata": {},
   "source": [
    "##### Without manure"
   ]
  },
  {
   "cell_type": "code",
   "execution_count": 9,
   "metadata": {},
   "outputs": [
    {
     "name": "stderr",
     "output_type": "stream",
     "text": [
      "Warning message:\n",
      "\"'tidy.numeric' is deprecated.\n",
      "See help(\"Deprecated\")\"\n",
      "Warning message:\n",
      "\"'tidy.numeric' is deprecated.\n",
      "See help(\"Deprecated\")\"\n",
      "Warning message:\n",
      "\"'tidy.numeric' is deprecated.\n",
      "See help(\"Deprecated\")\"\n",
      "Warning message:\n",
      "\"'tidy.numeric' is deprecated.\n",
      "See help(\"Deprecated\")\"\n",
      "Warning message:\n",
      "\"'tidy.numeric' is deprecated.\n",
      "See help(\"Deprecated\")\"\n",
      "Warning message:\n",
      "\"'tidy.numeric' is deprecated.\n",
      "See help(\"Deprecated\")\"\n"
     ]
    }
   ],
   "source": [
    "mod_dens_P.Al_nomanure <- data_rs %>%\n",
    "  filter(!is_manure) %>%\n",
    "  select(Year, ID, graindensity_g.L, doseP, `P/Al classes`) %>%\n",
    "  drop_na() %>%\n",
    "  droplevels() %>%\n",
    "  split(.$`P/Al classes`) %>%\n",
    "  map(~ lme(graindensity_g.L ~ doseP,\n",
    "            random = ~ 1|Year/ID,\n",
    "            data = .)) %>%\n",
    "  map_dfr(~tidy(fixef(.)), .id = 'source')"
   ]
  },
  {
   "cell_type": "markdown",
   "metadata": {},
   "source": [
    "##### With manure"
   ]
  },
  {
   "cell_type": "code",
   "execution_count": 10,
   "metadata": {},
   "outputs": [
    {
     "name": "stderr",
     "output_type": "stream",
     "text": [
      "Warning message:\n",
      "\"'tidy.numeric' is deprecated.\n",
      "See help(\"Deprecated\")\"\n",
      "Warning message:\n",
      "\"'tidy.numeric' is deprecated.\n",
      "See help(\"Deprecated\")\"\n",
      "Warning message:\n",
      "\"'tidy.numeric' is deprecated.\n",
      "See help(\"Deprecated\")\"\n",
      "Warning message:\n",
      "\"'tidy.numeric' is deprecated.\n",
      "See help(\"Deprecated\")\"\n"
     ]
    }
   ],
   "source": [
    "mod_dens_P.Al_manure <- data_rs %>%\n",
    "  filter(is_manure) %>%\n",
    "  select(Year, ID, graindensity_g.L, doseP, `P/Al classes`) %>%\n",
    "  drop_na() %>%\n",
    "  filter(`P/Al classes` != \"(2.5,5]\") %>% # only two points\n",
    "  droplevels() %>%\n",
    "  split(.$`P/Al classes`) %>%\n",
    "  map(~ lme(graindensity_g.L ~ doseP,\n",
    "            random = ~ 1|Year/ID,\n",
    "            data = .)) %>%\n",
    "  map_dfr(~tidy(fixef(.)), .id = 'source')"
   ]
  },
  {
   "cell_type": "markdown",
   "metadata": {},
   "source": [
    "#### P M-III"
   ]
  },
  {
   "cell_type": "markdown",
   "metadata": {},
   "source": [
    "##### Without manure"
   ]
  },
  {
   "cell_type": "code",
   "execution_count": 11,
   "metadata": {},
   "outputs": [
    {
     "name": "stderr",
     "output_type": "stream",
     "text": [
      "Warning message:\n",
      "\"'tidy.numeric' is deprecated.\n",
      "See help(\"Deprecated\")\"\n",
      "Warning message:\n",
      "\"'tidy.numeric' is deprecated.\n",
      "See help(\"Deprecated\")\"\n",
      "Warning message:\n",
      "\"'tidy.numeric' is deprecated.\n",
      "See help(\"Deprecated\")\"\n",
      "Warning message:\n",
      "\"'tidy.numeric' is deprecated.\n",
      "See help(\"Deprecated\")\"\n",
      "Warning message:\n",
      "\"'tidy.numeric' is deprecated.\n",
      "See help(\"Deprecated\")\"\n"
     ]
    }
   ],
   "source": [
    "mod_dens_PMIII_nomanure <- data_rs %>%\n",
    "  filter(!is_manure) %>%\n",
    "  select(Year, ID, graindensity_g.L, doseP, `PM3 classes`) %>%\n",
    "  drop_na() %>%\n",
    "  droplevels() %>%\n",
    "  split(.$`PM3 classes`) %>%\n",
    "  map(~ lme(graindensity_g.L ~ doseP,\n",
    "            random = ~ 1|Year/ID,\n",
    "            data = .)) %>%\n",
    "  map_dfr(~tidy(fixef(.)), .id = 'source')"
   ]
  },
  {
   "cell_type": "markdown",
   "metadata": {},
   "source": [
    "##### With manure"
   ]
  },
  {
   "cell_type": "code",
   "execution_count": 12,
   "metadata": {},
   "outputs": [
    {
     "name": "stderr",
     "output_type": "stream",
     "text": [
      "Warning message:\n",
      "\"'tidy.numeric' is deprecated.\n",
      "See help(\"Deprecated\")\"\n",
      "Warning message:\n",
      "\"'tidy.numeric' is deprecated.\n",
      "See help(\"Deprecated\")\"\n",
      "Warning message:\n",
      "\"'tidy.numeric' is deprecated.\n",
      "See help(\"Deprecated\")\"\n",
      "Warning message:\n",
      "\"'tidy.numeric' is deprecated.\n",
      "See help(\"Deprecated\")\"\n"
     ]
    }
   ],
   "source": [
    "mod_dens_PMIII_manure <- data_rs %>%\n",
    "  filter(is_manure) %>%\n",
    "  select(Year, ID, graindensity_g.L, doseP, `PM3 classes`) %>%\n",
    "  drop_na() %>%\n",
    "  filter(`PM3 classes` != \"(0,50]\") %>% # few points\n",
    "  droplevels() %>%\n",
    "  split(.$`PM3 classes`) %>%\n",
    "  map(~ lme(graindensity_g.L ~ doseP,\n",
    "            random = ~ 1|Year/ID,\n",
    "            data = .)) %>%\n",
    "  map_dfr(~tidy(fixef(.)), .id = 'source')"
   ]
  },
  {
   "cell_type": "markdown",
   "metadata": {},
   "source": [
    "### Grain moisture"
   ]
  },
  {
   "cell_type": "markdown",
   "metadata": {},
   "source": [
    "#### P/Al"
   ]
  },
  {
   "cell_type": "markdown",
   "metadata": {},
   "source": [
    "##### Without manure"
   ]
  },
  {
   "cell_type": "code",
   "execution_count": 13,
   "metadata": {},
   "outputs": [
    {
     "name": "stderr",
     "output_type": "stream",
     "text": [
      "Warning message:\n",
      "\"'tidy.numeric' is deprecated.\n",
      "See help(\"Deprecated\")\"\n",
      "Warning message:\n",
      "\"'tidy.numeric' is deprecated.\n",
      "See help(\"Deprecated\")\"\n",
      "Warning message:\n",
      "\"'tidy.numeric' is deprecated.\n",
      "See help(\"Deprecated\")\"\n",
      "Warning message:\n",
      "\"'tidy.numeric' is deprecated.\n",
      "See help(\"Deprecated\")\"\n",
      "Warning message:\n",
      "\"'tidy.numeric' is deprecated.\n",
      "See help(\"Deprecated\")\"\n",
      "Warning message:\n",
      "\"'tidy.numeric' is deprecated.\n",
      "See help(\"Deprecated\")\"\n"
     ]
    }
   ],
   "source": [
    "mod_moist_P.Al_nomanure <- data_rs %>%\n",
    "  filter(!is_manure) %>%\n",
    "  filter(grainmoisture_perc > 10) %>%\n",
    "  select(Year, ID, grainmoisture_perc, doseP, `P/Al classes`) %>%\n",
    "  drop_na() %>%\n",
    "  droplevels() %>%\n",
    "  split(.$`P/Al classes`) %>%\n",
    "  map(~ lme(grainmoisture_perc ~ doseP,\n",
    "            random = ~ 1|Year/ID,\n",
    "            data = .)) %>%\n",
    "  map_dfr(~tidy(fixef(.)), .id = 'source')"
   ]
  },
  {
   "cell_type": "markdown",
   "metadata": {},
   "source": [
    "##### With manure"
   ]
  },
  {
   "cell_type": "code",
   "execution_count": 14,
   "metadata": {},
   "outputs": [
    {
     "name": "stderr",
     "output_type": "stream",
     "text": [
      "Warning message:\n",
      "\"'tidy.numeric' is deprecated.\n",
      "See help(\"Deprecated\")\"\n",
      "Warning message:\n",
      "\"'tidy.numeric' is deprecated.\n",
      "See help(\"Deprecated\")\"\n",
      "Warning message:\n",
      "\"'tidy.numeric' is deprecated.\n",
      "See help(\"Deprecated\")\"\n",
      "Warning message:\n",
      "\"'tidy.numeric' is deprecated.\n",
      "See help(\"Deprecated\")\"\n"
     ]
    }
   ],
   "source": [
    "mod_moist_P.Al_manure <- data_rs %>%\n",
    "  filter(is_manure) %>%\n",
    "  filter(grainmoisture_perc > 10) %>%\n",
    "  select(Year, ID, grainmoisture_perc, doseP, `P/Al classes`) %>%\n",
    "  drop_na() %>%\n",
    "  filter(`P/Al classes` != \"(2.5,5]\") %>% # only two points\n",
    "  droplevels() %>%\n",
    "  split(.$`P/Al classes`) %>%\n",
    "  map(~ lme(grainmoisture_perc ~ doseP,\n",
    "            random = ~ 1|Year/ID,\n",
    "            data = .)) %>%\n",
    "  map_dfr(~tidy(fixef(.)), .id = 'source')"
   ]
  },
  {
   "cell_type": "markdown",
   "metadata": {},
   "source": [
    "#### P M-III"
   ]
  },
  {
   "cell_type": "markdown",
   "metadata": {},
   "source": [
    "##### Without manure"
   ]
  },
  {
   "cell_type": "code",
   "execution_count": 15,
   "metadata": {},
   "outputs": [
    {
     "name": "stderr",
     "output_type": "stream",
     "text": [
      "Warning message:\n",
      "\"'tidy.numeric' is deprecated.\n",
      "See help(\"Deprecated\")\"\n",
      "Warning message:\n",
      "\"'tidy.numeric' is deprecated.\n",
      "See help(\"Deprecated\")\"\n",
      "Warning message:\n",
      "\"'tidy.numeric' is deprecated.\n",
      "See help(\"Deprecated\")\"\n",
      "Warning message:\n",
      "\"'tidy.numeric' is deprecated.\n",
      "See help(\"Deprecated\")\"\n",
      "Warning message:\n",
      "\"'tidy.numeric' is deprecated.\n",
      "See help(\"Deprecated\")\"\n"
     ]
    }
   ],
   "source": [
    "mod_moist_PMIII_nomanure <- data_rs %>%\n",
    "  filter(!is_manure) %>%\n",
    "  select(Year, ID, grainmoisture_perc, doseP, `PM3 classes`) %>%\n",
    "  drop_na() %>%\n",
    "  droplevels() %>%\n",
    "  split(.$`PM3 classes`) %>%\n",
    "  map(~ lme(grainmoisture_perc ~ doseP,\n",
    "            random = ~ 1|Year/ID,\n",
    "            data = .)) %>%\n",
    "  map_dfr(~tidy(fixef(.)), .id = 'source')"
   ]
  },
  {
   "cell_type": "markdown",
   "metadata": {},
   "source": [
    "##### With manure"
   ]
  },
  {
   "cell_type": "code",
   "execution_count": 16,
   "metadata": {},
   "outputs": [
    {
     "name": "stderr",
     "output_type": "stream",
     "text": [
      "Warning message:\n",
      "\"'tidy.numeric' is deprecated.\n",
      "See help(\"Deprecated\")\"\n",
      "Warning message:\n",
      "\"'tidy.numeric' is deprecated.\n",
      "See help(\"Deprecated\")\"\n",
      "Warning message:\n",
      "\"'tidy.numeric' is deprecated.\n",
      "See help(\"Deprecated\")\"\n",
      "Warning message:\n",
      "\"'tidy.numeric' is deprecated.\n",
      "See help(\"Deprecated\")\"\n"
     ]
    }
   ],
   "source": [
    "mod_moist_PMIII_manure <- data_rs %>%\n",
    "  filter(is_manure) %>%\n",
    "  select(Year, ID, grainmoisture_perc, doseP, `PM3 classes`) %>%\n",
    "  drop_na() %>%\n",
    "  filter(`PM3 classes` != \"(0,50]\") %>% # few points\n",
    "  droplevels() %>%\n",
    "  split(.$`PM3 classes`) %>%\n",
    "  map(~ lme(grainmoisture_perc ~ doseP,\n",
    "            random = ~ 1|Year/ID,\n",
    "            data = .)) %>%\n",
    "  map_dfr(~tidy(fixef(.)), .id = 'source')"
   ]
  },
  {
   "cell_type": "markdown",
   "metadata": {},
   "source": [
    "Model statistics are binded in two tables, with and without manure."
   ]
  },
  {
   "cell_type": "code",
   "execution_count": 17,
   "metadata": {},
   "outputs": [],
   "source": [
    "mod_stats_P.Al_nomanure <- bind_rows(yield_t.ha = mod_yield_P.Al_nomanure,\n",
    "                                     graindensity_g.L = mod_dens_P.Al_nomanure,\n",
    "                                     grainmoisture_perc = mod_moist_P.Al_nomanure,\n",
    "                                     .id = \"perf_indice\") %>%\n",
    "  spread(names, x) %>%\n",
    "  rename(`P/Al classes` = source)\n",
    "mod_stats_P.Al_nomanure$`P/Al classes` <- factor(mod_stats_P.Al_nomanure$`P/Al classes`, levels = levels(data_rs$`P/Al classes`))"
   ]
  },
  {
   "cell_type": "code",
   "execution_count": 18,
   "metadata": {},
   "outputs": [],
   "source": [
    "mod_stats_P.Al_manure <- bind_rows(yield_t.ha = mod_yield_P.Al_manure,\n",
    "                                   graindensity_g.L = mod_dens_P.Al_manure,\n",
    "                                   grainmoisture_perc = mod_moist_P.Al_manure, \n",
    "                                   .id = \"perf_indice\") %>%\n",
    "  spread(names, x) %>%\n",
    "  rename(`P/Al classes` = source)\n",
    "mod_stats_P.Al_manure$`P/Al classes` <- factor(mod_stats_P.Al_manure$`P/Al classes`, levels = levels(data_rs$`P/Al classes`))"
   ]
  },
  {
   "cell_type": "code",
   "execution_count": 19,
   "metadata": {},
   "outputs": [],
   "source": [
    "mod_stats_PMIII_nomanure <- bind_rows(yield_t.ha = mod_yield_PMIII_nomanure,\n",
    "                                      graindensity_g.L = mod_dens_PMIII_nomanure,\n",
    "                                      grainmoisture_perc = mod_moist_PMIII_nomanure, \n",
    "                                      .id = \"perf_indice\") %>%\n",
    "  spread(names, x) %>%\n",
    "  rename(`PM3 classes` = source)\n",
    "mod_stats_PMIII_nomanure$`PM3 classes` <- factor(mod_stats_PMIII_nomanure$`PM3 classes`, levels = levels(data_rs$`PM3 classes`))\n",
    "\n",
    "levels(mod_stats_PMIII_nomanure$`PM3 classes`) <- levels(data_rs$`PM3 classes`)"
   ]
  },
  {
   "cell_type": "code",
   "execution_count": 20,
   "metadata": {},
   "outputs": [],
   "source": [
    "mod_stats_PMIII_manure <- bind_rows(yield_t.ha = mod_yield_PMIII_manure,\n",
    "                                    graindensity_g.L = mod_dens_PMIII_manure,\n",
    "                                    grainmoisture_perc = mod_moist_PMIII_manure, \n",
    "                                    .id = \"perf_indice\") %>%\n",
    "  spread(names, x) %>%\n",
    "  rename(`PM3 classes` = source)\n",
    "mod_stats_PMIII_manure$`PM3 classes` <- factor(mod_stats_PMIII_manure$`PM3 classes`)\n",
    "levels(mod_stats_PMIII_manure$`PM3 classes`) <- levels(data_rs$`PM3 classes`)[-1]"
   ]
  },
  {
   "cell_type": "markdown",
   "metadata": {},
   "source": [
    "## Plot\n",
    "\n",
    "We will rename performance indices with prettier names."
   ]
  },
  {
   "cell_type": "code",
   "execution_count": 21,
   "metadata": {},
   "outputs": [],
   "source": [
    "transform_pretty <- function(x) {\n",
    "    x %>%\n",
    "    mutate(term = case_when(\n",
    "      perf_indice == \"yield_t.ha\" ~ \"Grain yield\",\n",
    "      perf_indice == \"graindensity_g.L\" ~ \"Bulk density\",\n",
    "      perf_indice == \"grainmoisture_perc\" ~ \"Grain moisture\"),\n",
    "         unitN = case_when(\n",
    "      perf_indice == \"yield_t.ha\" ~ \"Mg\",\n",
    "      perf_indice == \"graindensity_g.L\" ~ \"g\",\n",
    "      perf_indice == \"grainmoisture_perc\" ~ \"%\"),\n",
    "         unitD = case_when(\n",
    "      perf_indice == \"yield_t.ha\" ~ \" ha\",\n",
    "      perf_indice == \"graindensity_g.L\" ~ \" L\",\n",
    "      perf_indice == \"grainmoisture_perc\" ~ \"\"),\n",
    "        inverse = case_when(\n",
    "      perf_indice == \"yield_t.ha\" ~ \"-1\",\n",
    "      perf_indice == \"graindensity_g.L\" ~ \"-1\",\n",
    "      perf_indice == \"grainmoisture_perc\" ~ \"\")) \n",
    "}"
   ]
  },
  {
   "cell_type": "markdown",
   "metadata": {},
   "source": [
    "### P/Al"
   ]
  },
  {
   "cell_type": "markdown",
   "metadata": {},
   "source": [
    "#### Without manure"
   ]
  },
  {
   "cell_type": "code",
   "execution_count": 22,
   "metadata": {},
   "outputs": [],
   "source": [
    "mod_stats_P.Al_nomanure_pretty <- mod_stats_P.Al_nomanure %>%\n",
    "  transform_pretty() %>%\n",
    "  mutate(`P/Al classes` = paste(\"P/Al\", `P/Al classes`))\n",
    "\n",
    "nomanure_df <- data_rs %>%\n",
    "  gather(key = \"perf_indice\", value = \"performance\", yield_t.ha, graindensity_g.L, grainmoisture_perc) %>%\n",
    "  transform_pretty() %>%\n",
    "  mutate(`P/Al classes` = paste(\"P/Al\", `P/Al classes`)) %>%\n",
    "  filter(!is_manure) %>%\n",
    "  select(`P/Al classes`, `PM3 classes`, perf_indice, doseP, performance, term, unitN, unitD, inverse)"
   ]
  },
  {
   "cell_type": "markdown",
   "metadata": {},
   "source": [
    "Adjust level order."
   ]
  },
  {
   "cell_type": "code",
   "execution_count": 23,
   "metadata": {},
   "outputs": [],
   "source": [
    "levels_p.al <- c('P/Al (0,2.5]', 'P/Al (2.5,5]', 'P/Al (5,10]', 'P/Al (10,20]',\n",
    "                 'P/Al (20,30]', 'P/Al (30,...')\n",
    "\n",
    "nomanure_df$`P/Al classes` <- factor(nomanure_df$`P/Al classes`,\n",
    "                                    levels = levels_p.al)\n",
    "\n",
    "mod_stats_P.Al_nomanure_pretty$`P/Al classes` <- factor(mod_stats_P.Al_nomanure_pretty$`P/Al classes`,\n",
    "                                                        levels = levels_p.al)"
   ]
  },
  {
   "cell_type": "markdown",
   "metadata": {},
   "source": [
    "The expression on the y-axis can go through a label_parser."
   ]
  },
  {
   "cell_type": "code",
   "execution_count": 24,
   "metadata": {},
   "outputs": [],
   "source": [
    "gg_nomanure <- nomanure_df %>%\n",
    "  ggplot(aes(x = doseP, y = performance)) +\n",
    "  geom_point(size = 1.5, alpha = 0.5, pch = 21, fill = \"white\") +\n",
    "  geom_abline(data = mod_stats_P.Al_nomanure_pretty, aes(intercept = `(Intercept)`, slope = doseP), size = 0.75) +\n",
    "  facet_grid(term + unitD + unitN + inverse ~ `P/Al classes`,\n",
    "             scales = \"free\",\n",
    "             labeller = label_bquote(rows = .(term)~\"(\"*.(unitN)~.(unitD)^.(inverse)*\")\"),\n",
    "             switch = \"y\") +\n",
    "  labs(title = \"Without manure\", x = expression(\"Dose P (kg ha\"^\"-1\"~\")\")) +\n",
    "  expand_limits(x = c(0, 70)) +\n",
    "  theme_bw() +\n",
    "  theme(axis.title.y = element_blank(),\n",
    "        strip.background = element_rect(fill = \"transparent\", colour = \"transparent\"),\n",
    "        strip.placement = \"outside\",\n",
    "        strip.text.y = element_text(angle=270))"
   ]
  },
  {
   "cell_type": "markdown",
   "metadata": {},
   "source": [
    "#### With manure"
   ]
  },
  {
   "cell_type": "code",
   "execution_count": 25,
   "metadata": {},
   "outputs": [],
   "source": [
    "mod_stats_P.Al_manure_pretty <- mod_stats_P.Al_manure %>%\n",
    "  transform_pretty() %>%\n",
    "  mutate(`P/Al classes` = paste(\"P/Al\", `P/Al classes`))\n",
    "\n",
    "manure_df <- data_rs %>%\n",
    "  gather(key = \"perf_indice\", value = \"performance\", yield_t.ha, graindensity_g.L, grainmoisture_perc) %>%\n",
    "  transform_pretty() %>%\n",
    "  mutate(`P/Al classes` = paste(\"P/Al\", `P/Al classes`)) %>%\n",
    "  filter(is_manure) %>%\n",
    "  select(`P/Al classes`, perf_indice, doseP, performance, term, unitN, unitD, inverse)"
   ]
  },
  {
   "cell_type": "markdown",
   "metadata": {},
   "source": [
    "Because their is no data in some P/Al categories, we append empty rows only filled with P/Al categories, assuring that the plot renders all categories, with empty spaces where the category is absent."
   ]
  },
  {
   "cell_type": "code",
   "execution_count": 26,
   "metadata": {},
   "outputs": [
    {
     "name": "stderr",
     "output_type": "stream",
     "text": [
      "Warning message in bind_rows_(x, .id):\n",
      "\"binding character and factor vector, coercing into character vector\"\n"
     ]
    }
   ],
   "source": [
    "# tweak to force ploting the (0,2.5] category\n",
    "manure_na <- manure_df[1:nlevels(pull(data_rs[\"P/Al classes\"])), ]\n",
    "manure_na[1:nrow(manure_na), ] <- NA\n",
    "manure_na[, \"P/Al classes\"] <- factor(unique(paste(\"P/Al\", levels(data_rs$`P/Al classes`))))\n",
    "manure_na[\"perf_indice\"] <- \"yield_t.ha\t\"\n",
    "manure_na[\"term\"] <- \"Grain yield\"\n",
    "manure_na[\"unitN\"] <- \"Mg\"\n",
    "manure_na[\"unitD\"] <- \" ha\"\n",
    "manure_na[\"inverse\"] <- \"-1\"\n",
    "manure_df <- bind_rows(manure_df, manure_na)"
   ]
  },
  {
   "cell_type": "markdown",
   "metadata": {},
   "source": [
    "Adjust level order."
   ]
  },
  {
   "cell_type": "code",
   "execution_count": 27,
   "metadata": {},
   "outputs": [],
   "source": [
    "manure_df$`P/Al classes` <- factor(manure_df$`P/Al classes`,\n",
    "                                   levels = levels_p.al)\n",
    "\n",
    "mod_stats_P.Al_manure_pretty$`P/Al classes` <- factor(mod_stats_P.Al_manure_pretty$`P/Al classes`,\n",
    "                                                      levels = levels_p.al)"
   ]
  },
  {
   "cell_type": "code",
   "execution_count": 28,
   "metadata": {},
   "outputs": [],
   "source": [
    "gg_manure <- manure_df %>%\n",
    "  ggplot(aes(x = doseP, y = performance)) +\n",
    "  geom_point(size = 1.5, alpha = 0.5, pch = 21, fill = \"white\") +\n",
    "  geom_abline(data = mod_stats_P.Al_manure_pretty, aes(intercept = `(Intercept)`, slope = doseP), size = 0.75) +\n",
    "  facet_grid(term + unitD + unitN + inverse ~ `P/Al classes`,\n",
    "             scales = \"free\",\n",
    "             labeller = label_bquote(rows = .(term)~\"(\"*.(unitN)~.(unitD)^.(inverse)*\")\"),\n",
    "             switch = \"y\") +\n",
    "  labs(title = \"With manure\", x = expression(\"Dose P (kg ha\"^\"-1\"~\")\")) +\n",
    "  expand_limits(x = c(0, 70)) +\n",
    "  theme_bw() +\n",
    "  theme(axis.title.y = element_blank(),\n",
    "        strip.background = element_rect(fill = \"transparent\", colour = \"transparent\"),\n",
    "        strip.placement = \"outside\",\n",
    "        strip.text.y = element_text(angle=270))"
   ]
  },
  {
   "cell_type": "markdown",
   "metadata": {},
   "source": [
    "#### Plot manure and no manure"
   ]
  },
  {
   "cell_type": "code",
   "execution_count": 29,
   "metadata": {},
   "outputs": [
    {
     "name": "stderr",
     "output_type": "stream",
     "text": [
      "Warning message:\n",
      "\"Removed 1942 rows containing missing values (geom_point).\"\n",
      "Warning message:\n",
      "\"Removed 1709 rows containing missing values (geom_point).\"\n"
     ]
    },
    {
     "data": {
      "image/png": "[encoded data removed]",
      "text/plain": [
       "plot without title"
      ]
     },
     "metadata": {
      "image/png": {
       "height": 720,
       "width": 480
      },
      "text/plain": {
       "height": 720,
       "width": 480
      }
     },
     "output_type": "display_data"
    }
   ],
   "source": [
    "options(repr.plot.width = 8, repr.plot.height = 12)\n",
    "plot_grid(gg_nomanure, gg_manure, ncol = 1)"
   ]
  },
  {
   "cell_type": "code",
   "execution_count": 30,
   "metadata": {},
   "outputs": [],
   "source": [
    "ggsave(\"images/performance-p.al-cat.jpg\", height = 10, width = 8, dpi = 600)"
   ]
  },
  {
   "cell_type": "markdown",
   "metadata": {},
   "source": [
    "### P-MIII"
   ]
  },
  {
   "cell_type": "markdown",
   "metadata": {},
   "source": [
    "#### Without manure"
   ]
  },
  {
   "cell_type": "code",
   "execution_count": 31,
   "metadata": {},
   "outputs": [],
   "source": [
    "mod_stats_PMIII_nomanure_pretty <- mod_stats_PMIII_nomanure %>%\n",
    "  transform_pretty()\n",
    "\n",
    "nomanure_df <- data_rs %>%\n",
    "  gather(key = \"perf_indice\", value = \"performance\", yield_t.ha, graindensity_g.L, grainmoisture_perc) %>%\n",
    "  transform_pretty() %>%\n",
    "  filter(!is_manure) %>%\n",
    "  select(`PM3 classes`, perf_indice, doseP, performance, term, unitN, unitD, inverse)"
   ]
  },
  {
   "cell_type": "markdown",
   "metadata": {},
   "source": [
    "Adjust level order."
   ]
  },
  {
   "cell_type": "code",
   "execution_count": 32,
   "metadata": {},
   "outputs": [],
   "source": [
    "levels_pm3 <- c('(0,50]', '(50,100]', '(100,200]',\n",
    "                '(200,300]', '(300,...')\n",
    "nomanure_df$`PM3 classes` <- factor(nomanure_df$`PM3 classes`,\n",
    "                                     levels = levels_pm3)\n",
    "mod_stats_PMIII_nomanure_pretty$`PM3 classes` <- factor(mod_stats_PMIII_nomanure_pretty$`PM3 classes`,\n",
    "                                                         levels = levels_pm3)"
   ]
  },
  {
   "cell_type": "code",
   "execution_count": 33,
   "metadata": {},
   "outputs": [],
   "source": [
    "gg_nomanure <- nomanure_df %>%\n",
    "  ggplot(aes(x = doseP, y = performance)) +\n",
    "  geom_point(size = 1.5, alpha = 0.5, pch = 21, fill = \"white\") +\n",
    "  facet_grid(term + unitD + unitN + inverse ~ `PM3 classes`,\n",
    "             scales = \"free\",\n",
    "             labeller = label_bquote(rows = .(term)~\"(\"*.(unitN)~.(unitD)^.(inverse)*\")\",\n",
    "                                     cols = \"PM3\"~.(as.character(`PM3 classes`))~\"(mg kg\"^\"-1\"*\")\"),\n",
    "             switch = \"y\") +\n",
    "  geom_abline(data = mod_stats_PMIII_nomanure_pretty, aes(intercept = `(Intercept)`, slope = doseP), size = 0.75) +\n",
    "  labs(title = \"Without manure\", x = expression(\"Dose P (kg ha\"^\"-1\"~\")\")) +\n",
    "  expand_limits(x = c(0, 70)) +\n",
    "  theme_bw() +\n",
    "  theme(axis.title.y = element_blank(),\n",
    "        strip.background = element_rect(fill = \"transparent\", colour = \"transparent\"),\n",
    "        strip.placement = \"outside\",\n",
    "        strip.text.y = element_text(angle=270))"
   ]
  },
  {
   "cell_type": "markdown",
   "metadata": {},
   "source": [
    "#### With manure"
   ]
  },
  {
   "cell_type": "code",
   "execution_count": 34,
   "metadata": {},
   "outputs": [],
   "source": [
    "mod_stats_PMIII_manure_pretty <- mod_stats_PMIII_manure %>%\n",
    "  transform_pretty()\n",
    "\n",
    "manure_df <- data_rs %>%\n",
    "  gather(key = \"perf_indice\", value = \"performance\", yield_t.ha, graindensity_g.L, grainmoisture_perc) %>%\n",
    "  transform_pretty() %>%\n",
    "  filter(is_manure) %>%\n",
    "  select(`PM3 classes`, perf_indice, doseP, performance, term, unitN, unitD, inverse)"
   ]
  },
  {
   "cell_type": "code",
   "execution_count": 35,
   "metadata": {},
   "outputs": [],
   "source": [
    "manure_df$`PM3 classes` <- factor(manure_df$`PM3 classes`,\n",
    "                                   levels = levels_pm3)\n",
    "\n",
    "mod_stats_PMIII_manure_pretty$`PM3 classes` <- factor(mod_stats_PMIII_manure_pretty$`PM3 classes`,\n",
    "                                                       levels = levels_pm3)"
   ]
  },
  {
   "cell_type": "code",
   "execution_count": 36,
   "metadata": {},
   "outputs": [
    {
     "name": "stderr",
     "output_type": "stream",
     "text": [
      "Warning message:\n",
      "\"Removed 1703 rows containing missing values (geom_point).\"\n"
     ]
    },
    {
     "data": {
      "image/png": "[encoded data removed]",
      "text/plain": [
       "plot without title"
      ]
     },
     "metadata": {
      "image/png": {
       "height": 720,
       "width": 480
      },
      "text/plain": {
       "height": 720,
       "width": 480
      }
     },
     "output_type": "display_data"
    }
   ],
   "source": [
    "gg_manure <- manure_df %>%\n",
    "  ggplot(aes(x = doseP, y = performance)) +\n",
    "  geom_point(size = 1.5, alpha = 0.5, pch = 21, fill = \"white\") +\n",
    "  geom_abline(data = mod_stats_PMIII_manure_pretty, aes(intercept = `(Intercept)`, slope = doseP), size = 0.75) +\n",
    "  facet_grid(term + unitD + unitN + inverse ~ `PM3 classes`,\n",
    "             scales = \"free\",\n",
    "             labeller = label_bquote(rows = .(term)~\"(\"*.(unitN)~.(unitD)^.(inverse)*\")\",\n",
    "                                     cols = \"PM3\"~.(as.character(`PM3 classes`))~\"(mg kg\"^\"-1\"*\")\"),\n",
    "             switch = \"y\") +\n",
    "  labs(title = \"With manure\", x = expression(\"Dose P (kg ha\"^\"-1\"~\")\")) +\n",
    "  expand_limits(x = c(0, 70)) +\n",
    "  theme_bw() +\n",
    "  theme(axis.title.y = element_blank(),\n",
    "        strip.background = element_rect(fill = \"transparent\", colour = \"transparent\"),\n",
    "        strip.placement = \"outside\",\n",
    "        strip.text.y = element_text(angle=270))\n",
    "gg_manure"
   ]
  },
  {
   "cell_type": "code",
   "execution_count": 37,
   "metadata": {},
   "outputs": [
    {
     "name": "stderr",
     "output_type": "stream",
     "text": [
      "Warning message:\n",
      "\"Removed 1942 rows containing missing values (geom_point).\"\n",
      "Warning message:\n",
      "\"Removed 1703 rows containing missing values (geom_point).\"\n"
     ]
    },
    {
     "data": {
      "image/png": "[encoded data removed]",
      "text/plain": [
       "plot without title"
      ]
     },
     "metadata": {
      "image/png": {
       "height": 720,
       "width": 480
      },
      "text/plain": {
       "height": 720,
       "width": 480
      }
     },
     "output_type": "display_data"
    }
   ],
   "source": [
    "options(repr.plot.width = 8, repr.plot.height = 12)\n",
    "plot_grid(gg_nomanure, gg_manure, ncol = 1)"
   ]
  },
  {
   "cell_type": "code",
   "execution_count": 38,
   "metadata": {},
   "outputs": [],
   "source": [
    "ggsave(\"images/performance-pm3-cat.jpg\", height = 10, width = 8, dpi = 600)"
   ]
  },
  {
   "cell_type": "code",
   "execution_count": null,
   "metadata": {},
   "outputs": [],
   "source": []
  }
 ],
 "metadata": {
  "kernelspec": {
   "display_name": "R 3.6.3 system",
   "language": "R",
   "name": "ir_363"
  },
  "language_info": {
   "codemirror_mode": "r",
   "file_extension": ".r",
   "mimetype": "text/x-r-source",
   "name": "R",
   "pygments_lexer": "r",
   "version": "3.6.3"
  }
 },
 "nbformat": 4,
 "nbformat_minor": 4
}
