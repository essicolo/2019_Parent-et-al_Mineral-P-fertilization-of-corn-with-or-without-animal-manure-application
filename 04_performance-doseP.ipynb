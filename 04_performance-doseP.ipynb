{
 "cells": [
  {
   "cell_type": "markdown",
   "metadata": {},
   "source": [
    "# Question 4. Is the performance linear response to dosage different between different ranges of P/Al ratios?"
   ]
  },
  {
   "cell_type": "markdown",
   "metadata": {},
   "source": [
    "## Load data\n",
    "\n",
    "Load data exported from the preprocessing session."
   ]
  },
  {
   "cell_type": "code",
   "execution_count": 1,
   "metadata": {},
   "outputs": [],
   "source": [
    "load(\"output/preprocessed.RData\")"
   ]
  },
  {
   "cell_type": "markdown",
   "metadata": {},
   "source": [
    "## Load packages\n",
    "\n",
    "We obviously need the **`tidyverse`** package for data manipulation and plotting. **`ggthemes`** provides themes for plots. The **`nlme`** package is used for the linear mixted model. The **`broom`** package is used to create tidied **`nlme`** outputs. **`cowplot`** has the `plot_grid` function, which can create grids of ggplots."
   ]
  },
  {
   "cell_type": "code",
   "execution_count": 2,
   "metadata": {},
   "outputs": [
    {
     "name": "stderr",
     "output_type": "stream",
     "text": [
      "-- \u001b[1mAttaching packages\u001b[22m --------------------------------------- tidyverse 1.3.0 --\n",
      "\n",
      "\u001b[32mv\u001b[39m \u001b[34mggplot2\u001b[39m 3.2.1     \u001b[32mv\u001b[39m \u001b[34mpurrr  \u001b[39m 0.3.3\n",
      "\u001b[32mv\u001b[39m \u001b[34mtibble \u001b[39m 2.1.3     \u001b[32mv\u001b[39m \u001b[34mdplyr  \u001b[39m 0.8.4\n",
      "\u001b[32mv\u001b[39m \u001b[34mtidyr  \u001b[39m 1.0.2     \u001b[32mv\u001b[39m \u001b[34mstringr\u001b[39m 1.4.0\n",
      "\u001b[32mv\u001b[39m \u001b[34mreadr  \u001b[39m 1.3.1     \u001b[32mv\u001b[39m \u001b[34mforcats\u001b[39m 0.4.0\n",
      "\n",
      "-- \u001b[1mConflicts\u001b[22m ------------------------------------------ tidyverse_conflicts() --\n",
      "\u001b[31mx\u001b[39m \u001b[34mdplyr\u001b[39m::\u001b[32mfilter()\u001b[39m masks \u001b[34mstats\u001b[39m::filter()\n",
      "\u001b[31mx\u001b[39m \u001b[34mdplyr\u001b[39m::\u001b[32mlag()\u001b[39m    masks \u001b[34mstats\u001b[39m::lag()\n",
      "\n",
      "\n",
      "Attaching package: 'nlme'\n",
      "\n",
      "\n",
      "The following object is masked from 'package:dplyr':\n",
      "\n",
      "    collapse\n",
      "\n",
      "\n",
      "\n",
      "********************************************************\n",
      "\n",
      "Note: As of version 1.0.0, cowplot does not change the\n",
      "\n",
      "  default ggplot2 theme anymore. To recover the previous\n",
      "\n",
      "  behavior, execute:\n",
      "  theme_set(theme_cowplot())\n",
      "\n",
      "********************************************************\n",
      "\n",
      "\n",
      "\n",
      "Attaching package: 'cowplot'\n",
      "\n",
      "\n",
      "The following object is masked from 'package:ggthemes':\n",
      "\n",
      "    theme_map\n",
      "\n",
      "\n"
     ]
    }
   ],
   "source": [
    "library(\"tidyverse\")\n",
    "library(\"broom\")\n",
    "library(\"nlme\")\n",
    "library(\"ggthemes\")\n",
    "library(\"cowplot\")"
   ]
  },
  {
   "cell_type": "markdown",
   "metadata": {},
   "source": [
    "Create P/Al categories."
   ]
  },
  {
   "cell_type": "code",
   "execution_count": 3,
   "metadata": {},
   "outputs": [],
   "source": [
    "data_rs[\"P/Al classes\"] <- cut(data_rs$Soil_P.Al * 100, breaks = c(0, 2.5, 5, 10, 20, 30, 200))\n",
    "data_rs[\"P/Al classes\"] <- fct_recode(data_rs[\"P/Al classes\"] %>% pull(), \"(30,...\" = \"(30,200]\")"
   ]
  },
  {
   "cell_type": "markdown",
   "metadata": {},
   "source": [
    "Create P concentration categories."
   ]
  },
  {
   "cell_type": "code",
   "execution_count": 4,
   "metadata": {},
   "outputs": [],
   "source": [
    "data_rs[\"P M-III classes\"] <- cut(data_rs$Soil.MIII.P.ICP_mg.kg, breaks = c(0, 50, 100, 200, 300, 2000))\n",
    "data_rs[\"P M-III classes\"] <- fct_recode(data_rs[\"P M-III classes\"] %>% pull(), \"(300,...\" = \"(300,2e+03]\")"
   ]
  },
  {
   "cell_type": "markdown",
   "metadata": {},
   "source": [
    "## Mixed models for each performance indices, with and withtout manure"
   ]
  },
  {
   "cell_type": "markdown",
   "metadata": {},
   "source": [
    "We run (2 manure statuses X 3 performance indices X 6 P/Al levels) + (2 X 3 X 5 P-MIII levels) = 76 models. Each performance indice is ran twice (`_nomanure` and `_manure`), while maping models to P/Al classes, then P-MIII classes."
   ]
  },
  {
   "cell_type": "markdown",
   "metadata": {},
   "source": [
    "### Yield"
   ]
  },
  {
   "cell_type": "markdown",
   "metadata": {},
   "source": [
    "#### P/Al"
   ]
  },
  {
   "cell_type": "markdown",
   "metadata": {},
   "source": [
    "##### Without manure"
   ]
  },
  {
   "cell_type": "code",
   "execution_count": 5,
   "metadata": {},
   "outputs": [
    {
     "name": "stderr",
     "output_type": "stream",
     "text": [
      "Warning message:\n",
      "\"'tidy.numeric' is deprecated.\n",
      "See help(\"Deprecated\")\"\n",
      "Warning message:\n",
      "\"'tidy.numeric' is deprecated.\n",
      "See help(\"Deprecated\")\"\n",
      "Warning message:\n",
      "\"'tidy.numeric' is deprecated.\n",
      "See help(\"Deprecated\")\"\n",
      "Warning message:\n",
      "\"'tidy.numeric' is deprecated.\n",
      "See help(\"Deprecated\")\"\n",
      "Warning message:\n",
      "\"'tidy.numeric' is deprecated.\n",
      "See help(\"Deprecated\")\"\n",
      "Warning message:\n",
      "\"'tidy.numeric' is deprecated.\n",
      "See help(\"Deprecated\")\"\n"
     ]
    }
   ],
   "source": [
    "mod_yield_P.Al_nomanure <- data_rs %>%\n",
    "  filter(!is_manure) %>%\n",
    "  select(Year, ID, yield_t.ha, doseP, `P/Al classes`) %>%\n",
    "  drop_na() %>%\n",
    "  droplevels() %>%\n",
    "  split(.$`P/Al classes`) %>%\n",
    "  map(~ lme(yield_t.ha ~ doseP,\n",
    "            random = ~ 1|Year/ID,\n",
    "            data = .)) %>%\n",
    "  map_dfr(~tidy(fixef(.)), .id = 'source')"
   ]
  },
  {
   "cell_type": "markdown",
   "metadata": {},
   "source": [
    "##### With manure"
   ]
  },
  {
   "cell_type": "code",
   "execution_count": 6,
   "metadata": {},
   "outputs": [
    {
     "name": "stderr",
     "output_type": "stream",
     "text": [
      "Warning message:\n",
      "\"'tidy.numeric' is deprecated.\n",
      "See help(\"Deprecated\")\"\n",
      "Warning message:\n",
      "\"'tidy.numeric' is deprecated.\n",
      "See help(\"Deprecated\")\"\n",
      "Warning message:\n",
      "\"'tidy.numeric' is deprecated.\n",
      "See help(\"Deprecated\")\"\n",
      "Warning message:\n",
      "\"'tidy.numeric' is deprecated.\n",
      "See help(\"Deprecated\")\"\n"
     ]
    }
   ],
   "source": [
    "mod_yield_P.Al_manure <- data_rs %>%\n",
    "  filter(is_manure) %>%\n",
    "  select(Year, ID, yield_t.ha, doseP, `P/Al classes`) %>%\n",
    "  drop_na() %>%\n",
    "  filter(`P/Al classes` != \"(2.5,5]\") %>% # only two points\n",
    "  droplevels() %>%\n",
    "  split(.$`P/Al classes`) %>%\n",
    "  map(~ lme(yield_t.ha ~ doseP,\n",
    "            random = ~ 1|Year/ID,\n",
    "            data = .)) %>%\n",
    "  map_dfr(~tidy(fixef(.)), .id = 'source')"
   ]
  },
  {
   "cell_type": "markdown",
   "metadata": {},
   "source": [
    "#### P M-III"
   ]
  },
  {
   "cell_type": "markdown",
   "metadata": {},
   "source": [
    "##### Without manure"
   ]
  },
  {
   "cell_type": "code",
   "execution_count": 7,
   "metadata": {},
   "outputs": [
    {
     "name": "stderr",
     "output_type": "stream",
     "text": [
      "Warning message:\n",
      "\"'tidy.numeric' is deprecated.\n",
      "See help(\"Deprecated\")\"\n",
      "Warning message:\n",
      "\"'tidy.numeric' is deprecated.\n",
      "See help(\"Deprecated\")\"\n",
      "Warning message:\n",
      "\"'tidy.numeric' is deprecated.\n",
      "See help(\"Deprecated\")\"\n",
      "Warning message:\n",
      "\"'tidy.numeric' is deprecated.\n",
      "See help(\"Deprecated\")\"\n",
      "Warning message:\n",
      "\"'tidy.numeric' is deprecated.\n",
      "See help(\"Deprecated\")\"\n"
     ]
    }
   ],
   "source": [
    "mod_yield_PMIII_nomanure <- data_rs %>%\n",
    "  filter(!is_manure) %>%\n",
    "  select(Year, ID, yield_t.ha, doseP, `P M-III classes`) %>%\n",
    "  drop_na() %>%\n",
    "  droplevels() %>%\n",
    "  split(.$`P M-III classes`) %>%\n",
    "  map(~ lme(yield_t.ha ~ doseP,\n",
    "            random = ~ 1|Year/ID,\n",
    "            data = .)) %>%\n",
    "  map_dfr(~tidy(fixef(.)), .id = 'source')"
   ]
  },
  {
   "cell_type": "markdown",
   "metadata": {},
   "source": [
    "##### With manure"
   ]
  },
  {
   "cell_type": "code",
   "execution_count": 8,
   "metadata": {},
   "outputs": [
    {
     "name": "stderr",
     "output_type": "stream",
     "text": [
      "Warning message:\n",
      "\"'tidy.numeric' is deprecated.\n",
      "See help(\"Deprecated\")\"\n",
      "Warning message:\n",
      "\"'tidy.numeric' is deprecated.\n",
      "See help(\"Deprecated\")\"\n",
      "Warning message:\n",
      "\"'tidy.numeric' is deprecated.\n",
      "See help(\"Deprecated\")\"\n",
      "Warning message:\n",
      "\"'tidy.numeric' is deprecated.\n",
      "See help(\"Deprecated\")\"\n"
     ]
    }
   ],
   "source": [
    "mod_yield_PMIII_manure <- data_rs %>%\n",
    "  filter(is_manure) %>%\n",
    "  select(Year, ID, yield_t.ha, doseP, `P M-III classes`) %>%\n",
    "  drop_na() %>%\n",
    "  filter(`P M-III classes` != \"(0,50]\") %>% # few points\n",
    "  droplevels() %>%\n",
    "  split(.$`P M-III classes`) %>%\n",
    "  map(~ lme(yield_t.ha ~ doseP,\n",
    "            random = ~ 1|Year/ID,\n",
    "            data = .)) %>%\n",
    "  map_dfr(~tidy(fixef(.)), .id = 'source')"
   ]
  },
  {
   "cell_type": "markdown",
   "metadata": {},
   "source": [
    "### Grain density"
   ]
  },
  {
   "cell_type": "markdown",
   "metadata": {},
   "source": [
    "#### P/Al"
   ]
  },
  {
   "cell_type": "markdown",
   "metadata": {},
   "source": [
    "##### Without manure"
   ]
  },
  {
   "cell_type": "code",
   "execution_count": 9,
   "metadata": {},
   "outputs": [
    {
     "name": "stderr",
     "output_type": "stream",
     "text": [
      "Warning message:\n",
      "\"'tidy.numeric' is deprecated.\n",
      "See help(\"Deprecated\")\"\n",
      "Warning message:\n",
      "\"'tidy.numeric' is deprecated.\n",
      "See help(\"Deprecated\")\"\n",
      "Warning message:\n",
      "\"'tidy.numeric' is deprecated.\n",
      "See help(\"Deprecated\")\"\n",
      "Warning message:\n",
      "\"'tidy.numeric' is deprecated.\n",
      "See help(\"Deprecated\")\"\n",
      "Warning message:\n",
      "\"'tidy.numeric' is deprecated.\n",
      "See help(\"Deprecated\")\"\n",
      "Warning message:\n",
      "\"'tidy.numeric' is deprecated.\n",
      "See help(\"Deprecated\")\"\n"
     ]
    }
   ],
   "source": [
    "mod_dens_P.Al_nomanure <- data_rs %>%\n",
    "  filter(!is_manure) %>%\n",
    "  select(Year, ID, graindensity_g.L, doseP, `P/Al classes`) %>%\n",
    "  drop_na() %>%\n",
    "  droplevels() %>%\n",
    "  split(.$`P/Al classes`) %>%\n",
    "  map(~ lme(graindensity_g.L ~ doseP,\n",
    "            random = ~ 1|Year/ID,\n",
    "            data = .)) %>%\n",
    "  map_dfr(~tidy(fixef(.)), .id = 'source')"
   ]
  },
  {
   "cell_type": "markdown",
   "metadata": {},
   "source": [
    "##### With manure"
   ]
  },
  {
   "cell_type": "code",
   "execution_count": 10,
   "metadata": {},
   "outputs": [
    {
     "name": "stderr",
     "output_type": "stream",
     "text": [
      "Warning message:\n",
      "\"'tidy.numeric' is deprecated.\n",
      "See help(\"Deprecated\")\"\n",
      "Warning message:\n",
      "\"'tidy.numeric' is deprecated.\n",
      "See help(\"Deprecated\")\"\n",
      "Warning message:\n",
      "\"'tidy.numeric' is deprecated.\n",
      "See help(\"Deprecated\")\"\n",
      "Warning message:\n",
      "\"'tidy.numeric' is deprecated.\n",
      "See help(\"Deprecated\")\"\n"
     ]
    }
   ],
   "source": [
    "mod_dens_P.Al_manure <- data_rs %>%\n",
    "  filter(is_manure) %>%\n",
    "  select(Year, ID, graindensity_g.L, doseP, `P/Al classes`) %>%\n",
    "  drop_na() %>%\n",
    "  filter(`P/Al classes` != \"(2.5,5]\") %>% # only two points\n",
    "  droplevels() %>%\n",
    "  split(.$`P/Al classes`) %>%\n",
    "  map(~ lme(graindensity_g.L ~ doseP,\n",
    "            random = ~ 1|Year/ID,\n",
    "            data = .)) %>%\n",
    "  map_dfr(~tidy(fixef(.)), .id = 'source')"
   ]
  },
  {
   "cell_type": "markdown",
   "metadata": {},
   "source": [
    "#### P M-III"
   ]
  },
  {
   "cell_type": "markdown",
   "metadata": {},
   "source": [
    "##### Without manure"
   ]
  },
  {
   "cell_type": "code",
   "execution_count": 11,
   "metadata": {},
   "outputs": [
    {
     "name": "stderr",
     "output_type": "stream",
     "text": [
      "Warning message:\n",
      "\"'tidy.numeric' is deprecated.\n",
      "See help(\"Deprecated\")\"\n",
      "Warning message:\n",
      "\"'tidy.numeric' is deprecated.\n",
      "See help(\"Deprecated\")\"\n",
      "Warning message:\n",
      "\"'tidy.numeric' is deprecated.\n",
      "See help(\"Deprecated\")\"\n",
      "Warning message:\n",
      "\"'tidy.numeric' is deprecated.\n",
      "See help(\"Deprecated\")\"\n",
      "Warning message:\n",
      "\"'tidy.numeric' is deprecated.\n",
      "See help(\"Deprecated\")\"\n"
     ]
    }
   ],
   "source": [
    "mod_dens_PMIII_nomanure <- data_rs %>%\n",
    "  filter(!is_manure) %>%\n",
    "  select(Year, ID, graindensity_g.L, doseP, `P M-III classes`) %>%\n",
    "  drop_na() %>%\n",
    "  droplevels() %>%\n",
    "  split(.$`P M-III classes`) %>%\n",
    "  map(~ lme(graindensity_g.L ~ doseP,\n",
    "            random = ~ 1|Year/ID,\n",
    "            data = .)) %>%\n",
    "  map_dfr(~tidy(fixef(.)), .id = 'source')"
   ]
  },
  {
   "cell_type": "markdown",
   "metadata": {},
   "source": [
    "##### With manure"
   ]
  },
  {
   "cell_type": "code",
   "execution_count": 12,
   "metadata": {},
   "outputs": [
    {
     "name": "stderr",
     "output_type": "stream",
     "text": [
      "Warning message:\n",
      "\"'tidy.numeric' is deprecated.\n",
      "See help(\"Deprecated\")\"\n",
      "Warning message:\n",
      "\"'tidy.numeric' is deprecated.\n",
      "See help(\"Deprecated\")\"\n",
      "Warning message:\n",
      "\"'tidy.numeric' is deprecated.\n",
      "See help(\"Deprecated\")\"\n",
      "Warning message:\n",
      "\"'tidy.numeric' is deprecated.\n",
      "See help(\"Deprecated\")\"\n"
     ]
    }
   ],
   "source": [
    "mod_dens_PMIII_manure <- data_rs %>%\n",
    "  filter(is_manure) %>%\n",
    "  select(Year, ID, graindensity_g.L, doseP, `P M-III classes`) %>%\n",
    "  drop_na() %>%\n",
    "  filter(`P M-III classes` != \"(0,50]\") %>% # few points\n",
    "  droplevels() %>%\n",
    "  split(.$`P M-III classes`) %>%\n",
    "  map(~ lme(graindensity_g.L ~ doseP,\n",
    "            random = ~ 1|Year/ID,\n",
    "            data = .)) %>%\n",
    "  map_dfr(~tidy(fixef(.)), .id = 'source')"
   ]
  },
  {
   "cell_type": "markdown",
   "metadata": {},
   "source": [
    "### Grain moisture"
   ]
  },
  {
   "cell_type": "markdown",
   "metadata": {},
   "source": [
    "#### P/Al"
   ]
  },
  {
   "cell_type": "markdown",
   "metadata": {},
   "source": [
    "##### Without manure"
   ]
  },
  {
   "cell_type": "code",
   "execution_count": 13,
   "metadata": {},
   "outputs": [
    {
     "name": "stderr",
     "output_type": "stream",
     "text": [
      "Warning message:\n",
      "\"'tidy.numeric' is deprecated.\n",
      "See help(\"Deprecated\")\"\n",
      "Warning message:\n",
      "\"'tidy.numeric' is deprecated.\n",
      "See help(\"Deprecated\")\"\n",
      "Warning message:\n",
      "\"'tidy.numeric' is deprecated.\n",
      "See help(\"Deprecated\")\"\n",
      "Warning message:\n",
      "\"'tidy.numeric' is deprecated.\n",
      "See help(\"Deprecated\")\"\n",
      "Warning message:\n",
      "\"'tidy.numeric' is deprecated.\n",
      "See help(\"Deprecated\")\"\n",
      "Warning message:\n",
      "\"'tidy.numeric' is deprecated.\n",
      "See help(\"Deprecated\")\"\n"
     ]
    }
   ],
   "source": [
    "mod_moist_P.Al_nomanure <- data_rs %>%\n",
    "  filter(!is_manure) %>%\n",
    "  filter(grainmoisture_perc > 10) %>%\n",
    "  select(Year, ID, grainmoisture_perc, doseP, `P/Al classes`) %>%\n",
    "  drop_na() %>%\n",
    "  droplevels() %>%\n",
    "  split(.$`P/Al classes`) %>%\n",
    "  map(~ lme(grainmoisture_perc ~ doseP,\n",
    "            random = ~ 1|Year/ID,\n",
    "            data = .)) %>%\n",
    "  map_dfr(~tidy(fixef(.)), .id = 'source')"
   ]
  },
  {
   "cell_type": "markdown",
   "metadata": {},
   "source": [
    "##### With manure"
   ]
  },
  {
   "cell_type": "code",
   "execution_count": 14,
   "metadata": {},
   "outputs": [
    {
     "name": "stderr",
     "output_type": "stream",
     "text": [
      "Warning message:\n",
      "\"'tidy.numeric' is deprecated.\n",
      "See help(\"Deprecated\")\"\n",
      "Warning message:\n",
      "\"'tidy.numeric' is deprecated.\n",
      "See help(\"Deprecated\")\"\n",
      "Warning message:\n",
      "\"'tidy.numeric' is deprecated.\n",
      "See help(\"Deprecated\")\"\n",
      "Warning message:\n",
      "\"'tidy.numeric' is deprecated.\n",
      "See help(\"Deprecated\")\"\n"
     ]
    }
   ],
   "source": [
    "mod_moist_P.Al_manure <- data_rs %>%\n",
    "  filter(is_manure) %>%\n",
    "  filter(grainmoisture_perc > 10) %>%\n",
    "  select(Year, ID, grainmoisture_perc, doseP, `P/Al classes`) %>%\n",
    "  drop_na() %>%\n",
    "  filter(`P/Al classes` != \"(2.5,5]\") %>% # only two points\n",
    "  droplevels() %>%\n",
    "  split(.$`P/Al classes`) %>%\n",
    "  map(~ lme(grainmoisture_perc ~ doseP,\n",
    "            random = ~ 1|Year/ID,\n",
    "            data = .)) %>%\n",
    "  map_dfr(~tidy(fixef(.)), .id = 'source')"
   ]
  },
  {
   "cell_type": "markdown",
   "metadata": {},
   "source": [
    "#### P M-III"
   ]
  },
  {
   "cell_type": "markdown",
   "metadata": {},
   "source": [
    "##### Without manure"
   ]
  },
  {
   "cell_type": "code",
   "execution_count": 15,
   "metadata": {},
   "outputs": [
    {
     "name": "stderr",
     "output_type": "stream",
     "text": [
      "Warning message:\n",
      "\"'tidy.numeric' is deprecated.\n",
      "See help(\"Deprecated\")\"\n",
      "Warning message:\n",
      "\"'tidy.numeric' is deprecated.\n",
      "See help(\"Deprecated\")\"\n",
      "Warning message:\n",
      "\"'tidy.numeric' is deprecated.\n",
      "See help(\"Deprecated\")\"\n",
      "Warning message:\n",
      "\"'tidy.numeric' is deprecated.\n",
      "See help(\"Deprecated\")\"\n",
      "Warning message:\n",
      "\"'tidy.numeric' is deprecated.\n",
      "See help(\"Deprecated\")\"\n"
     ]
    }
   ],
   "source": [
    "mod_moist_PMIII_nomanure <- data_rs %>%\n",
    "  filter(!is_manure) %>%\n",
    "  select(Year, ID, grainmoisture_perc, doseP, `P M-III classes`) %>%\n",
    "  drop_na() %>%\n",
    "  droplevels() %>%\n",
    "  split(.$`P M-III classes`) %>%\n",
    "  map(~ lme(grainmoisture_perc ~ doseP,\n",
    "            random = ~ 1|Year/ID,\n",
    "            data = .)) %>%\n",
    "  map_dfr(~tidy(fixef(.)), .id = 'source')"
   ]
  },
  {
   "cell_type": "markdown",
   "metadata": {},
   "source": [
    "##### With manure"
   ]
  },
  {
   "cell_type": "code",
   "execution_count": 16,
   "metadata": {},
   "outputs": [
    {
     "name": "stderr",
     "output_type": "stream",
     "text": [
      "Warning message:\n",
      "\"'tidy.numeric' is deprecated.\n",
      "See help(\"Deprecated\")\"\n",
      "Warning message:\n",
      "\"'tidy.numeric' is deprecated.\n",
      "See help(\"Deprecated\")\"\n",
      "Warning message:\n",
      "\"'tidy.numeric' is deprecated.\n",
      "See help(\"Deprecated\")\"\n",
      "Warning message:\n",
      "\"'tidy.numeric' is deprecated.\n",
      "See help(\"Deprecated\")\"\n"
     ]
    }
   ],
   "source": [
    "mod_moist_PMIII_manure <- data_rs %>%\n",
    "  filter(is_manure) %>%\n",
    "  select(Year, ID, grainmoisture_perc, doseP, `P M-III classes`) %>%\n",
    "  drop_na() %>%\n",
    "  filter(`P M-III classes` != \"(0,50]\") %>% # few points\n",
    "  droplevels() %>%\n",
    "  split(.$`P M-III classes`) %>%\n",
    "  map(~ lme(grainmoisture_perc ~ doseP,\n",
    "            random = ~ 1|Year/ID,\n",
    "            data = .)) %>%\n",
    "  map_dfr(~tidy(fixef(.)), .id = 'source')"
   ]
  },
  {
   "cell_type": "markdown",
   "metadata": {},
   "source": [
    "Model statistics are binded in two tables, with and without manure."
   ]
  },
  {
   "cell_type": "code",
   "execution_count": 17,
   "metadata": {},
   "outputs": [],
   "source": [
    "mod_stats_P.Al_nomanure <- bind_rows(`Grain yield (Mg/ha)` = mod_yield_P.Al_nomanure,\n",
    "                                `Bulk density (g/L)` = mod_dens_P.Al_nomanure,\n",
    "                                `Grain moist. content (%)` = mod_moist_P.Al_nomanure, .id = \"perf_indice\") %>%\n",
    "  spread(names, x) %>%\n",
    "  rename(`P/Al classes` = source)\n",
    "mod_stats_P.Al_nomanure$`P/Al classes` <- factor(mod_stats_P.Al_nomanure$`P/Al classes`, levels = levels(data_rs$`P/Al classes`))"
   ]
  },
  {
   "cell_type": "code",
   "execution_count": 18,
   "metadata": {},
   "outputs": [],
   "source": [
    "mod_stats_P.Al_manure <- bind_rows(`Grain yield (Mg/ha)` = mod_yield_P.Al_manure,\n",
    "                              `Bulk density (g/L)` = mod_dens_P.Al_manure,\n",
    "                              `Grain moist. content (%)` = mod_moist_P.Al_manure, .id = \"perf_indice\") %>%\n",
    "  spread(names, x) %>%\n",
    "  rename(`P/Al classes` = source)\n",
    "mod_stats_P.Al_manure$`P/Al classes` <- factor(mod_stats_P.Al_manure$`P/Al classes`, levels = levels(data_rs$`P/Al classes`))"
   ]
  },
  {
   "cell_type": "code",
   "execution_count": 19,
   "metadata": {},
   "outputs": [],
   "source": [
    "mod_stats_PMIII_nomanure <- bind_rows(`Grain yield (Mg/ha)` = mod_yield_PMIII_nomanure,\n",
    "                                `Bulk density (g/L)` = mod_dens_PMIII_nomanure,\n",
    "                                `Grain moist. content (%)` = mod_moist_PMIII_nomanure, .id = \"perf_indice\") %>%\n",
    "  spread(names, x) %>%\n",
    "  rename(`P M-III classes` = source)\n",
    "mod_stats_PMIII_nomanure$`P M-III classes` <- factor(mod_stats_PMIII_nomanure$`P M-III classes`, levels = levels(data_rs$`P M-III classes`))\n",
    "levels(data_rs$`P M-III classes`) <- paste0(levels(data_rs$`P M-III classes`), \"\\n(mg/kg)\")\n",
    "levels(mod_stats_PMIII_nomanure$`P M-III classes`) <- levels(data_rs$`P M-III classes`)"
   ]
  },
  {
   "cell_type": "code",
   "execution_count": 20,
   "metadata": {},
   "outputs": [],
   "source": [
    "mod_stats_PMIII_manure <- bind_rows(`Grain yield (Mg/ha)` = mod_yield_PMIII_manure,\n",
    "                              `Bulk density (g/L)` = mod_dens_PMIII_manure,\n",
    "                              `Grain moist. content (%)` = mod_moist_PMIII_manure, .id = \"perf_indice\") %>%\n",
    "  spread(names, x) %>%\n",
    "  rename(`P M-III classes` = source)\n",
    "mod_stats_PMIII_manure$`P M-III classes` <- factor(mod_stats_PMIII_manure$`P M-III classes`)\n",
    "levels(mod_stats_PMIII_manure$`P M-III classes`) <- levels(data_rs$`P M-III classes`)[-1]"
   ]
  },
  {
   "cell_type": "markdown",
   "metadata": {},
   "source": [
    "## Plot\n",
    "\n",
    "We rename performance indices with prettier names."
   ]
  },
  {
   "cell_type": "code",
   "execution_count": 21,
   "metadata": {},
   "outputs": [],
   "source": [
    "data_rs <- data_rs %>%\n",
    "  rename(\"Bulk density (g/L)\" = 'graindensity_g.L',\n",
    "         \"Grain moist. content (%)\" = \"grainmoisture_perc\",\n",
    "         \"Grain yield (Mg/ha)\" = \"yield_t.ha\")"
   ]
  },
  {
   "cell_type": "markdown",
   "metadata": {},
   "source": [
    "### P/Al"
   ]
  },
  {
   "cell_type": "markdown",
   "metadata": {},
   "source": [
    "#### Without manure"
   ]
  },
  {
   "cell_type": "code",
   "execution_count": 22,
   "metadata": {},
   "outputs": [],
   "source": [
    "nomanure_df <- data_rs %>%\n",
    "  filter(!is_manure) %>%\n",
    "  gather(key = \"perf_indice\", value = \"performance\", `Grain yield (Mg/ha)`, `Bulk density (g/L)`, `Grain moist. content (%)`)"
   ]
  },
  {
   "cell_type": "markdown",
   "metadata": {},
   "source": [
    "The expression on the y-axis can go through a label_parser. But there seem to be a bug in ggplot that prevent doing so. The following block creates a plot with correct labels which will be copy-pasted with an image editor (GIMP)."
   ]
  },
  {
   "cell_type": "code",
   "execution_count": 23,
   "metadata": {},
   "outputs": [],
   "source": [
    "nomanure_df$perf_indice <- factor(nomanure_df$perf_indice)\n",
    "levels(nomanure_df$perf_indice) <- c(expression(\"Bulk density (g\"^\"-1\"~\"•L)\"),\n",
    "                                   expression(\"Grain moist content (%\"~\")\"),\n",
    "                                   expression(\"Grain yield (Mg\"^\"-1\"~\"•ha)\"))"
   ]
  },
  {
   "cell_type": "markdown",
   "metadata": {},
   "source": [
    "I recover the label on the following plot."
   ]
  },
  {
   "cell_type": "code",
   "execution_count": 24,
   "metadata": {},
   "outputs": [
    {
     "name": "stderr",
     "output_type": "stream",
     "text": [
      "Warning message:\n",
      "\"Removed 1942 rows containing missing values (geom_point).\"\n",
      "Warning message:\n",
      "\"Removed 1942 rows containing missing values (geom_point).\"\n"
     ]
    },
    {
     "data": {
      "image/png": "[encoded data removed]",
      "text/plain": [
       "plot without title"
      ]
     },
     "metadata": {
      "image/png": {
       "height": 420,
       "width": 420
      },
      "text/plain": {
       "height": 420,
       "width": 420
      }
     },
     "output_type": "display_data"
    }
   ],
   "source": [
    "nomanure_df %>%\n",
    "  ggplot(aes(x = doseP, y = performance)) +\n",
    "  geom_point() +\n",
    "  facet_grid(perf_indice ~ ., labeller = label_parsed, switch=\"y\") +\n",
    "  theme_bw() +\n",
    "  theme(axis.title.y = element_blank(),\n",
    "        strip.background = element_rect(fill = \"transparent\", colour = \"transparent\"),\n",
    "        strip.placement = \"outside\",\n",
    "        strip.text.y = element_text(angle=270)) +\n",
    "  ggsave(\"images/dummy-label.png\", height = 10, width = 8, dpi = 600)"
   ]
  },
  {
   "cell_type": "markdown",
   "metadata": {},
   "source": [
    "And I create the plot as usual, but with incorret labels."
   ]
  },
  {
   "cell_type": "code",
   "execution_count": 25,
   "metadata": {},
   "outputs": [],
   "source": [
    "gg_nomanure <- nomanure_df %>%\n",
    "  ggplot(aes(x = doseP, y = performance)) +\n",
    "  geom_abline(data = mod_stats_P.Al_nomanure, aes(intercept = `(Intercept)`, slope = doseP), size = 0.75) +\n",
    "  geom_point(size = 1.5, alpha = 0.5, pch = 21, fill = \"white\") +\n",
    "  facet_grid(perf_indice ~ `P/Al classes`, scales = \"free\", labeller = labeller(.cols = label_both), switch=\"y\") +\n",
    "  labs(title = \"Without manure\", x = expression(\"Dose P (kg ha\"^\"-1\"~\")\")) +\n",
    "  expand_limits(x = c(0, 70)) +\n",
    "  theme_bw() +\n",
    "  theme(axis.title.y = element_blank(),\n",
    "        strip.background = element_rect(fill = \"transparent\", colour = \"transparent\"),\n",
    "        strip.placement = \"outside\",\n",
    "        strip.text.y = element_text(angle=270))"
   ]
  },
  {
   "cell_type": "markdown",
   "metadata": {},
   "source": [
    "#### With manure"
   ]
  },
  {
   "cell_type": "markdown",
   "metadata": {},
   "source": [
    "Because their is no data in some P/Al categories, we append empty rows only filled with P/Al categories, assuring that the plot renders all categories, with empty spaces where the category is absent."
   ]
  },
  {
   "cell_type": "code",
   "execution_count": 26,
   "metadata": {},
   "outputs": [],
   "source": [
    "# tweak to force ploting the (0,2.5] category\n",
    "manure_df <- data_rs %>%\n",
    "  filter(is_manure) %>%\n",
    "  #filter(ID != 549) %>% # moisture unusually low\n",
    "  gather(key = \"perf_indice\", value = \"performance\", `Grain yield (Mg/ha)`, `Bulk density (g/L)`, `Grain moist. content (%)`) \n",
    "manure_na <- manure_df[1:nlevels(pull(data_rs[\"P/Al classes\"])), ]\n",
    "manure_na[1:nrow(manure_na), ] <- NA\n",
    "manure_na[, \"P/Al classes\"] <- factor(levels(pull(data_rs[\"P/Al classes\"])), levels = levels(pull(data_rs[\"P/Al classes\"])))\n",
    "manure_na[\"perf_indice\"] <- rep(\"Grain yield (Mg/ha)\", nlevels(pull(data_rs[\"P/Al classes\"])))\n",
    "manure_df <- bind_rows(manure_df, manure_na) %>%\n",
    "  filter(!(perf_indice == \"Grain moist. content (%)\" & performance < 10))"
   ]
  },
  {
   "cell_type": "markdown",
   "metadata": {},
   "source": [
    "The following code block is deactivated. The expressions are valid but don't seem to "
   ]
  },
  {
   "cell_type": "raw",
   "metadata": {},
   "source": [
    "manure_df$perf_indice <- factor(manure_df$perf_indice)\n",
    "levels(manure_df$perf_indice) <- c(expression(\"Bulk density (g•\"^\"-1\"~\"L)\"),#expression(\"Bulk density (g•\"*L^\"-1\"*\")\"),\n",
    "                                   expression(\"Grain moist content (%\"~\")\"),\n",
    "                                   expression(\"Grain yield (Mg•\"^\"-1\"~\"ha)\"))#expression(\"Grain yield (Mg•\"*ha^\"-1\"*\")\"))"
   ]
  },
  {
   "cell_type": "code",
   "execution_count": 27,
   "metadata": {},
   "outputs": [],
   "source": [
    "# plot\n",
    "## options(repr.plot.width = 8, repr.plot.height = 5)\n",
    "gg_manure <- manure_df %>%\n",
    "  ggplot(aes(x = doseP, y = performance)) +\n",
    "  geom_abline(data = mod_stats_P.Al_manure, aes(intercept = `(Intercept)`, slope = doseP), size = 0.75) +\n",
    "  geom_point(size = 1.5, alpha = 0.5, pch = 21, fill = \"white\") +\n",
    "  facet_grid(perf_indice ~ `P/Al classes`, scales = \"free\",\n",
    "             labeller = labeller(.cols = label_both),\n",
    "             switch=\"y\") +\n",
    "  labs(title = \"With manure\", x = expression(\"Dose P (kg ha\"^\"-1\"~\")\")) +\n",
    "  expand_limits(x = c(0, 70)) +\n",
    "  theme_bw() +\n",
    "  theme(axis.title.y = element_blank(),\n",
    "        strip.background = element_rect(fill = \"transparent\", colour = \"transparent\"),\n",
    "        strip.placement = \"outside\",\n",
    "        strip.text.y = element_text(angle=270))"
   ]
  },
  {
   "cell_type": "code",
   "execution_count": 28,
   "metadata": {},
   "outputs": [
    {
     "name": "stderr",
     "output_type": "stream",
     "text": [
      "Warning message:\n",
      "\"Removed 1942 rows containing missing values (geom_point).\"\n",
      "Warning message:\n",
      "\"Removed 1145 rows containing missing values (geom_point).\"\n"
     ]
    },
    {
     "data": {
      "image/png": "[encoded data removed]",
      "text/plain": [
       "plot without title"
      ]
     },
     "metadata": {
      "image/png": {
       "height": 720,
       "width": 480
      },
      "text/plain": {
       "height": 720,
       "width": 480
      }
     },
     "output_type": "display_data"
    }
   ],
   "source": [
    "options(repr.plot.width = 8, repr.plot.height = 12)\n",
    "plot_grid(gg_nomanure, gg_manure, ncol = 1)"
   ]
  },
  {
   "cell_type": "code",
   "execution_count": 29,
   "metadata": {},
   "outputs": [],
   "source": [
    "ggsave(\"images/performance-p.al-cat.png\", height = 10, width = 8, dpi = 600)"
   ]
  },
  {
   "cell_type": "markdown",
   "metadata": {},
   "source": [
    "### P-MIII"
   ]
  },
  {
   "cell_type": "markdown",
   "metadata": {},
   "source": [
    "#### Without manure"
   ]
  },
  {
   "cell_type": "code",
   "execution_count": 30,
   "metadata": {},
   "outputs": [],
   "source": [
    "gg_nomanure <- data_rs %>%\n",
    "  filter(!is_manure) %>%\n",
    "  gather(key = \"perf_indice\", value = \"performance\", `Grain yield (Mg/ha)`, `Bulk density (g/L)`, `Grain moist. content (%)`) %>%\n",
    "  ggplot(aes(x = doseP, y = performance)) +\n",
    "  geom_abline(data = mod_stats_PMIII_nomanure, aes(intercept = `(Intercept)`, slope = doseP), size = 0.75) +\n",
    "  geom_point(size = 1.5, alpha = 0.5, pch = 21, fill = \"white\") +\n",
    "  facet_grid(perf_indice ~ `P M-III classes`, scales = \"free\", labeller=labeller(.cols = label_both), switch=\"y\") +\n",
    "  labs(title = \"Without manure\", x = expression(\"Dose P (kg ha\"^\"-1\"~\")\")) +\n",
    "  expand_limits(x = c(0, 70)) +\n",
    "  theme_bw() +\n",
    "  theme(axis.title.y = element_blank(),\n",
    "        strip.background = element_rect(fill = \"transparent\", colour = \"transparent\"),\n",
    "        strip.placement = \"outside\",\n",
    "        strip.text.y = element_text(angle=270))"
   ]
  },
  {
   "cell_type": "markdown",
   "metadata": {},
   "source": [
    "#### With manure"
   ]
  },
  {
   "cell_type": "code",
   "execution_count": 31,
   "metadata": {},
   "outputs": [],
   "source": [
    "# plot\n",
    "## options(repr.plot.width = 8, repr.plot.height = 5)\n",
    "gg_manure <- data_rs %>%\n",
    "  filter(is_manure) %>%\n",
    "  gather(key = \"perf_indice\", value = \"performance\", `Grain yield (Mg/ha)`, `Bulk density (g/L)`, `Grain moist. content (%)`) %>%\n",
    "  ggplot(aes(x = doseP, y = performance)) +\n",
    "  geom_abline(data = mod_stats_PMIII_manure, aes(intercept = `(Intercept)`, slope = doseP), size = 0.75) +\n",
    "  geom_point(size = 1.5, alpha = 0.5, pch = 21, fill = \"white\") +\n",
    "  facet_grid(perf_indice ~ `P M-III classes`, scales = \"free\", labeller=labeller(.cols = label_both), switch=\"y\") +\n",
    "  labs(title = \"With manure\", x = expression(\"Dose P (kg ha\"^\"-1\"~\")\")) +\n",
    "  expand_limits(x = c(0, 70)) +\n",
    "  theme_bw() +\n",
    "  theme(axis.title.y = element_blank(),\n",
    "        strip.background = element_rect(fill = \"transparent\", colour = \"transparent\"),\n",
    "        strip.placement = \"outside\",\n",
    "        strip.text.y = element_text(angle=270))"
   ]
  },
  {
   "cell_type": "code",
   "execution_count": 32,
   "metadata": {},
   "outputs": [
    {
     "name": "stderr",
     "output_type": "stream",
     "text": [
      "Warning message:\n",
      "\"Removed 1942 rows containing missing values (geom_point).\"\n",
      "Warning message:\n",
      "\"Removed 1703 rows containing missing values (geom_point).\"\n"
     ]
    },
    {
     "data": {
      "image/png": "[encoded data removed]",
      "text/plain": [
       "plot without title"
      ]
     },
     "metadata": {
      "image/png": {
       "height": 720,
       "width": 480
      },
      "text/plain": {
       "height": 720,
       "width": 480
      }
     },
     "output_type": "display_data"
    }
   ],
   "source": [
    "options(repr.plot.width = 8, repr.plot.height = 12)\n",
    "plot_grid(gg_nomanure, gg_manure, ncol = 1)"
   ]
  },
  {
   "cell_type": "code",
   "execution_count": 33,
   "metadata": {},
   "outputs": [],
   "source": [
    "ggsave(\"images/performance-p.al-cat.png\", height = 10, width = 8, dpi = 600)"
   ]
  }
 ],
 "metadata": {
  "kernelspec": {
   "display_name": "R",
   "language": "R",
   "name": "ir"
  },
  "language_info": {
   "codemirror_mode": "r",
   "file_extension": ".r",
   "mimetype": "text/x-r-source",
   "name": "R",
   "pygments_lexer": "r",
   "version": "3.6.2"
  }
 },
 "nbformat": 4,
 "nbformat_minor": 4
}
